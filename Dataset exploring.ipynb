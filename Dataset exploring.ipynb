{
 "cells": [
  {
   "cell_type": "code",
   "execution_count": 1,
   "id": "mediterranean-budapest",
   "metadata": {},
   "outputs": [],
   "source": [
    "'''ДЗ 1'''\n",
    "import pandas as pd"
   ]
  },
  {
   "cell_type": "code",
   "execution_count": 2,
   "id": "better-yorkshire",
   "metadata": {},
   "outputs": [],
   "source": [
    "sample_data=pd.read_csv('test.csv')"
   ]
  },
  {
   "cell_type": "code",
   "execution_count": 3,
   "id": "republican-lightweight",
   "metadata": {},
   "outputs": [
    {
     "data": {
      "text/html": [
       "<div>\n",
       "<style scoped>\n",
       "    .dataframe tbody tr th:only-of-type {\n",
       "        vertical-align: middle;\n",
       "    }\n",
       "\n",
       "    .dataframe tbody tr th {\n",
       "        vertical-align: top;\n",
       "    }\n",
       "\n",
       "    .dataframe thead th {\n",
       "        text-align: right;\n",
       "    }\n",
       "</style>\n",
       "<table border=\"1\" class=\"dataframe\">\n",
       "  <thead>\n",
       "    <tr style=\"text-align: right;\">\n",
       "      <th></th>\n",
       "      <th>customer_id</th>\n",
       "      <th>customer_visit_score</th>\n",
       "      <th>customer_product_search_score</th>\n",
       "      <th>customer_ctr_score</th>\n",
       "      <th>customer_stay_score</th>\n",
       "      <th>customer_frequency_score</th>\n",
       "      <th>customer_product_variation_score</th>\n",
       "      <th>customer_order_score</th>\n",
       "      <th>customer_affinity_score</th>\n",
       "      <th>customer_active_segment</th>\n",
       "      <th>X1</th>\n",
       "    </tr>\n",
       "  </thead>\n",
       "  <tbody>\n",
       "    <tr>\n",
       "      <th>0</th>\n",
       "      <td>csid_10739</td>\n",
       "      <td>22.500174</td>\n",
       "      <td>3.702145</td>\n",
       "      <td>0.118811</td>\n",
       "      <td>0.093253</td>\n",
       "      <td>0.689237</td>\n",
       "      <td>5.786842</td>\n",
       "      <td>3.748009</td>\n",
       "      <td>7.661716</td>\n",
       "      <td>B</td>\n",
       "      <td>BA</td>\n",
       "    </tr>\n",
       "    <tr>\n",
       "      <th>1</th>\n",
       "      <td>csid_10740</td>\n",
       "      <td>13.225950</td>\n",
       "      <td>3.600102</td>\n",
       "      <td>0.130985</td>\n",
       "      <td>0.053575</td>\n",
       "      <td>0.142756</td>\n",
       "      <td>3.940359</td>\n",
       "      <td>3.469659</td>\n",
       "      <td>33.999679</td>\n",
       "      <td>B</td>\n",
       "      <td>AA</td>\n",
       "    </tr>\n",
       "    <tr>\n",
       "      <th>2</th>\n",
       "      <td>csid_10741</td>\n",
       "      <td>14.603376</td>\n",
       "      <td>5.084047</td>\n",
       "      <td>-0.004651</td>\n",
       "      <td>-0.036299</td>\n",
       "      <td>0.333709</td>\n",
       "      <td>4.254662</td>\n",
       "      <td>3.855939</td>\n",
       "      <td>33.485630</td>\n",
       "      <td>B</td>\n",
       "      <td>AA</td>\n",
       "    </tr>\n",
       "    <tr>\n",
       "      <th>3</th>\n",
       "      <td>csid_10742</td>\n",
       "      <td>26.149905</td>\n",
       "      <td>3.025501</td>\n",
       "      <td>0.229740</td>\n",
       "      <td>0.204591</td>\n",
       "      <td>3.768405</td>\n",
       "      <td>6.942625</td>\n",
       "      <td>2.362421</td>\n",
       "      <td>0.795372</td>\n",
       "      <td>B</td>\n",
       "      <td>BA</td>\n",
       "    </tr>\n",
       "    <tr>\n",
       "      <th>4</th>\n",
       "      <td>csid_10743</td>\n",
       "      <td>19.810630</td>\n",
       "      <td>5.020400</td>\n",
       "      <td>-0.011347</td>\n",
       "      <td>-0.028780</td>\n",
       "      <td>0.286841</td>\n",
       "      <td>4.585513</td>\n",
       "      <td>3.278624</td>\n",
       "      <td>15.052058</td>\n",
       "      <td>C</td>\n",
       "      <td>BA</td>\n",
       "    </tr>\n",
       "    <tr>\n",
       "      <th>...</th>\n",
       "      <td>...</td>\n",
       "      <td>...</td>\n",
       "      <td>...</td>\n",
       "      <td>...</td>\n",
       "      <td>...</td>\n",
       "      <td>...</td>\n",
       "      <td>...</td>\n",
       "      <td>...</td>\n",
       "      <td>...</td>\n",
       "      <td>...</td>\n",
       "      <td>...</td>\n",
       "    </tr>\n",
       "    <tr>\n",
       "      <th>7155</th>\n",
       "      <td>csid_17894</td>\n",
       "      <td>18.164300</td>\n",
       "      <td>7.240835</td>\n",
       "      <td>-0.056238</td>\n",
       "      <td>-0.177289</td>\n",
       "      <td>0.336608</td>\n",
       "      <td>4.043067</td>\n",
       "      <td>4.758199</td>\n",
       "      <td>68.052717</td>\n",
       "      <td>C</td>\n",
       "      <td>AA</td>\n",
       "    </tr>\n",
       "    <tr>\n",
       "      <th>7156</th>\n",
       "      <td>csid_17895</td>\n",
       "      <td>25.363705</td>\n",
       "      <td>4.881059</td>\n",
       "      <td>0.038720</td>\n",
       "      <td>0.054397</td>\n",
       "      <td>2.452571</td>\n",
       "      <td>7.582251</td>\n",
       "      <td>1.823892</td>\n",
       "      <td>2.080245</td>\n",
       "      <td>C</td>\n",
       "      <td>BA</td>\n",
       "    </tr>\n",
       "    <tr>\n",
       "      <th>7157</th>\n",
       "      <td>csid_17896</td>\n",
       "      <td>11.160720</td>\n",
       "      <td>5.019859</td>\n",
       "      <td>0.053864</td>\n",
       "      <td>-0.102337</td>\n",
       "      <td>4.968183</td>\n",
       "      <td>8.585355</td>\n",
       "      <td>2.422193</td>\n",
       "      <td>0.616082</td>\n",
       "      <td>C</td>\n",
       "      <td>BA</td>\n",
       "    </tr>\n",
       "    <tr>\n",
       "      <th>7158</th>\n",
       "      <td>csid_17897</td>\n",
       "      <td>17.140020</td>\n",
       "      <td>9.269037</td>\n",
       "      <td>0.059911</td>\n",
       "      <td>-0.004299</td>\n",
       "      <td>0.357399</td>\n",
       "      <td>4.193971</td>\n",
       "      <td>3.715392</td>\n",
       "      <td>26.939493</td>\n",
       "      <td>C</td>\n",
       "      <td>BA</td>\n",
       "    </tr>\n",
       "    <tr>\n",
       "      <th>7159</th>\n",
       "      <td>csid_17898</td>\n",
       "      <td>10.698835</td>\n",
       "      <td>12.173331</td>\n",
       "      <td>0.475469</td>\n",
       "      <td>0.014124</td>\n",
       "      <td>23.358252</td>\n",
       "      <td>10.805826</td>\n",
       "      <td>1.571717</td>\n",
       "      <td>0.133973</td>\n",
       "      <td>B</td>\n",
       "      <td>BA</td>\n",
       "    </tr>\n",
       "  </tbody>\n",
       "</table>\n",
       "<p>7160 rows × 11 columns</p>\n",
       "</div>"
      ],
      "text/plain": [
       "     customer_id  customer_visit_score  customer_product_search_score  \\\n",
       "0     csid_10739             22.500174                       3.702145   \n",
       "1     csid_10740             13.225950                       3.600102   \n",
       "2     csid_10741             14.603376                       5.084047   \n",
       "3     csid_10742             26.149905                       3.025501   \n",
       "4     csid_10743             19.810630                       5.020400   \n",
       "...          ...                   ...                            ...   \n",
       "7155  csid_17894             18.164300                       7.240835   \n",
       "7156  csid_17895             25.363705                       4.881059   \n",
       "7157  csid_17896             11.160720                       5.019859   \n",
       "7158  csid_17897             17.140020                       9.269037   \n",
       "7159  csid_17898             10.698835                      12.173331   \n",
       "\n",
       "      customer_ctr_score  customer_stay_score  customer_frequency_score  \\\n",
       "0               0.118811             0.093253                  0.689237   \n",
       "1               0.130985             0.053575                  0.142756   \n",
       "2              -0.004651            -0.036299                  0.333709   \n",
       "3               0.229740             0.204591                  3.768405   \n",
       "4              -0.011347            -0.028780                  0.286841   \n",
       "...                  ...                  ...                       ...   \n",
       "7155           -0.056238            -0.177289                  0.336608   \n",
       "7156            0.038720             0.054397                  2.452571   \n",
       "7157            0.053864            -0.102337                  4.968183   \n",
       "7158            0.059911            -0.004299                  0.357399   \n",
       "7159            0.475469             0.014124                 23.358252   \n",
       "\n",
       "      customer_product_variation_score  customer_order_score  \\\n",
       "0                             5.786842              3.748009   \n",
       "1                             3.940359              3.469659   \n",
       "2                             4.254662              3.855939   \n",
       "3                             6.942625              2.362421   \n",
       "4                             4.585513              3.278624   \n",
       "...                                ...                   ...   \n",
       "7155                          4.043067              4.758199   \n",
       "7156                          7.582251              1.823892   \n",
       "7157                          8.585355              2.422193   \n",
       "7158                          4.193971              3.715392   \n",
       "7159                         10.805826              1.571717   \n",
       "\n",
       "      customer_affinity_score customer_active_segment  X1  \n",
       "0                    7.661716                       B  BA  \n",
       "1                   33.999679                       B  AA  \n",
       "2                   33.485630                       B  AA  \n",
       "3                    0.795372                       B  BA  \n",
       "4                   15.052058                       C  BA  \n",
       "...                       ...                     ...  ..  \n",
       "7155                68.052717                       C  AA  \n",
       "7156                 2.080245                       C  BA  \n",
       "7157                 0.616082                       C  BA  \n",
       "7158                26.939493                       C  BA  \n",
       "7159                 0.133973                       B  BA  \n",
       "\n",
       "[7160 rows x 11 columns]"
      ]
     },
     "execution_count": 3,
     "metadata": {},
     "output_type": "execute_result"
    }
   ],
   "source": [
    "sample_data"
   ]
  },
  {
   "cell_type": "code",
   "execution_count": 4,
   "id": "tutorial-gauge",
   "metadata": {},
   "outputs": [
    {
     "data": {
      "text/plain": [
       "0       csid_10739\n",
       "1       csid_10740\n",
       "2       csid_10741\n",
       "3       csid_10742\n",
       "4       csid_10743\n",
       "           ...    \n",
       "7155    csid_17894\n",
       "7156    csid_17895\n",
       "7157    csid_17896\n",
       "7158    csid_17897\n",
       "7159    csid_17898\n",
       "Name: customer_id, Length: 7160, dtype: object"
      ]
     },
     "execution_count": 4,
     "metadata": {},
     "output_type": "execute_result"
    }
   ],
   "source": [
    "sample_data.customer_id"
   ]
  },
  {
   "cell_type": "code",
   "execution_count": 5,
   "id": "regional-colon",
   "metadata": {},
   "outputs": [
    {
     "data": {
      "text/plain": [
       "0       22.500174\n",
       "1       13.225950\n",
       "2       14.603376\n",
       "3       26.149905\n",
       "4       19.810630\n",
       "          ...    \n",
       "7155    18.164300\n",
       "7156    25.363705\n",
       "7157    11.160720\n",
       "7158    17.140020\n",
       "7159    10.698835\n",
       "Name: customer_visit_score, Length: 7160, dtype: float64"
      ]
     },
     "execution_count": 5,
     "metadata": {},
     "output_type": "execute_result"
    }
   ],
   "source": [
    "sample_data.customer_visit_score"
   ]
  },
  {
   "cell_type": "code",
   "execution_count": 6,
   "id": "australian-bones",
   "metadata": {},
   "outputs": [
    {
     "data": {
      "text/plain": [
       "0        3.702145\n",
       "1        3.600102\n",
       "2        5.084047\n",
       "3        3.025501\n",
       "4        5.020400\n",
       "          ...    \n",
       "7155     7.240835\n",
       "7156     4.881059\n",
       "7157     5.019859\n",
       "7158     9.269037\n",
       "7159    12.173331\n",
       "Name: customer_product_search_score, Length: 7160, dtype: float64"
      ]
     },
     "execution_count": 6,
     "metadata": {},
     "output_type": "execute_result"
    }
   ],
   "source": [
    "sample_data.customer_product_search_score"
   ]
  },
  {
   "cell_type": "code",
   "execution_count": 7,
   "id": "gothic-vienna",
   "metadata": {},
   "outputs": [
    {
     "data": {
      "text/plain": [
       "0       0.118811\n",
       "1       0.130985\n",
       "2      -0.004651\n",
       "3       0.229740\n",
       "4      -0.011347\n",
       "          ...   \n",
       "7155   -0.056238\n",
       "7156    0.038720\n",
       "7157    0.053864\n",
       "7158    0.059911\n",
       "7159    0.475469\n",
       "Name: customer_ctr_score, Length: 7160, dtype: float64"
      ]
     },
     "execution_count": 7,
     "metadata": {},
     "output_type": "execute_result"
    }
   ],
   "source": [
    "sample_data.customer_ctr_score"
   ]
  },
  {
   "cell_type": "code",
   "execution_count": 8,
   "id": "pleased-leeds",
   "metadata": {},
   "outputs": [
    {
     "data": {
      "text/plain": [
       "0       0.093253\n",
       "1       0.053575\n",
       "2      -0.036299\n",
       "3       0.204591\n",
       "4      -0.028780\n",
       "          ...   \n",
       "7155   -0.177289\n",
       "7156    0.054397\n",
       "7157   -0.102337\n",
       "7158   -0.004299\n",
       "7159    0.014124\n",
       "Name: customer_stay_score, Length: 7160, dtype: float64"
      ]
     },
     "execution_count": 8,
     "metadata": {},
     "output_type": "execute_result"
    }
   ],
   "source": [
    "sample_data.customer_stay_score"
   ]
  },
  {
   "cell_type": "code",
   "execution_count": 9,
   "id": "contrary-activity",
   "metadata": {},
   "outputs": [
    {
     "data": {
      "text/plain": [
       "0        0.689237\n",
       "1        0.142756\n",
       "2        0.333709\n",
       "3        3.768405\n",
       "4        0.286841\n",
       "          ...    \n",
       "7155     0.336608\n",
       "7156     2.452571\n",
       "7157     4.968183\n",
       "7158     0.357399\n",
       "7159    23.358252\n",
       "Name: customer_frequency_score, Length: 7160, dtype: float64"
      ]
     },
     "execution_count": 9,
     "metadata": {},
     "output_type": "execute_result"
    }
   ],
   "source": [
    "sample_data.customer_frequency_score"
   ]
  },
  {
   "cell_type": "code",
   "execution_count": 10,
   "id": "provincial-cheat",
   "metadata": {},
   "outputs": [
    {
     "data": {
      "text/plain": [
       "0        5.786842\n",
       "1        3.940359\n",
       "2        4.254662\n",
       "3        6.942625\n",
       "4        4.585513\n",
       "          ...    \n",
       "7155     4.043067\n",
       "7156     7.582251\n",
       "7157     8.585355\n",
       "7158     4.193971\n",
       "7159    10.805826\n",
       "Name: customer_product_variation_score, Length: 7160, dtype: float64"
      ]
     },
     "execution_count": 10,
     "metadata": {},
     "output_type": "execute_result"
    }
   ],
   "source": [
    "sample_data.customer_product_variation_score"
   ]
  },
  {
   "cell_type": "code",
   "execution_count": 11,
   "id": "enabling-economics",
   "metadata": {},
   "outputs": [
    {
     "data": {
      "text/plain": [
       "0       3.748009\n",
       "1       3.469659\n",
       "2       3.855939\n",
       "3       2.362421\n",
       "4       3.278624\n",
       "          ...   \n",
       "7155    4.758199\n",
       "7156    1.823892\n",
       "7157    2.422193\n",
       "7158    3.715392\n",
       "7159    1.571717\n",
       "Name: customer_order_score, Length: 7160, dtype: float64"
      ]
     },
     "execution_count": 11,
     "metadata": {},
     "output_type": "execute_result"
    }
   ],
   "source": [
    "sample_data.customer_order_score"
   ]
  },
  {
   "cell_type": "code",
   "execution_count": 12,
   "id": "personal-magic",
   "metadata": {},
   "outputs": [
    {
     "data": {
      "text/plain": [
       "0        7.661716\n",
       "1       33.999679\n",
       "2       33.485630\n",
       "3        0.795372\n",
       "4       15.052058\n",
       "          ...    \n",
       "7155    68.052717\n",
       "7156     2.080245\n",
       "7157     0.616082\n",
       "7158    26.939493\n",
       "7159     0.133973\n",
       "Name: customer_affinity_score, Length: 7160, dtype: float64"
      ]
     },
     "execution_count": 12,
     "metadata": {},
     "output_type": "execute_result"
    }
   ],
   "source": [
    "sample_data.customer_affinity_score"
   ]
  },
  {
   "cell_type": "code",
   "execution_count": 13,
   "id": "rapid-terrain",
   "metadata": {},
   "outputs": [
    {
     "data": {
      "text/plain": [
       "0       B\n",
       "1       B\n",
       "2       B\n",
       "3       B\n",
       "4       C\n",
       "       ..\n",
       "7155    C\n",
       "7156    C\n",
       "7157    C\n",
       "7158    C\n",
       "7159    B\n",
       "Name: customer_active_segment, Length: 7160, dtype: object"
      ]
     },
     "execution_count": 13,
     "metadata": {},
     "output_type": "execute_result"
    }
   ],
   "source": [
    "sample_data.customer_active_segment"
   ]
  },
  {
   "cell_type": "code",
   "execution_count": 14,
   "id": "established-slide",
   "metadata": {},
   "outputs": [
    {
     "data": {
      "text/plain": [
       "0       BA\n",
       "1       AA\n",
       "2       AA\n",
       "3       BA\n",
       "4       BA\n",
       "        ..\n",
       "7155    AA\n",
       "7156    BA\n",
       "7157    BA\n",
       "7158    BA\n",
       "7159    BA\n",
       "Name: X1, Length: 7160, dtype: object"
      ]
     },
     "execution_count": 14,
     "metadata": {},
     "output_type": "execute_result"
    }
   ],
   "source": [
    "sample_data.X1"
   ]
  },
  {
   "cell_type": "code",
   "execution_count": null,
   "id": "automotive-neighborhood",
   "metadata": {},
   "outputs": [],
   "source": [
    "'''\n",
    "Size: 78760\n",
    "\n",
    "Number of collumns: 11\n",
    "\n",
    "Types of collumns:\n",
    "1:object\n",
    "2:float64\n",
    "3:float64\n",
    "4:float64\n",
    "5:float64\n",
    "6:float64\n",
    "7:float64\n",
    "8:float64\n",
    "9:float64\n",
    "10:object\n",
    "11:object\n",
    "'''"
   ]
  }
 ],
 "metadata": {
  "kernelspec": {
   "display_name": "Python 3",
   "language": "python",
   "name": "python3"
  },
  "language_info": {
   "codemirror_mode": {
    "name": "ipython",
    "version": 3
   },
   "file_extension": ".py",
   "mimetype": "text/x-python",
   "name": "python",
   "nbconvert_exporter": "python",
   "pygments_lexer": "ipython3",
   "version": "3.8.3"
  }
 },
 "nbformat": 4,
 "nbformat_minor": 5
}
