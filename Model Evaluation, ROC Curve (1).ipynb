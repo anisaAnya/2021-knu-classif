{
 "cells": [
  {
   "cell_type": "code",
   "execution_count": 1,
   "id": "mature-infection",
   "metadata": {},
   "outputs": [],
   "source": [
    "import pandas as pd\n",
    "import numpy as np\n",
    "import matplotlib.pyplot as plt\n",
    "%matplotlib inline\n",
    "from sklearn.model_selection import train_test_split\n",
    "from sklearn.ensemble import RandomForestClassifier\n",
    "from sklearn import metrics\n",
    "from scipy import stats\n",
    "from sklearn.feature_selection import SelectFromModel\n",
    "from sklearn.neighbors import KNeighborsClassifier\n",
    "from sklearn.naive_bayes import GaussianNB\n",
    "from sklearn.svm import SVC\n",
    "from sklearn.linear_model import LogisticRegression\n",
    "from sklearn.model_selection import RandomizedSearchCV\n",
    "df = pd.read_csv(\"train.csv\")"
   ]
  },
  {
   "cell_type": "code",
   "execution_count": 2,
   "id": "green-specific",
   "metadata": {},
   "outputs": [
    {
     "data": {
      "text/html": [
       "<div>\n",
       "<style scoped>\n",
       "    .dataframe tbody tr th:only-of-type {\n",
       "        vertical-align: middle;\n",
       "    }\n",
       "\n",
       "    .dataframe tbody tr th {\n",
       "        vertical-align: top;\n",
       "    }\n",
       "\n",
       "    .dataframe thead th {\n",
       "        text-align: right;\n",
       "    }\n",
       "</style>\n",
       "<table border=\"1\" class=\"dataframe\">\n",
       "  <thead>\n",
       "    <tr style=\"text-align: right;\">\n",
       "      <th></th>\n",
       "      <th>customer_id</th>\n",
       "      <th>customer_visit_score</th>\n",
       "      <th>customer_product_search_score</th>\n",
       "      <th>customer_ctr_score</th>\n",
       "      <th>customer_stay_score</th>\n",
       "      <th>customer_frequency_score</th>\n",
       "      <th>customer_product_variation_score</th>\n",
       "      <th>customer_order_score</th>\n",
       "      <th>customer_affinity_score</th>\n",
       "      <th>customer_active_segment</th>\n",
       "      <th>X1</th>\n",
       "      <th>customer_category</th>\n",
       "    </tr>\n",
       "  </thead>\n",
       "  <tbody>\n",
       "    <tr>\n",
       "      <th>0</th>\n",
       "      <td>csid_1</td>\n",
       "      <td>0.269578</td>\n",
       "      <td>0.571994</td>\n",
       "      <td>0.148038</td>\n",
       "      <td>0.021297</td>\n",
       "      <td>0.007799</td>\n",
       "      <td>0.122126</td>\n",
       "      <td>0.249190</td>\n",
       "      <td>0.033916</td>\n",
       "      <td>C</td>\n",
       "      <td>F</td>\n",
       "      <td>0</td>\n",
       "    </tr>\n",
       "    <tr>\n",
       "      <th>1</th>\n",
       "      <td>csid_2</td>\n",
       "      <td>0.353548</td>\n",
       "      <td>0.445888</td>\n",
       "      <td>0.217287</td>\n",
       "      <td>0.023724</td>\n",
       "      <td>0.006717</td>\n",
       "      <td>0.090820</td>\n",
       "      <td>0.438887</td>\n",
       "      <td>0.072295</td>\n",
       "      <td>C</td>\n",
       "      <td>A</td>\n",
       "      <td>0</td>\n",
       "    </tr>\n",
       "    <tr>\n",
       "      <th>2</th>\n",
       "      <td>csid_3</td>\n",
       "      <td>0.362370</td>\n",
       "      <td>0.315807</td>\n",
       "      <td>0.202852</td>\n",
       "      <td>0.047831</td>\n",
       "      <td>0.007430</td>\n",
       "      <td>0.107950</td>\n",
       "      <td>0.402852</td>\n",
       "      <td>0.052530</td>\n",
       "      <td>C</td>\n",
       "      <td>BA</td>\n",
       "      <td>0</td>\n",
       "    </tr>\n",
       "    <tr>\n",
       "      <th>3</th>\n",
       "      <td>csid_4</td>\n",
       "      <td>0.660161</td>\n",
       "      <td>0.302359</td>\n",
       "      <td>0.163523</td>\n",
       "      <td>0.023870</td>\n",
       "      <td>0.014314</td>\n",
       "      <td>0.144000</td>\n",
       "      <td>0.268779</td>\n",
       "      <td>0.021209</td>\n",
       "      <td>AA</td>\n",
       "      <td>F</td>\n",
       "      <td>0</td>\n",
       "    </tr>\n",
       "    <tr>\n",
       "      <th>4</th>\n",
       "      <td>csid_5</td>\n",
       "      <td>0.242642</td>\n",
       "      <td>0.261843</td>\n",
       "      <td>0.227785</td>\n",
       "      <td>0.041900</td>\n",
       "      <td>0.002549</td>\n",
       "      <td>0.043300</td>\n",
       "      <td>0.379749</td>\n",
       "      <td>0.229374</td>\n",
       "      <td>C</td>\n",
       "      <td>AA</td>\n",
       "      <td>0</td>\n",
       "    </tr>\n",
       "    <tr>\n",
       "      <th>...</th>\n",
       "      <td>...</td>\n",
       "      <td>...</td>\n",
       "      <td>...</td>\n",
       "      <td>...</td>\n",
       "      <td>...</td>\n",
       "      <td>...</td>\n",
       "      <td>...</td>\n",
       "      <td>...</td>\n",
       "      <td>...</td>\n",
       "      <td>...</td>\n",
       "      <td>...</td>\n",
       "      <td>...</td>\n",
       "    </tr>\n",
       "    <tr>\n",
       "      <th>10733</th>\n",
       "      <td>csid_10734</td>\n",
       "      <td>0.494325</td>\n",
       "      <td>0.408534</td>\n",
       "      <td>0.198567</td>\n",
       "      <td>0.029356</td>\n",
       "      <td>0.022568</td>\n",
       "      <td>0.265826</td>\n",
       "      <td>0.305235</td>\n",
       "      <td>0.009797</td>\n",
       "      <td>C</td>\n",
       "      <td>BA</td>\n",
       "      <td>0</td>\n",
       "    </tr>\n",
       "    <tr>\n",
       "      <th>10734</th>\n",
       "      <td>csid_10735</td>\n",
       "      <td>0.537126</td>\n",
       "      <td>0.396409</td>\n",
       "      <td>0.185348</td>\n",
       "      <td>0.027385</td>\n",
       "      <td>0.013303</td>\n",
       "      <td>0.166010</td>\n",
       "      <td>0.314068</td>\n",
       "      <td>0.022531</td>\n",
       "      <td>C</td>\n",
       "      <td>BA</td>\n",
       "      <td>0</td>\n",
       "    </tr>\n",
       "    <tr>\n",
       "      <th>10735</th>\n",
       "      <td>csid_10736</td>\n",
       "      <td>0.665584</td>\n",
       "      <td>0.473913</td>\n",
       "      <td>0.189297</td>\n",
       "      <td>0.028338</td>\n",
       "      <td>0.005529</td>\n",
       "      <td>0.177953</td>\n",
       "      <td>0.233728</td>\n",
       "      <td>0.089749</td>\n",
       "      <td>A</td>\n",
       "      <td>BA</td>\n",
       "      <td>0</td>\n",
       "    </tr>\n",
       "    <tr>\n",
       "      <th>10736</th>\n",
       "      <td>csid_10737</td>\n",
       "      <td>0.596367</td>\n",
       "      <td>0.342273</td>\n",
       "      <td>0.140686</td>\n",
       "      <td>0.035879</td>\n",
       "      <td>0.001978</td>\n",
       "      <td>0.054009</td>\n",
       "      <td>0.528128</td>\n",
       "      <td>0.351176</td>\n",
       "      <td>B</td>\n",
       "      <td>AA</td>\n",
       "      <td>0</td>\n",
       "    </tr>\n",
       "    <tr>\n",
       "      <th>10737</th>\n",
       "      <td>csid_10738</td>\n",
       "      <td>0.429933</td>\n",
       "      <td>0.276202</td>\n",
       "      <td>0.248230</td>\n",
       "      <td>0.055646</td>\n",
       "      <td>0.009096</td>\n",
       "      <td>0.089316</td>\n",
       "      <td>0.470487</td>\n",
       "      <td>0.113467</td>\n",
       "      <td>B</td>\n",
       "      <td>A</td>\n",
       "      <td>0</td>\n",
       "    </tr>\n",
       "  </tbody>\n",
       "</table>\n",
       "<p>10738 rows × 12 columns</p>\n",
       "</div>"
      ],
      "text/plain": [
       "      customer_id  customer_visit_score  customer_product_search_score  \\\n",
       "0          csid_1              0.269578                       0.571994   \n",
       "1          csid_2              0.353548                       0.445888   \n",
       "2          csid_3              0.362370                       0.315807   \n",
       "3          csid_4              0.660161                       0.302359   \n",
       "4          csid_5              0.242642                       0.261843   \n",
       "...           ...                   ...                            ...   \n",
       "10733  csid_10734              0.494325                       0.408534   \n",
       "10734  csid_10735              0.537126                       0.396409   \n",
       "10735  csid_10736              0.665584                       0.473913   \n",
       "10736  csid_10737              0.596367                       0.342273   \n",
       "10737  csid_10738              0.429933                       0.276202   \n",
       "\n",
       "       customer_ctr_score  customer_stay_score  customer_frequency_score  \\\n",
       "0                0.148038             0.021297                  0.007799   \n",
       "1                0.217287             0.023724                  0.006717   \n",
       "2                0.202852             0.047831                  0.007430   \n",
       "3                0.163523             0.023870                  0.014314   \n",
       "4                0.227785             0.041900                  0.002549   \n",
       "...                   ...                  ...                       ...   \n",
       "10733            0.198567             0.029356                  0.022568   \n",
       "10734            0.185348             0.027385                  0.013303   \n",
       "10735            0.189297             0.028338                  0.005529   \n",
       "10736            0.140686             0.035879                  0.001978   \n",
       "10737            0.248230             0.055646                  0.009096   \n",
       "\n",
       "       customer_product_variation_score  customer_order_score  \\\n",
       "0                              0.122126              0.249190   \n",
       "1                              0.090820              0.438887   \n",
       "2                              0.107950              0.402852   \n",
       "3                              0.144000              0.268779   \n",
       "4                              0.043300              0.379749   \n",
       "...                                 ...                   ...   \n",
       "10733                          0.265826              0.305235   \n",
       "10734                          0.166010              0.314068   \n",
       "10735                          0.177953              0.233728   \n",
       "10736                          0.054009              0.528128   \n",
       "10737                          0.089316              0.470487   \n",
       "\n",
       "       customer_affinity_score customer_active_segment  X1  customer_category  \n",
       "0                     0.033916                       C   F                  0  \n",
       "1                     0.072295                       C   A                  0  \n",
       "2                     0.052530                       C  BA                  0  \n",
       "3                     0.021209                      AA   F                  0  \n",
       "4                     0.229374                       C  AA                  0  \n",
       "...                        ...                     ...  ..                ...  \n",
       "10733                 0.009797                       C  BA                  0  \n",
       "10734                 0.022531                       C  BA                  0  \n",
       "10735                 0.089749                       A  BA                  0  \n",
       "10736                 0.351176                       B  AA                  0  \n",
       "10737                 0.113467                       B   A                  0  \n",
       "\n",
       "[10738 rows x 12 columns]"
      ]
     },
     "execution_count": 2,
     "metadata": {},
     "output_type": "execute_result"
    }
   ],
   "source": [
    "for column in df.columns: #replace NaN by random data\n",
    "    df[column] = df[column].fillna(np.random.choice(df[column].unique()))\n",
    "    \n",
    "ncols = df.columns[1:-3]\n",
    "df[ncols] = df[ncols].apply(lambda x: (x-x.min())/(x.max()-x.min())) #normalizing\n",
    "norm = df\n",
    "norm"
   ]
  },
  {
   "cell_type": "code",
   "execution_count": 5,
   "id": "dedicated-gallery",
   "metadata": {},
   "outputs": [
    {
     "data": {
      "text/html": [
       "<div>\n",
       "<style scoped>\n",
       "    .dataframe tbody tr th:only-of-type {\n",
       "        vertical-align: middle;\n",
       "    }\n",
       "\n",
       "    .dataframe tbody tr th {\n",
       "        vertical-align: top;\n",
       "    }\n",
       "\n",
       "    .dataframe thead th {\n",
       "        text-align: right;\n",
       "    }\n",
       "</style>\n",
       "<table border=\"1\" class=\"dataframe\">\n",
       "  <thead>\n",
       "    <tr style=\"text-align: right;\">\n",
       "      <th></th>\n",
       "      <th>customer_visit_score</th>\n",
       "      <th>customer_product_search_score</th>\n",
       "      <th>customer_ctr_score</th>\n",
       "      <th>customer_stay_score</th>\n",
       "      <th>customer_frequency_score</th>\n",
       "      <th>customer_product_variation_score</th>\n",
       "      <th>customer_order_score</th>\n",
       "      <th>customer_affinity_score</th>\n",
       "      <th>customer_active_segment</th>\n",
       "      <th>X1</th>\n",
       "      <th>customer_category</th>\n",
       "    </tr>\n",
       "  </thead>\n",
       "  <tbody>\n",
       "    <tr>\n",
       "      <th>0</th>\n",
       "      <td>0.269578</td>\n",
       "      <td>0.571994</td>\n",
       "      <td>0.148038</td>\n",
       "      <td>0.021297</td>\n",
       "      <td>0.007799</td>\n",
       "      <td>0.122126</td>\n",
       "      <td>0.249190</td>\n",
       "      <td>0.033916</td>\n",
       "      <td>3</td>\n",
       "      <td>4</td>\n",
       "      <td>0</td>\n",
       "    </tr>\n",
       "    <tr>\n",
       "      <th>1</th>\n",
       "      <td>0.353548</td>\n",
       "      <td>0.445888</td>\n",
       "      <td>0.217287</td>\n",
       "      <td>0.023724</td>\n",
       "      <td>0.006717</td>\n",
       "      <td>0.090820</td>\n",
       "      <td>0.438887</td>\n",
       "      <td>0.072295</td>\n",
       "      <td>3</td>\n",
       "      <td>0</td>\n",
       "      <td>0</td>\n",
       "    </tr>\n",
       "    <tr>\n",
       "      <th>2</th>\n",
       "      <td>0.362370</td>\n",
       "      <td>0.315807</td>\n",
       "      <td>0.202852</td>\n",
       "      <td>0.047831</td>\n",
       "      <td>0.007430</td>\n",
       "      <td>0.107950</td>\n",
       "      <td>0.402852</td>\n",
       "      <td>0.052530</td>\n",
       "      <td>3</td>\n",
       "      <td>2</td>\n",
       "      <td>0</td>\n",
       "    </tr>\n",
       "    <tr>\n",
       "      <th>3</th>\n",
       "      <td>0.660161</td>\n",
       "      <td>0.302359</td>\n",
       "      <td>0.163523</td>\n",
       "      <td>0.023870</td>\n",
       "      <td>0.014314</td>\n",
       "      <td>0.144000</td>\n",
       "      <td>0.268779</td>\n",
       "      <td>0.021209</td>\n",
       "      <td>1</td>\n",
       "      <td>4</td>\n",
       "      <td>0</td>\n",
       "    </tr>\n",
       "    <tr>\n",
       "      <th>4</th>\n",
       "      <td>0.242642</td>\n",
       "      <td>0.261843</td>\n",
       "      <td>0.227785</td>\n",
       "      <td>0.041900</td>\n",
       "      <td>0.002549</td>\n",
       "      <td>0.043300</td>\n",
       "      <td>0.379749</td>\n",
       "      <td>0.229374</td>\n",
       "      <td>3</td>\n",
       "      <td>1</td>\n",
       "      <td>0</td>\n",
       "    </tr>\n",
       "    <tr>\n",
       "      <th>...</th>\n",
       "      <td>...</td>\n",
       "      <td>...</td>\n",
       "      <td>...</td>\n",
       "      <td>...</td>\n",
       "      <td>...</td>\n",
       "      <td>...</td>\n",
       "      <td>...</td>\n",
       "      <td>...</td>\n",
       "      <td>...</td>\n",
       "      <td>...</td>\n",
       "      <td>...</td>\n",
       "    </tr>\n",
       "    <tr>\n",
       "      <th>10733</th>\n",
       "      <td>0.494325</td>\n",
       "      <td>0.408534</td>\n",
       "      <td>0.198567</td>\n",
       "      <td>0.029356</td>\n",
       "      <td>0.022568</td>\n",
       "      <td>0.265826</td>\n",
       "      <td>0.305235</td>\n",
       "      <td>0.009797</td>\n",
       "      <td>3</td>\n",
       "      <td>2</td>\n",
       "      <td>0</td>\n",
       "    </tr>\n",
       "    <tr>\n",
       "      <th>10734</th>\n",
       "      <td>0.537126</td>\n",
       "      <td>0.396409</td>\n",
       "      <td>0.185348</td>\n",
       "      <td>0.027385</td>\n",
       "      <td>0.013303</td>\n",
       "      <td>0.166010</td>\n",
       "      <td>0.314068</td>\n",
       "      <td>0.022531</td>\n",
       "      <td>3</td>\n",
       "      <td>2</td>\n",
       "      <td>0</td>\n",
       "    </tr>\n",
       "    <tr>\n",
       "      <th>10735</th>\n",
       "      <td>0.665584</td>\n",
       "      <td>0.473913</td>\n",
       "      <td>0.189297</td>\n",
       "      <td>0.028338</td>\n",
       "      <td>0.005529</td>\n",
       "      <td>0.177953</td>\n",
       "      <td>0.233728</td>\n",
       "      <td>0.089749</td>\n",
       "      <td>0</td>\n",
       "      <td>2</td>\n",
       "      <td>0</td>\n",
       "    </tr>\n",
       "    <tr>\n",
       "      <th>10736</th>\n",
       "      <td>0.596367</td>\n",
       "      <td>0.342273</td>\n",
       "      <td>0.140686</td>\n",
       "      <td>0.035879</td>\n",
       "      <td>0.001978</td>\n",
       "      <td>0.054009</td>\n",
       "      <td>0.528128</td>\n",
       "      <td>0.351176</td>\n",
       "      <td>2</td>\n",
       "      <td>1</td>\n",
       "      <td>0</td>\n",
       "    </tr>\n",
       "    <tr>\n",
       "      <th>10737</th>\n",
       "      <td>0.429933</td>\n",
       "      <td>0.276202</td>\n",
       "      <td>0.248230</td>\n",
       "      <td>0.055646</td>\n",
       "      <td>0.009096</td>\n",
       "      <td>0.089316</td>\n",
       "      <td>0.470487</td>\n",
       "      <td>0.113467</td>\n",
       "      <td>2</td>\n",
       "      <td>0</td>\n",
       "      <td>0</td>\n",
       "    </tr>\n",
       "  </tbody>\n",
       "</table>\n",
       "<p>10738 rows × 11 columns</p>\n",
       "</div>"
      ],
      "text/plain": [
       "       customer_visit_score  customer_product_search_score  \\\n",
       "0                  0.269578                       0.571994   \n",
       "1                  0.353548                       0.445888   \n",
       "2                  0.362370                       0.315807   \n",
       "3                  0.660161                       0.302359   \n",
       "4                  0.242642                       0.261843   \n",
       "...                     ...                            ...   \n",
       "10733              0.494325                       0.408534   \n",
       "10734              0.537126                       0.396409   \n",
       "10735              0.665584                       0.473913   \n",
       "10736              0.596367                       0.342273   \n",
       "10737              0.429933                       0.276202   \n",
       "\n",
       "       customer_ctr_score  customer_stay_score  customer_frequency_score  \\\n",
       "0                0.148038             0.021297                  0.007799   \n",
       "1                0.217287             0.023724                  0.006717   \n",
       "2                0.202852             0.047831                  0.007430   \n",
       "3                0.163523             0.023870                  0.014314   \n",
       "4                0.227785             0.041900                  0.002549   \n",
       "...                   ...                  ...                       ...   \n",
       "10733            0.198567             0.029356                  0.022568   \n",
       "10734            0.185348             0.027385                  0.013303   \n",
       "10735            0.189297             0.028338                  0.005529   \n",
       "10736            0.140686             0.035879                  0.001978   \n",
       "10737            0.248230             0.055646                  0.009096   \n",
       "\n",
       "       customer_product_variation_score  customer_order_score  \\\n",
       "0                              0.122126              0.249190   \n",
       "1                              0.090820              0.438887   \n",
       "2                              0.107950              0.402852   \n",
       "3                              0.144000              0.268779   \n",
       "4                              0.043300              0.379749   \n",
       "...                                 ...                   ...   \n",
       "10733                          0.265826              0.305235   \n",
       "10734                          0.166010              0.314068   \n",
       "10735                          0.177953              0.233728   \n",
       "10736                          0.054009              0.528128   \n",
       "10737                          0.089316              0.470487   \n",
       "\n",
       "       customer_affinity_score  customer_active_segment  X1  customer_category  \n",
       "0                     0.033916                        3   4                  0  \n",
       "1                     0.072295                        3   0                  0  \n",
       "2                     0.052530                        3   2                  0  \n",
       "3                     0.021209                        1   4                  0  \n",
       "4                     0.229374                        3   1                  0  \n",
       "...                        ...                      ...  ..                ...  \n",
       "10733                 0.009797                        3   2                  0  \n",
       "10734                 0.022531                        3   2                  0  \n",
       "10735                 0.089749                        0   2                  0  \n",
       "10736                 0.351176                        2   1                  0  \n",
       "10737                 0.113467                        2   0                  0  \n",
       "\n",
       "[10738 rows x 11 columns]"
      ]
     },
     "execution_count": 5,
     "metadata": {},
     "output_type": "execute_result"
    }
   ],
   "source": [
    "from sklearn.preprocessing import LabelEncoder#encoding \n",
    "cols = norm.columns[-3::]\n",
    "le = LabelEncoder()\n",
    "norm[cols] = norm[cols].apply(lambda col: le.fit_transform(col))\n",
    "enc=norm[norm.columns[1::]]\n",
    "enc\n"
   ]
  },
  {
   "cell_type": "code",
   "execution_count": 6,
   "id": "collect-intervention",
   "metadata": {},
   "outputs": [
    {
     "data": {
      "text/html": [
       "<div>\n",
       "<style scoped>\n",
       "    .dataframe tbody tr th:only-of-type {\n",
       "        vertical-align: middle;\n",
       "    }\n",
       "\n",
       "    .dataframe tbody tr th {\n",
       "        vertical-align: top;\n",
       "    }\n",
       "\n",
       "    .dataframe thead th {\n",
       "        text-align: right;\n",
       "    }\n",
       "</style>\n",
       "<table border=\"1\" class=\"dataframe\">\n",
       "  <thead>\n",
       "    <tr style=\"text-align: right;\">\n",
       "      <th></th>\n",
       "      <th>customer_visit_score</th>\n",
       "      <th>customer_product_search_score</th>\n",
       "      <th>customer_ctr_score</th>\n",
       "      <th>customer_stay_score</th>\n",
       "      <th>customer_frequency_score</th>\n",
       "      <th>customer_product_variation_score</th>\n",
       "      <th>customer_order_score</th>\n",
       "      <th>customer_affinity_score</th>\n",
       "      <th>customer_active_segment</th>\n",
       "      <th>X1</th>\n",
       "      <th>customer_category</th>\n",
       "    </tr>\n",
       "  </thead>\n",
       "  <tbody>\n",
       "    <tr>\n",
       "      <th>0</th>\n",
       "      <td>0.269578</td>\n",
       "      <td>0.571994</td>\n",
       "      <td>0.148038</td>\n",
       "      <td>0.021297</td>\n",
       "      <td>0.007799</td>\n",
       "      <td>0.122126</td>\n",
       "      <td>0.249190</td>\n",
       "      <td>0.033916</td>\n",
       "      <td>3</td>\n",
       "      <td>4</td>\n",
       "      <td>0</td>\n",
       "    </tr>\n",
       "    <tr>\n",
       "      <th>1</th>\n",
       "      <td>0.353548</td>\n",
       "      <td>0.445888</td>\n",
       "      <td>0.217287</td>\n",
       "      <td>0.023724</td>\n",
       "      <td>0.006717</td>\n",
       "      <td>0.090820</td>\n",
       "      <td>0.438887</td>\n",
       "      <td>0.072295</td>\n",
       "      <td>3</td>\n",
       "      <td>0</td>\n",
       "      <td>0</td>\n",
       "    </tr>\n",
       "    <tr>\n",
       "      <th>2</th>\n",
       "      <td>0.362370</td>\n",
       "      <td>0.315807</td>\n",
       "      <td>0.202852</td>\n",
       "      <td>0.047831</td>\n",
       "      <td>0.007430</td>\n",
       "      <td>0.107950</td>\n",
       "      <td>0.402852</td>\n",
       "      <td>0.052530</td>\n",
       "      <td>3</td>\n",
       "      <td>2</td>\n",
       "      <td>0</td>\n",
       "    </tr>\n",
       "    <tr>\n",
       "      <th>3</th>\n",
       "      <td>0.660161</td>\n",
       "      <td>0.302359</td>\n",
       "      <td>0.163523</td>\n",
       "      <td>0.023870</td>\n",
       "      <td>0.014314</td>\n",
       "      <td>0.144000</td>\n",
       "      <td>0.268779</td>\n",
       "      <td>0.021209</td>\n",
       "      <td>1</td>\n",
       "      <td>4</td>\n",
       "      <td>0</td>\n",
       "    </tr>\n",
       "    <tr>\n",
       "      <th>4</th>\n",
       "      <td>0.242642</td>\n",
       "      <td>0.261843</td>\n",
       "      <td>0.227785</td>\n",
       "      <td>0.041900</td>\n",
       "      <td>0.002549</td>\n",
       "      <td>0.043300</td>\n",
       "      <td>0.379749</td>\n",
       "      <td>0.229374</td>\n",
       "      <td>3</td>\n",
       "      <td>1</td>\n",
       "      <td>0</td>\n",
       "    </tr>\n",
       "    <tr>\n",
       "      <th>...</th>\n",
       "      <td>...</td>\n",
       "      <td>...</td>\n",
       "      <td>...</td>\n",
       "      <td>...</td>\n",
       "      <td>...</td>\n",
       "      <td>...</td>\n",
       "      <td>...</td>\n",
       "      <td>...</td>\n",
       "      <td>...</td>\n",
       "      <td>...</td>\n",
       "      <td>...</td>\n",
       "    </tr>\n",
       "    <tr>\n",
       "      <th>10731</th>\n",
       "      <td>0.610325</td>\n",
       "      <td>0.390081</td>\n",
       "      <td>0.153900</td>\n",
       "      <td>0.025240</td>\n",
       "      <td>0.007759</td>\n",
       "      <td>0.127516</td>\n",
       "      <td>0.215561</td>\n",
       "      <td>0.027057</td>\n",
       "      <td>2</td>\n",
       "      <td>2</td>\n",
       "      <td>0</td>\n",
       "    </tr>\n",
       "    <tr>\n",
       "      <th>10732</th>\n",
       "      <td>0.301578</td>\n",
       "      <td>0.327601</td>\n",
       "      <td>0.183398</td>\n",
       "      <td>0.022250</td>\n",
       "      <td>0.004592</td>\n",
       "      <td>0.113201</td>\n",
       "      <td>0.380645</td>\n",
       "      <td>0.058437</td>\n",
       "      <td>3</td>\n",
       "      <td>0</td>\n",
       "      <td>0</td>\n",
       "    </tr>\n",
       "    <tr>\n",
       "      <th>10733</th>\n",
       "      <td>0.494325</td>\n",
       "      <td>0.408534</td>\n",
       "      <td>0.198567</td>\n",
       "      <td>0.029356</td>\n",
       "      <td>0.022568</td>\n",
       "      <td>0.265826</td>\n",
       "      <td>0.305235</td>\n",
       "      <td>0.009797</td>\n",
       "      <td>3</td>\n",
       "      <td>2</td>\n",
       "      <td>0</td>\n",
       "    </tr>\n",
       "    <tr>\n",
       "      <th>10734</th>\n",
       "      <td>0.537126</td>\n",
       "      <td>0.396409</td>\n",
       "      <td>0.185348</td>\n",
       "      <td>0.027385</td>\n",
       "      <td>0.013303</td>\n",
       "      <td>0.166010</td>\n",
       "      <td>0.314068</td>\n",
       "      <td>0.022531</td>\n",
       "      <td>3</td>\n",
       "      <td>2</td>\n",
       "      <td>0</td>\n",
       "    </tr>\n",
       "    <tr>\n",
       "      <th>10737</th>\n",
       "      <td>0.429933</td>\n",
       "      <td>0.276202</td>\n",
       "      <td>0.248230</td>\n",
       "      <td>0.055646</td>\n",
       "      <td>0.009096</td>\n",
       "      <td>0.089316</td>\n",
       "      <td>0.470487</td>\n",
       "      <td>0.113467</td>\n",
       "      <td>2</td>\n",
       "      <td>0</td>\n",
       "      <td>0</td>\n",
       "    </tr>\n",
       "  </tbody>\n",
       "</table>\n",
       "<p>9267 rows × 11 columns</p>\n",
       "</div>"
      ],
      "text/plain": [
       "       customer_visit_score  customer_product_search_score  \\\n",
       "0                  0.269578                       0.571994   \n",
       "1                  0.353548                       0.445888   \n",
       "2                  0.362370                       0.315807   \n",
       "3                  0.660161                       0.302359   \n",
       "4                  0.242642                       0.261843   \n",
       "...                     ...                            ...   \n",
       "10731              0.610325                       0.390081   \n",
       "10732              0.301578                       0.327601   \n",
       "10733              0.494325                       0.408534   \n",
       "10734              0.537126                       0.396409   \n",
       "10737              0.429933                       0.276202   \n",
       "\n",
       "       customer_ctr_score  customer_stay_score  customer_frequency_score  \\\n",
       "0                0.148038             0.021297                  0.007799   \n",
       "1                0.217287             0.023724                  0.006717   \n",
       "2                0.202852             0.047831                  0.007430   \n",
       "3                0.163523             0.023870                  0.014314   \n",
       "4                0.227785             0.041900                  0.002549   \n",
       "...                   ...                  ...                       ...   \n",
       "10731            0.153900             0.025240                  0.007759   \n",
       "10732            0.183398             0.022250                  0.004592   \n",
       "10733            0.198567             0.029356                  0.022568   \n",
       "10734            0.185348             0.027385                  0.013303   \n",
       "10737            0.248230             0.055646                  0.009096   \n",
       "\n",
       "       customer_product_variation_score  customer_order_score  \\\n",
       "0                              0.122126              0.249190   \n",
       "1                              0.090820              0.438887   \n",
       "2                              0.107950              0.402852   \n",
       "3                              0.144000              0.268779   \n",
       "4                              0.043300              0.379749   \n",
       "...                                 ...                   ...   \n",
       "10731                          0.127516              0.215561   \n",
       "10732                          0.113201              0.380645   \n",
       "10733                          0.265826              0.305235   \n",
       "10734                          0.166010              0.314068   \n",
       "10737                          0.089316              0.470487   \n",
       "\n",
       "       customer_affinity_score  customer_active_segment  X1  customer_category  \n",
       "0                     0.033916                        3   4                  0  \n",
       "1                     0.072295                        3   0                  0  \n",
       "2                     0.052530                        3   2                  0  \n",
       "3                     0.021209                        1   4                  0  \n",
       "4                     0.229374                        3   1                  0  \n",
       "...                        ...                      ...  ..                ...  \n",
       "10731                 0.027057                        2   2                  0  \n",
       "10732                 0.058437                        3   0                  0  \n",
       "10733                 0.009797                        3   2                  0  \n",
       "10734                 0.022531                        3   2                  0  \n",
       "10737                 0.113467                        2   0                  0  \n",
       "\n",
       "[9267 rows x 11 columns]"
      ]
     },
     "execution_count": 6,
     "metadata": {},
     "output_type": "execute_result"
    }
   ],
   "source": [
    "\n",
    "new = enc.copy()#removing outliers\n",
    "new=new[['customer_visit_score', 'customer_product_search_score', 'customer_ctr_score', 'customer_stay_score', 'customer_frequency_score', 'customer_product_variation_score', 'customer_order_score', 'customer_affinity_score','customer_active_segment','X1','customer_category']]\n",
    "new = new[(np.abs(stats.zscore(new)) < 3).all(axis=1)]\n",
    "new"
   ]
  },
  {
   "cell_type": "code",
   "execution_count": 7,
   "id": "packed-fifth",
   "metadata": {},
   "outputs": [],
   "source": [
    "X = new[new.columns[1:-1]]#applying Random Forest classifier\n",
    "y = new['customer_category']\n",
    "X_train, X_test, y_train, y_test = train_test_split(X, y, test_size=0.3)\n",
    "classifier = RandomForestClassifier(n_estimators=200)\n",
    "classifier.fit(X_train, y_train)\n",
    "y_pred = classifier.predict(X_test)"
   ]
  },
  {
   "cell_type": "code",
   "execution_count": 8,
   "id": "graduate-complement",
   "metadata": {},
   "outputs": [],
   "source": [
    "p=metrics.precision_score(y_test, y_pred,zero_division='warn')#for each class print: precision, recall, accuracy\n",
    "\n",
    "r=metrics.recall_score(y_test, y_pred,zero_division='warn')\n",
    "\n",
    "a=metrics.accuracy_score(y_test, y_pred)"
   ]
  },
  {
   "cell_type": "code",
   "execution_count": 9,
   "id": "likely-price",
   "metadata": {},
   "outputs": [
    {
     "name": "stdout",
     "output_type": "stream",
     "text": [
      "Precision:\n"
     ]
    },
    {
     "data": {
      "text/plain": [
       "0.9285714285714286"
      ]
     },
     "execution_count": 9,
     "metadata": {},
     "output_type": "execute_result"
    }
   ],
   "source": [
    "print(\"Precision:\")\n",
    "p"
   ]
  },
  {
   "cell_type": "code",
   "execution_count": 10,
   "id": "formed-rover",
   "metadata": {},
   "outputs": [
    {
     "name": "stdout",
     "output_type": "stream",
     "text": [
      "Recall:\n"
     ]
    },
    {
     "data": {
      "text/plain": [
       "0.7647058823529411"
      ]
     },
     "execution_count": 10,
     "metadata": {},
     "output_type": "execute_result"
    }
   ],
   "source": [
    "print(\"Recall:\")\n",
    "r"
   ]
  },
  {
   "cell_type": "code",
   "execution_count": 11,
   "id": "independent-degree",
   "metadata": {},
   "outputs": [
    {
     "name": "stdout",
     "output_type": "stream",
     "text": [
      "Accuracy:\n"
     ]
    },
    {
     "data": {
      "text/plain": [
       "0.9712333692916217"
      ]
     },
     "execution_count": 11,
     "metadata": {},
     "output_type": "execute_result"
    }
   ],
   "source": [
    "print(\"Accuracy:\")\n",
    "a"
   ]
  },
  {
   "cell_type": "code",
   "execution_count": 12,
   "id": "executive-microphone",
   "metadata": {},
   "outputs": [
    {
     "name": "stdout",
     "output_type": "stream",
     "text": [
      "       customer_ctr_score  customer_stay_score\n",
      "3088             0.179954             0.024264\n",
      "6165             0.237540             0.067907\n",
      "9318             0.185012             0.043744\n",
      "9734             0.210562             0.033520\n",
      "10083            0.236260             0.038848\n",
      "...                   ...                  ...\n",
      "1685             0.426863             0.143618\n",
      "8878             0.234511             0.048204\n",
      "5780             0.166518             0.027122\n",
      "1221             0.158361             0.028371\n",
      "8948             0.398392             0.116626\n",
      "\n",
      "[6486 rows x 2 columns]\n",
      "[False  True  True False False False False False False]\n"
     ]
    }
   ],
   "source": [
    "sel = SelectFromModel(RandomForestClassifier())#improve Random Forest classification accuracy by applying Feature Selection algorithms\n",
    "sel.fit(X_train, y_train)\n",
    "selected_feat= X_train[X_train.columns[(sel.get_support())]]\n",
    "print(selected_feat)\n",
    "classifier_2 = RandomForestClassifier()\n",
    "classifier_2.fit(X_train, y_train)\n",
    "y2_pred = classifier_2.predict(X_test)\n",
    "print(sel.get_support())\n",
    "\n"
   ]
  },
  {
   "cell_type": "code",
   "execution_count": 14,
   "id": "directed-diagnosis",
   "metadata": {},
   "outputs": [
    {
     "name": "stdout",
     "output_type": "stream",
     "text": [
      "Accuracy after applying feature selection:\n"
     ]
    },
    {
     "data": {
      "text/plain": [
       "0.9733812949640288"
      ]
     },
     "execution_count": 14,
     "metadata": {},
     "output_type": "execute_result"
    }
   ],
   "source": [
    "a2=metrics.accuracy_score(y_test, y2_pred)\n",
    "print(\"Accuracy after applying feature selection:\")\n",
    "a2"
   ]
  },
  {
   "cell_type": "code",
   "execution_count": 18,
   "id": "afraid-paper",
   "metadata": {},
   "outputs": [
    {
     "name": "stdout",
     "output_type": "stream",
     "text": [
      "{'n_estimators': 200, 'min_samples_split': 5, 'min_samples_leaf': 4, 'max_features': 5, 'max_depth': 7}\n"
     ]
    }
   ],
   "source": [
    "rf = RandomForestClassifier()#improving result by searching best parameters\n",
    "p = {'n_estimators': [10, 100, 200, 300, 400, 500], 'max_features': [1, 2, 3, 4, 5, 6, 7, 8, 9], 'max_depth': [2, 5, 7, 10,  None],'min_samples_split': [2, 3, 4, 5],'min_samples_leaf': [1, 2, 3, 4, 5]}\n",
    "search = RandomizedSearchCV(rf, p, random_state=0)\n",
    "search.fit(X, y)\n",
    "best_params = randsearch.best_params_\n",
    "print(best_params)"
   ]
  },
  {
   "cell_type": "code",
   "execution_count": 20,
   "id": "based-activity",
   "metadata": {},
   "outputs": [
    {
     "name": "stdout",
     "output_type": "stream",
     "text": [
      "Improved accuracy: \n",
      "0.9741007194244604\n"
     ]
    }
   ],
   "source": [
    "improved = RandomForestClassifier(n_estimators=200, min_samples_split=5, min_samples_leaf=4, max_features=4, max_depth=7)\n",
    "improved.fit(X_train, y_train)\n",
    "impred = improved.predict(X_test)\n",
    "print(\"Improved accuracy: \")\n",
    "print(metrics.accuracy_score(y_test, impred))"
   ]
  },
  {
   "cell_type": "code",
   "execution_count": 13,
   "id": "latest-midnight",
   "metadata": {},
   "outputs": [
    {
     "data": {
      "text/plain": [
       "LogisticRegression()"
      ]
     },
     "execution_count": 13,
     "metadata": {},
     "output_type": "execute_result"
    }
   ],
   "source": [
    "knn = KNeighborsClassifier(n_neighbors=6)\n",
    "knn.fit(X_train, y_train)\n",
    "nb = GaussianNB()\n",
    "nb.fit(X_train, y_train)\n",
    "clf = RandomForestClassifier()\n",
    "clf.fit(X_train, y_train)\n",
    "svm = SVC(kernel=\"linear\", probability=True)\n",
    "svm.fit(X_train, y_train)\n",
    "log = LogisticRegression()\n",
    "log.fit(X_train, y_train)\n",
    "\n"
   ]
  },
  {
   "cell_type": "code",
   "execution_count": 53,
   "id": "gentle-session",
   "metadata": {},
   "outputs": [
    {
     "data": {
      "image/png": "[encoded data removed]",
      "text/plain": [
       "<Figure size 432x288 with 1 Axes>"
      ]
     },
     "metadata": {
      "needs_background": "light"
     },
     "output_type": "display_data"
    },
    {
     "name": "stdout",
     "output_type": "stream",
     "text": [
      "0.8888218571721698\n"
     ]
    }
   ],
   "source": [
    "y1_pr = knn.predict_proba(X_test)[::,1]#KNeighborsClassifier\n",
    "fpr, tpr, thresholds = metrics.roc_curve(y_test, y1_pr)\n",
    "auc = metrics.roc_auc_score(y_test, y1_pr)\n",
    "plt.plot(fpr,tpr)\n",
    "plt.ylabel('True Positive')\n",
    "plt.xlabel('False Positive')\n",
    "plt.show()\n",
    "print(auc)"
   ]
  },
  {
   "cell_type": "code",
   "execution_count": 43,
   "id": "noble-breed",
   "metadata": {},
   "outputs": [
    {
     "data": {
      "image/png": "[encoded data removed]",
      "text/plain": [
       "<Figure size 432x288 with 1 Axes>"
      ]
     },
     "metadata": {
      "needs_background": "light"
     },
     "output_type": "display_data"
    },
    {
     "name": "stdout",
     "output_type": "stream",
     "text": [
      "0.924627024031455\n"
     ]
    }
   ],
   "source": [
    "y2_pr = nb.predict_proba(X_test)[::,1]#GaussianNB\n",
    "fpr, tpr, thresholds = metrics.roc_curve(y_test, y2_pr)\n",
    "auc = metrics.roc_auc_score(y_test, y2_pr)\n",
    "plt.plot(fpr,tpr)\n",
    "plt.ylabel('True Positive')\n",
    "plt.xlabel('False Positive')\n",
    "plt.show()\n",
    "print(auc)"
   ]
  },
  {
   "cell_type": "code",
   "execution_count": 45,
   "id": "alternative-dinner",
   "metadata": {},
   "outputs": [
    {
     "data": {
      "image/png": "[encoded data removed]",
      "text/plain": [
       "<Figure size 432x288 with 1 Axes>"
      ]
     },
     "metadata": {
      "needs_background": "light"
     },
     "output_type": "display_data"
    },
    {
     "name": "stdout",
     "output_type": "stream",
     "text": [
      "0.9494450299976676\n"
     ]
    }
   ],
   "source": [
    "y3_pr = clf.predict_proba(X_test)[::,1]#RandomForestClassifier\n",
    "fpr, tpr, thresholds = metrics.roc_curve(y_test, y3_pr)\n",
    "auc = metrics.roc_auc_score(y_test, y3_pr)\n",
    "plt.plot(fpr,tpr)\n",
    "plt.ylabel('True Positive')\n",
    "plt.xlabel('False Positive')\n",
    "plt.show()\n",
    "print(auc)"
   ]
  },
  {
   "cell_type": "code",
   "execution_count": 46,
   "id": "static-germany",
   "metadata": {},
   "outputs": [
    {
     "data": {
      "image/png": "[encoded data removed]",
      "text/plain": [
       "<Figure size 432x288 with 1 Axes>"
      ]
     },
     "metadata": {
      "needs_background": "light"
     },
     "output_type": "display_data"
    },
    {
     "name": "stdout",
     "output_type": "stream",
     "text": [
      "0.9620289682240434\n"
     ]
    }
   ],
   "source": [
    "y4_pr = svm.predict_proba(X_test)[::,1]#SVC\n",
    "fpr, tpr, thresholds = metrics.roc_curve(y_test, y4_pr)\n",
    "auc = metrics.roc_auc_score(y_test, y4_pr)\n",
    "plt.plot(fpr,tpr)\n",
    "plt.ylabel('True Positive')\n",
    "plt.xlabel('False Positive')\n",
    "plt.show()\n",
    "print(auc)"
   ]
  },
  {
   "cell_type": "code",
   "execution_count": 47,
   "id": "descending-finding",
   "metadata": {},
   "outputs": [
    {
     "data": {
      "image/png": "[encoded data removed]",
      "text/plain": [
       "<Figure size 432x288 with 1 Axes>"
      ]
     },
     "metadata": {
      "needs_background": "light"
     },
     "output_type": "display_data"
    },
    {
     "name": "stdout",
     "output_type": "stream",
     "text": [
      "0.9502201816520551\n"
     ]
    }
   ],
   "source": [
    "y5_pr = log.predict_proba(X_test)[::,1]#LogisticRegression\n",
    "fpr, tpr, thresholds = metrics.roc_curve(y_test, y5_pr)\n",
    "auc = metrics.roc_auc_score(y_test, y5_pr)\n",
    "plt.plot(fpr,tpr)\n",
    "plt.ylabel('True Positive')\n",
    "plt.xlabel('False Positive')\n",
    "plt.show()\n",
    "print(auc)"
   ]
  },
  {
   "cell_type": "code",
   "execution_count": 15,
   "id": "featured-boulder",
   "metadata": {},
   "outputs": [
    {
     "name": "stdout",
     "output_type": "stream",
     "text": [
      "Accuracy for each algorithm:\n",
      "\n",
      "Random Forest  0.9712333692916217\n",
      "K neighbors  0.9611650485436893\n",
      "Naive Bayes  0.9403092412801151\n",
      "Support vector machine  0.9633225458468176\n",
      "Regression  0.9568500539374326\n"
     ]
    }
   ],
   "source": [
    "a = [\n",
    "    [\"Random Forest \", clf],[\"K neighbors \", knn], [\"Naive Bayes \", nb],  [\"Support vector machine \", svm],  [\"Regression \", log]\n",
    "]\n",
    "pred_v = []\n",
    "for algorithm in a:\n",
    "    algorithm[1].fit(X_train, y_train)\n",
    "    pred = algorithm[1].predict(X_test)\n",
    "    pred_v.append([algorithm[0], pred])\n",
    "print(\"Accuracy for each algorithm:\\n\")\n",
    "for value in pred_v:\n",
    "    print(value[0], metrics.accuracy_score(y_test, value[1]))\n"
   ]
  }
 ],
 "metadata": {
  "kernelspec": {
   "display_name": "Python 3",
   "language": "python",
   "name": "python3"
  },
  "language_info": {
   "codemirror_mode": {
    "name": "ipython",
    "version": 3
   },
   "file_extension": ".py",
   "mimetype": "text/x-python",
   "name": "python",
   "nbconvert_exporter": "python",
   "pygments_lexer": "ipython3",
   "version": "3.8.3"
  }
 },
 "nbformat": 4,
 "nbformat_minor": 5
}
