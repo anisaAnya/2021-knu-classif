{
 "cells": [
  {
   "cell_type": "code",
   "execution_count": 46,
   "id": "western-street",
   "metadata": {},
   "outputs": [
    {
     "data": {
      "text/html": [
       "<div>\n",
       "<style scoped>\n",
       "    .dataframe tbody tr th:only-of-type {\n",
       "        vertical-align: middle;\n",
       "    }\n",
       "\n",
       "    .dataframe tbody tr th {\n",
       "        vertical-align: top;\n",
       "    }\n",
       "\n",
       "    .dataframe thead th {\n",
       "        text-align: right;\n",
       "    }\n",
       "</style>\n",
       "<table border=\"1\" class=\"dataframe\">\n",
       "  <thead>\n",
       "    <tr style=\"text-align: right;\">\n",
       "      <th></th>\n",
       "      <th>customer_id</th>\n",
       "      <th>customer_visit_score</th>\n",
       "      <th>customer_product_search_score</th>\n",
       "      <th>customer_ctr_score</th>\n",
       "      <th>customer_stay_score</th>\n",
       "      <th>customer_frequency_score</th>\n",
       "      <th>customer_product_variation_score</th>\n",
       "      <th>customer_order_score</th>\n",
       "      <th>customer_affinity_score</th>\n",
       "      <th>customer_active_segment</th>\n",
       "      <th>X1</th>\n",
       "      <th>customer_category</th>\n",
       "    </tr>\n",
       "  </thead>\n",
       "  <tbody>\n",
       "    <tr>\n",
       "      <th>0</th>\n",
       "      <td>csid_1</td>\n",
       "      <td>13.168425</td>\n",
       "      <td>9.447662</td>\n",
       "      <td>-0.070203</td>\n",
       "      <td>-0.139541</td>\n",
       "      <td>0.436956</td>\n",
       "      <td>4.705761</td>\n",
       "      <td>2.537985</td>\n",
       "      <td>7.959503</td>\n",
       "      <td>C</td>\n",
       "      <td>F</td>\n",
       "      <td>0</td>\n",
       "    </tr>\n",
       "    <tr>\n",
       "      <th>1</th>\n",
       "      <td>csid_2</td>\n",
       "      <td>17.092979</td>\n",
       "      <td>7.329056</td>\n",
       "      <td>0.153298</td>\n",
       "      <td>-0.102726</td>\n",
       "      <td>0.380340</td>\n",
       "      <td>4.205138</td>\n",
       "      <td>4.193444</td>\n",
       "      <td>17.517381</td>\n",
       "      <td>C</td>\n",
       "      <td>A</td>\n",
       "      <td>0</td>\n",
       "    </tr>\n",
       "    <tr>\n",
       "      <th>2</th>\n",
       "      <td>csid_3</td>\n",
       "      <td>17.505334</td>\n",
       "      <td>5.143676</td>\n",
       "      <td>0.106709</td>\n",
       "      <td>0.262834</td>\n",
       "      <td>0.417648</td>\n",
       "      <td>4.479070</td>\n",
       "      <td>3.878971</td>\n",
       "      <td>12.595155</td>\n",
       "      <td>C</td>\n",
       "      <td>BA</td>\n",
       "      <td>0</td>\n",
       "    </tr>\n",
       "    <tr>\n",
       "      <th>3</th>\n",
       "      <td>csid_4</td>\n",
       "      <td>31.423381</td>\n",
       "      <td>4.917740</td>\n",
       "      <td>-0.020226</td>\n",
       "      <td>-0.100526</td>\n",
       "      <td>0.778130</td>\n",
       "      <td>5.055535</td>\n",
       "      <td>2.708940</td>\n",
       "      <td>4.795073</td>\n",
       "      <td>AA</td>\n",
       "      <td>F</td>\n",
       "      <td>0</td>\n",
       "    </tr>\n",
       "    <tr>\n",
       "      <th>4</th>\n",
       "      <td>csid_5</td>\n",
       "      <td>11.909502</td>\n",
       "      <td>4.237073</td>\n",
       "      <td>0.187178</td>\n",
       "      <td>0.172891</td>\n",
       "      <td>0.162067</td>\n",
       "      <td>3.445247</td>\n",
       "      <td>3.677360</td>\n",
       "      <td>56.636326</td>\n",
       "      <td>C</td>\n",
       "      <td>AA</td>\n",
       "      <td>0</td>\n",
       "    </tr>\n",
       "    <tr>\n",
       "      <th>...</th>\n",
       "      <td>...</td>\n",
       "      <td>...</td>\n",
       "      <td>...</td>\n",
       "      <td>...</td>\n",
       "      <td>...</td>\n",
       "      <td>...</td>\n",
       "      <td>...</td>\n",
       "      <td>...</td>\n",
       "      <td>...</td>\n",
       "      <td>...</td>\n",
       "      <td>...</td>\n",
       "      <td>...</td>\n",
       "    </tr>\n",
       "    <tr>\n",
       "      <th>10733</th>\n",
       "      <td>csid_10734</td>\n",
       "      <td>23.672615</td>\n",
       "      <td>6.701514</td>\n",
       "      <td>0.092879</td>\n",
       "      <td>-0.017332</td>\n",
       "      <td>1.210397</td>\n",
       "      <td>7.003663</td>\n",
       "      <td>3.027084</td>\n",
       "      <td>1.952911</td>\n",
       "      <td>C</td>\n",
       "      <td>BA</td>\n",
       "      <td>0</td>\n",
       "    </tr>\n",
       "    <tr>\n",
       "      <th>10734</th>\n",
       "      <td>csid_10735</td>\n",
       "      <td>25.673028</td>\n",
       "      <td>6.497796</td>\n",
       "      <td>0.050216</td>\n",
       "      <td>-0.047211</td>\n",
       "      <td>0.725230</td>\n",
       "      <td>5.407507</td>\n",
       "      <td>3.104172</td>\n",
       "      <td>5.124286</td>\n",
       "      <td>C</td>\n",
       "      <td>BA</td>\n",
       "      <td>0</td>\n",
       "    </tr>\n",
       "    <tr>\n",
       "      <th>10735</th>\n",
       "      <td>csid_10736</td>\n",
       "      <td>31.676844</td>\n",
       "      <td>7.799880</td>\n",
       "      <td>0.062961</td>\n",
       "      <td>-0.032765</td>\n",
       "      <td>0.318118</td>\n",
       "      <td>5.598486</td>\n",
       "      <td>2.403051</td>\n",
       "      <td>21.864188</td>\n",
       "      <td>A</td>\n",
       "      <td>BA</td>\n",
       "      <td>0</td>\n",
       "    </tr>\n",
       "    <tr>\n",
       "      <th>10736</th>\n",
       "      <td>csid_10737</td>\n",
       "      <td>28.441780</td>\n",
       "      <td>5.588302</td>\n",
       "      <td>-0.093931</td>\n",
       "      <td>0.081586</td>\n",
       "      <td>0.132177</td>\n",
       "      <td>3.616492</td>\n",
       "      <td>4.972243</td>\n",
       "      <td>86.969977</td>\n",
       "      <td>B</td>\n",
       "      <td>AA</td>\n",
       "      <td>0</td>\n",
       "    </tr>\n",
       "    <tr>\n",
       "      <th>10737</th>\n",
       "      <td>csid_10738</td>\n",
       "      <td>20.663035</td>\n",
       "      <td>4.478301</td>\n",
       "      <td>0.253165</td>\n",
       "      <td>0.381349</td>\n",
       "      <td>0.504904</td>\n",
       "      <td>4.181092</td>\n",
       "      <td>4.469215</td>\n",
       "      <td>27.770899</td>\n",
       "      <td>B</td>\n",
       "      <td>A</td>\n",
       "      <td>0</td>\n",
       "    </tr>\n",
       "  </tbody>\n",
       "</table>\n",
       "<p>10738 rows × 12 columns</p>\n",
       "</div>"
      ],
      "text/plain": [
       "      customer_id  customer_visit_score  customer_product_search_score  \\\n",
       "0          csid_1             13.168425                       9.447662   \n",
       "1          csid_2             17.092979                       7.329056   \n",
       "2          csid_3             17.505334                       5.143676   \n",
       "3          csid_4             31.423381                       4.917740   \n",
       "4          csid_5             11.909502                       4.237073   \n",
       "...           ...                   ...                            ...   \n",
       "10733  csid_10734             23.672615                       6.701514   \n",
       "10734  csid_10735             25.673028                       6.497796   \n",
       "10735  csid_10736             31.676844                       7.799880   \n",
       "10736  csid_10737             28.441780                       5.588302   \n",
       "10737  csid_10738             20.663035                       4.478301   \n",
       "\n",
       "       customer_ctr_score  customer_stay_score  customer_frequency_score  \\\n",
       "0               -0.070203            -0.139541                  0.436956   \n",
       "1                0.153298            -0.102726                  0.380340   \n",
       "2                0.106709             0.262834                  0.417648   \n",
       "3               -0.020226            -0.100526                  0.778130   \n",
       "4                0.187178             0.172891                  0.162067   \n",
       "...                   ...                  ...                       ...   \n",
       "10733            0.092879            -0.017332                  1.210397   \n",
       "10734            0.050216            -0.047211                  0.725230   \n",
       "10735            0.062961            -0.032765                  0.318118   \n",
       "10736           -0.093931             0.081586                  0.132177   \n",
       "10737            0.253165             0.381349                  0.504904   \n",
       "\n",
       "       customer_product_variation_score  customer_order_score  \\\n",
       "0                              4.705761              2.537985   \n",
       "1                              4.205138              4.193444   \n",
       "2                              4.479070              3.878971   \n",
       "3                              5.055535              2.708940   \n",
       "4                              3.445247              3.677360   \n",
       "...                                 ...                   ...   \n",
       "10733                          7.003663              3.027084   \n",
       "10734                          5.407507              3.104172   \n",
       "10735                          5.598486              2.403051   \n",
       "10736                          3.616492              4.972243   \n",
       "10737                          4.181092              4.469215   \n",
       "\n",
       "       customer_affinity_score customer_active_segment  X1  customer_category  \n",
       "0                     7.959503                       C   F                  0  \n",
       "1                    17.517381                       C   A                  0  \n",
       "2                    12.595155                       C  BA                  0  \n",
       "3                     4.795073                      AA   F                  0  \n",
       "4                    56.636326                       C  AA                  0  \n",
       "...                        ...                     ...  ..                ...  \n",
       "10733                 1.952911                       C  BA                  0  \n",
       "10734                 5.124286                       C  BA                  0  \n",
       "10735                21.864188                       A  BA                  0  \n",
       "10736                86.969977                       B  AA                  0  \n",
       "10737                27.770899                       B   A                  0  \n",
       "\n",
       "[10738 rows x 12 columns]"
      ]
     },
     "execution_count": 46,
     "metadata": {},
     "output_type": "execute_result"
    }
   ],
   "source": [
    "import pandas\n",
    "import matplotlib.pyplot as plt\n",
    "import seaborn\n",
    "from sklearn.preprocessing import LabelEncoder\n",
    "df = pandas.read_csv(\"train.csv\")\n",
    "df"
   ]
  },
  {
   "cell_type": "code",
   "execution_count": 42,
   "id": "minimal-champion",
   "metadata": {},
   "outputs": [],
   "source": [
    "plt.rcParams[\"figure.figsize\"] = [10/1.2, 8/1.2]\n",
    "plt.style.use(\"dark_background\")"
   ]
  },
  {
   "cell_type": "code",
   "execution_count": 52,
   "id": "legendary-oriental",
   "metadata": {
    "collapsed": true
   },
   "outputs": [
    {
     "name": "stdout",
     "output_type": "stream",
     "text": [
      "size:  128856 \n",
      "\n",
      "shape:  (10738, 12) \n",
      "\n",
      "columns:  ['customer_id', 'customer_visit_score', 'customer_product_search_score', 'customer_ctr_score', 'customer_stay_score', 'customer_frequency_score', 'customer_product_variation_score', 'customer_order_score', 'customer_affinity_score', 'customer_active_segment', 'X1', 'customer_category'] \n",
      "\n",
      "type of each column:\n",
      " customer_id                          object\n",
      "customer_visit_score                float64\n",
      "customer_product_search_score       float64\n",
      "customer_ctr_score                  float64\n",
      "customer_stay_score                 float64\n",
      "customer_frequency_score            float64\n",
      "customer_product_variation_score    float64\n",
      "customer_order_score                float64\n",
      "customer_affinity_score             float64\n",
      "customer_active_segment              object\n",
      "X1                                   object\n",
      "customer_category                     int64\n",
      "dtype: object\n"
     ]
    }
   ],
   "source": [
    "print(\"size: \", df.size, \"\\n\")\n",
    "print(\"shape: \", df.shape, \"\\n\")\n",
    "print(\"columns: \", list(df.columns), \"\\n\")\n",
    "print(\"type of each column:\\n\", df.dtypes)"
   ]
  },
  {
   "cell_type": "code",
   "execution_count": 53,
   "id": "thick-judge",
   "metadata": {
    "collapsed": true
   },
   "outputs": [
    {
     "data": {
      "text/plain": [
       "{'whiskers': [<matplotlib.lines.Line2D at 0x1ffbe0bcfc8>,\n",
       "  <matplotlib.lines.Line2D at 0x1ffbe0bcf48>],\n",
       " 'caps': [<matplotlib.lines.Line2D at 0x1ffbe0bfc48>,\n",
       "  <matplotlib.lines.Line2D at 0x1ffbe0bfc88>],\n",
       " 'boxes': [<matplotlib.lines.Line2D at 0x1ffbe0bc8c8>],\n",
       " 'medians': [<matplotlib.lines.Line2D at 0x1ffbe0bfd48>],\n",
       " 'fliers': [<matplotlib.lines.Line2D at 0x1ffbe0c49c8>],\n",
       " 'means': []}"
      ]
     },
     "execution_count": 53,
     "metadata": {},
     "output_type": "execute_result"
    },
    {
     "data": {
      "image/png": "[encoded data removed]",
      "text/plain": [
       "<Figure size 600x480 with 1 Axes>"
      ]
     },
     "metadata": {},
     "output_type": "display_data"
    }
   ],
   "source": [
    "plt.title(\"customer_visit_score\")\n",
    "plt.boxplot(df.customer_visit_score.dropna())"
   ]
  },
  {
   "cell_type": "code",
   "execution_count": 54,
   "id": "quality-cookbook",
   "metadata": {
    "collapsed": true
   },
   "outputs": [
    {
     "data": {
      "text/plain": [
       "{'whiskers': [<matplotlib.lines.Line2D at 0x1ffbe22da08>,\n",
       "  <matplotlib.lines.Line2D at 0x1ffbe0e7dc8>],\n",
       " 'caps': [<matplotlib.lines.Line2D at 0x1ffbe0e7d88>,\n",
       "  <matplotlib.lines.Line2D at 0x1ffbe0e7f08>],\n",
       " 'boxes': [<matplotlib.lines.Line2D at 0x1ffbe0e0f88>],\n",
       " 'medians': [<matplotlib.lines.Line2D at 0x1ffbe0ecb48>],\n",
       " 'fliers': [<matplotlib.lines.Line2D at 0x1ffbe0eccc8>],\n",
       " 'means': []}"
      ]
     },
     "execution_count": 54,
     "metadata": {},
     "output_type": "execute_result"
    },
    {
     "data": {
      "image/png": "[encoded data removed]",
      "text/plain": [
       "<Figure size 600x480 with 1 Axes>"
      ]
     },
     "metadata": {},
     "output_type": "display_data"
    }
   ],
   "source": [
    "plt.title(\"customer_product_search_score\")\n",
    "plt.boxplot(df.customer_product_search_score.dropna())"
   ]
  },
  {
   "cell_type": "code",
   "execution_count": 55,
   "id": "conventional-onion",
   "metadata": {
    "collapsed": true
   },
   "outputs": [
    {
     "data": {
      "text/plain": [
       "{'whiskers': [<matplotlib.lines.Line2D at 0x1ffbe12a488>,\n",
       "  <matplotlib.lines.Line2D at 0x1ffbe14ef48>],\n",
       " 'caps': [<matplotlib.lines.Line2D at 0x1ffbe14efc8>,\n",
       "  <matplotlib.lines.Line2D at 0x1ffbe151c08>],\n",
       " 'boxes': [<matplotlib.lines.Line2D at 0x1ffbe14e788>],\n",
       " 'medians': [<matplotlib.lines.Line2D at 0x1ffbe151d88>],\n",
       " 'fliers': [<matplotlib.lines.Line2D at 0x1ffbe15aa08>],\n",
       " 'means': []}"
      ]
     },
     "execution_count": 55,
     "metadata": {},
     "output_type": "execute_result"
    },
    {
     "data": {
      "image/png": "[encoded data removed]",
      "text/plain": [
       "<Figure size 600x480 with 1 Axes>"
      ]
     },
     "metadata": {},
     "output_type": "display_data"
    }
   ],
   "source": [
    "plt.title(\"customer_ctr_score\")\n",
    "plt.boxplot(df.customer_ctr_score.dropna())"
   ]
  },
  {
   "cell_type": "code",
   "execution_count": 56,
   "id": "authentic-walker",
   "metadata": {
    "collapsed": true
   },
   "outputs": [
    {
     "data": {
      "text/plain": [
       "{'whiskers': [<matplotlib.lines.Line2D at 0x1ffbdaddf88>,\n",
       "  <matplotlib.lines.Line2D at 0x1ffbdce53c8>],\n",
       " 'caps': [<matplotlib.lines.Line2D at 0x1ffbdd32d48>,\n",
       "  <matplotlib.lines.Line2D at 0x1ffbdbfda08>],\n",
       " 'boxes': [<matplotlib.lines.Line2D at 0x1ffbdc5b788>],\n",
       " 'medians': [<matplotlib.lines.Line2D at 0x1ffbdce25c8>],\n",
       " 'fliers': [<matplotlib.lines.Line2D at 0x1ffbdd2cc88>],\n",
       " 'means': []}"
      ]
     },
     "execution_count": 56,
     "metadata": {},
     "output_type": "execute_result"
    },
    {
     "data": {
      "image/png": "[encoded data removed]",
      "text/plain": [
       "<Figure size 600x480 with 1 Axes>"
      ]
     },
     "metadata": {},
     "output_type": "display_data"
    }
   ],
   "source": [
    "plt.title(\"customer_stay_score\")\n",
    "plt.boxplot(df.customer_stay_score.dropna())"
   ]
  },
  {
   "cell_type": "code",
   "execution_count": 23,
   "id": "pacific-necklace",
   "metadata": {
    "collapsed": true
   },
   "outputs": [
    {
     "data": {
      "text/plain": [
       "{'whiskers': [<matplotlib.lines.Line2D at 0x1ad7c5075c8>,\n",
       "  <matplotlib.lines.Line2D at 0x1ad7c536a88>],\n",
       " 'caps': [<matplotlib.lines.Line2D at 0x1ad7c536b48>,\n",
       "  <matplotlib.lines.Line2D at 0x1ad7c53cec8>],\n",
       " 'boxes': [<matplotlib.lines.Line2D at 0x1ad7c536308>],\n",
       " 'medians': [<matplotlib.lines.Line2D at 0x1ad7c53cf08>],\n",
       " 'fliers': [<matplotlib.lines.Line2D at 0x1ad7c540cc8>],\n",
       " 'means': []}"
      ]
     },
     "execution_count": 23,
     "metadata": {},
     "output_type": "execute_result"
    },
    {
     "data": {
      "image/png": "[encoded data removed]",
      "text/plain": [
       "<Figure size 600x480 with 1 Axes>"
      ]
     },
     "metadata": {},
     "output_type": "display_data"
    }
   ],
   "source": [
    "plt.title(\"customer_frequency_score\")\n",
    "plt.boxplot(df.customer_frequency_score.dropna())"
   ]
  },
  {
   "cell_type": "code",
   "execution_count": 58,
   "id": "sixth-czech",
   "metadata": {
    "collapsed": true
   },
   "outputs": [
    {
     "data": {
      "text/plain": [
       "{'whiskers': [<matplotlib.lines.Line2D at 0x1ffbe285448>,\n",
       "  <matplotlib.lines.Line2D at 0x1ffbe2aab08>],\n",
       " 'caps': [<matplotlib.lines.Line2D at 0x1ffbe2aed48>,\n",
       "  <matplotlib.lines.Line2D at 0x1ffbe2aed08>],\n",
       " 'boxes': [<matplotlib.lines.Line2D at 0x1ffbe2aa988>],\n",
       " 'medians': [<matplotlib.lines.Line2D at 0x1ffbe2aee88>],\n",
       " 'fliers': [<matplotlib.lines.Line2D at 0x1ffbe2b3b08>],\n",
       " 'means': []}"
      ]
     },
     "execution_count": 58,
     "metadata": {},
     "output_type": "execute_result"
    },
    {
     "data": {
      "image/png": "[encoded data removed]",
      "text/plain": [
       "<Figure size 600x480 with 1 Axes>"
      ]
     },
     "metadata": {},
     "output_type": "display_data"
    }
   ],
   "source": [
    "plt.title(\"customer_product_variation_score\")\n",
    "plt.boxplot(df.customer_product_variation_score.dropna())"
   ]
  },
  {
   "cell_type": "code",
   "execution_count": 59,
   "id": "particular-chocolate",
   "metadata": {
    "collapsed": true
   },
   "outputs": [
    {
     "data": {
      "text/plain": [
       "{'whiskers': [<matplotlib.lines.Line2D at 0x1ffbe2f69c8>,\n",
       "  <matplotlib.lines.Line2D at 0x1ffbe319ec8>],\n",
       " 'caps': [<matplotlib.lines.Line2D at 0x1ffbe321b08>,\n",
       "  <matplotlib.lines.Line2D at 0x1ffbe321c88>],\n",
       " 'boxes': [<matplotlib.lines.Line2D at 0x1ffbe319d88>],\n",
       " 'medians': [<matplotlib.lines.Line2D at 0x1ffbe328fc8>],\n",
       " 'fliers': [<matplotlib.lines.Line2D at 0x1ffbe328a48>],\n",
       " 'means': []}"
      ]
     },
     "execution_count": 59,
     "metadata": {},
     "output_type": "execute_result"
    },
    {
     "data": {
      "image/png": "[encoded data removed]",
      "text/plain": [
       "<Figure size 600x480 with 1 Axes>"
      ]
     },
     "metadata": {},
     "output_type": "display_data"
    }
   ],
   "source": [
    "plt.title(\"customer_order_score\")\n",
    "plt.boxplot(df.customer_order_score.dropna())"
   ]
  },
  {
   "cell_type": "code",
   "execution_count": 26,
   "id": "suitable-signature",
   "metadata": {
    "collapsed": true
   },
   "outputs": [
    {
     "data": {
      "text/plain": [
       "{'whiskers': [<matplotlib.lines.Line2D at 0x1ad7c60c908>,\n",
       "  <matplotlib.lines.Line2D at 0x1ad7c63af88>],\n",
       " 'caps': [<matplotlib.lines.Line2D at 0x1ad7c63ccc8>,\n",
       "  <matplotlib.lines.Line2D at 0x1ad7c63cd08>],\n",
       " 'boxes': [<matplotlib.lines.Line2D at 0x1ad7c63a808>],\n",
       " 'medians': [<matplotlib.lines.Line2D at 0x1ad7c63ce08>],\n",
       " 'fliers': [<matplotlib.lines.Line2D at 0x1ad7c642b48>],\n",
       " 'means': []}"
      ]
     },
     "execution_count": 26,
     "metadata": {},
     "output_type": "execute_result"
    },
    {
     "data": {
      "image/png": "[encoded data removed]",
      "text/plain": [
       "<Figure size 600x480 with 1 Axes>"
      ]
     },
     "metadata": {},
     "output_type": "display_data"
    }
   ],
   "source": [
    "plt.title(\"customer_affinity_score\")\n",
    "plt.boxplot(df.customer_affinity_score)"
   ]
  },
  {
   "cell_type": "code",
   "execution_count": 25,
   "id": "focal-dating",
   "metadata": {
    "collapsed": true
   },
   "outputs": [
    {
     "data": {
      "text/plain": [
       "Text(0, 0.5, 'Amount of people of each class')"
      ]
     },
     "execution_count": 25,
     "metadata": {},
     "output_type": "execute_result"
    },
    {
     "data": {
      "image/png": "[encoded data removed]",
      "text/plain": [
       "<Figure size 600x480 with 1 Axes>"
      ]
     },
     "metadata": {},
     "output_type": "display_data"
    }
   ],
   "source": [
    "cas_dict = dict(df.customer_active_segment.value_counts(sort=False))\n",
    "\n",
    "plt.title(\"Customer active segment barplot\")\n",
    "\n",
    "plt.bar(cas_dict.keys(), cas_dict.values())\n",
    "plt.xlabel(\"Classes\")\n",
    "plt.ylabel(\"Amount of people of each class\")"
   ]
  },
  {
   "cell_type": "code",
   "execution_count": 24,
   "id": "static-dallas",
   "metadata": {
    "collapsed": true
   },
   "outputs": [
    {
     "data": {
      "text/plain": [
       "Text(0, 0.5, 'Amount of people of each class')"
      ]
     },
     "execution_count": 24,
     "metadata": {},
     "output_type": "execute_result"
    },
    {
     "data": {
      "image/png": "[encoded data removed]",
      "text/plain": [
       "<Figure size 600x480 with 1 Axes>"
      ]
     },
     "metadata": {},
     "output_type": "display_data"
    }
   ],
   "source": [
    "X1_dict = dict(df.X1.value_counts(sort=False))\n",
    "\n",
    "plt.title(\"X1 barplot\")\n",
    "\n",
    "plt.bar(X1_dict.keys(), X1_dict.values())\n",
    "plt.xlabel(\"Classes\")\n",
    "plt.ylabel(\"Amount of people of each class\")"
   ]
  },
  {
   "cell_type": "code",
   "execution_count": 14,
   "id": "latest-samoa",
   "metadata": {
    "collapsed": true
   },
   "outputs": [
    {
     "name": "stdout",
     "output_type": "stream",
     "text": [
      "mean\n"
     ]
    },
    {
     "data": {
      "text/plain": [
       "customer_visit_score                19.060941\n",
       "customer_product_search_score        5.274847\n",
       "customer_ctr_score                   0.175912\n",
       "customer_stay_score                  0.374230\n",
       "customer_frequency_score             2.376895\n",
       "customer_product_variation_score     5.788180\n",
       "customer_order_score                 3.150071\n",
       "customer_affinity_score             17.061836\n",
       "customer_category                    0.120600\n",
       "dtype: float64"
      ]
     },
     "execution_count": 14,
     "metadata": {},
     "output_type": "execute_result"
    }
   ],
   "source": [
    "#mean\n",
    "df.mean()"
   ]
  },
  {
   "cell_type": "code",
   "execution_count": 9,
   "id": "european-electricity",
   "metadata": {
    "collapsed": true
   },
   "outputs": [
    {
     "data": {
      "text/plain": [
       "customer_visit_score                 7.419609\n",
       "customer_product_search_score        1.882559\n",
       "customer_ctr_score                   0.372829\n",
       "customer_stay_score                  1.222031\n",
       "customer_frequency_score             5.601911\n",
       "customer_product_variation_score     2.531309\n",
       "customer_order_score                 1.035416\n",
       "customer_affinity_score             18.762693\n",
       "customer_category                    0.325677\n",
       "dtype: float64"
      ]
     },
     "execution_count": 9,
     "metadata": {},
     "output_type": "execute_result"
    }
   ],
   "source": [
    "#Standart deviation\n",
    "df.std()"
   ]
  },
  {
   "cell_type": "code",
   "execution_count": 10,
   "id": "adolescent-procedure",
   "metadata": {
    "collapsed": true
   },
   "outputs": [
    {
     "data": {
      "text/html": [
       "<div>\n",
       "<style scoped>\n",
       "    .dataframe tbody tr th:only-of-type {\n",
       "        vertical-align: middle;\n",
       "    }\n",
       "\n",
       "    .dataframe tbody tr th {\n",
       "        vertical-align: top;\n",
       "    }\n",
       "\n",
       "    .dataframe thead th {\n",
       "        text-align: right;\n",
       "    }\n",
       "</style>\n",
       "<table border=\"1\" class=\"dataframe\">\n",
       "  <thead>\n",
       "    <tr style=\"text-align: right;\">\n",
       "      <th></th>\n",
       "      <th>customer_visit_score</th>\n",
       "      <th>customer_product_search_score</th>\n",
       "      <th>customer_ctr_score</th>\n",
       "      <th>customer_stay_score</th>\n",
       "      <th>customer_frequency_score</th>\n",
       "      <th>customer_product_variation_score</th>\n",
       "      <th>customer_order_score</th>\n",
       "      <th>customer_affinity_score</th>\n",
       "      <th>customer_category</th>\n",
       "    </tr>\n",
       "  </thead>\n",
       "  <tbody>\n",
       "    <tr>\n",
       "      <th>customer_visit_score</th>\n",
       "      <td>1.000000</td>\n",
       "      <td>0.274672</td>\n",
       "      <td>-0.569430</td>\n",
       "      <td>-0.474176</td>\n",
       "      <td>-0.209270</td>\n",
       "      <td>-0.220016</td>\n",
       "      <td>0.170497</td>\n",
       "      <td>0.118925</td>\n",
       "      <td>-0.449654</td>\n",
       "    </tr>\n",
       "    <tr>\n",
       "      <th>customer_product_search_score</th>\n",
       "      <td>0.274672</td>\n",
       "      <td>1.000000</td>\n",
       "      <td>-0.415910</td>\n",
       "      <td>-0.414855</td>\n",
       "      <td>-0.023031</td>\n",
       "      <td>-0.066274</td>\n",
       "      <td>0.051181</td>\n",
       "      <td>0.044181</td>\n",
       "      <td>-0.300862</td>\n",
       "    </tr>\n",
       "    <tr>\n",
       "      <th>customer_ctr_score</th>\n",
       "      <td>-0.569430</td>\n",
       "      <td>-0.415910</td>\n",
       "      <td>1.000000</td>\n",
       "      <td>0.909248</td>\n",
       "      <td>0.419461</td>\n",
       "      <td>0.448071</td>\n",
       "      <td>-0.342506</td>\n",
       "      <td>-0.232876</td>\n",
       "      <td>0.794445</td>\n",
       "    </tr>\n",
       "    <tr>\n",
       "      <th>customer_stay_score</th>\n",
       "      <td>-0.474176</td>\n",
       "      <td>-0.414855</td>\n",
       "      <td>0.909248</td>\n",
       "      <td>1.000000</td>\n",
       "      <td>0.400374</td>\n",
       "      <td>0.406516</td>\n",
       "      <td>-0.311451</td>\n",
       "      <td>-0.210629</td>\n",
       "      <td>0.679366</td>\n",
       "    </tr>\n",
       "    <tr>\n",
       "      <th>customer_frequency_score</th>\n",
       "      <td>-0.209270</td>\n",
       "      <td>-0.023031</td>\n",
       "      <td>0.419461</td>\n",
       "      <td>0.400374</td>\n",
       "      <td>1.000000</td>\n",
       "      <td>0.702688</td>\n",
       "      <td>-0.533142</td>\n",
       "      <td>-0.326201</td>\n",
       "      <td>0.389465</td>\n",
       "    </tr>\n",
       "    <tr>\n",
       "      <th>customer_product_variation_score</th>\n",
       "      <td>-0.220016</td>\n",
       "      <td>-0.066274</td>\n",
       "      <td>0.448071</td>\n",
       "      <td>0.406516</td>\n",
       "      <td>0.702688</td>\n",
       "      <td>1.000000</td>\n",
       "      <td>-0.694476</td>\n",
       "      <td>-0.525783</td>\n",
       "      <td>0.493958</td>\n",
       "    </tr>\n",
       "    <tr>\n",
       "      <th>customer_order_score</th>\n",
       "      <td>0.170497</td>\n",
       "      <td>0.051181</td>\n",
       "      <td>-0.342506</td>\n",
       "      <td>-0.311451</td>\n",
       "      <td>-0.533142</td>\n",
       "      <td>-0.694476</td>\n",
       "      <td>1.000000</td>\n",
       "      <td>0.763861</td>\n",
       "      <td>-0.385278</td>\n",
       "    </tr>\n",
       "    <tr>\n",
       "      <th>customer_affinity_score</th>\n",
       "      <td>0.118925</td>\n",
       "      <td>0.044181</td>\n",
       "      <td>-0.232876</td>\n",
       "      <td>-0.210629</td>\n",
       "      <td>-0.326201</td>\n",
       "      <td>-0.525783</td>\n",
       "      <td>0.763861</td>\n",
       "      <td>1.000000</td>\n",
       "      <td>-0.274105</td>\n",
       "    </tr>\n",
       "    <tr>\n",
       "      <th>customer_category</th>\n",
       "      <td>-0.449654</td>\n",
       "      <td>-0.300862</td>\n",
       "      <td>0.794445</td>\n",
       "      <td>0.679366</td>\n",
       "      <td>0.389465</td>\n",
       "      <td>0.493958</td>\n",
       "      <td>-0.385278</td>\n",
       "      <td>-0.274105</td>\n",
       "      <td>1.000000</td>\n",
       "    </tr>\n",
       "  </tbody>\n",
       "</table>\n",
       "</div>"
      ],
      "text/plain": [
       "                                  customer_visit_score  \\\n",
       "customer_visit_score                          1.000000   \n",
       "customer_product_search_score                 0.274672   \n",
       "customer_ctr_score                           -0.569430   \n",
       "customer_stay_score                          -0.474176   \n",
       "customer_frequency_score                     -0.209270   \n",
       "customer_product_variation_score             -0.220016   \n",
       "customer_order_score                          0.170497   \n",
       "customer_affinity_score                       0.118925   \n",
       "customer_category                            -0.449654   \n",
       "\n",
       "                                  customer_product_search_score  \\\n",
       "customer_visit_score                                   0.274672   \n",
       "customer_product_search_score                          1.000000   \n",
       "customer_ctr_score                                    -0.415910   \n",
       "customer_stay_score                                   -0.414855   \n",
       "customer_frequency_score                              -0.023031   \n",
       "customer_product_variation_score                      -0.066274   \n",
       "customer_order_score                                   0.051181   \n",
       "customer_affinity_score                                0.044181   \n",
       "customer_category                                     -0.300862   \n",
       "\n",
       "                                  customer_ctr_score  customer_stay_score  \\\n",
       "customer_visit_score                       -0.569430            -0.474176   \n",
       "customer_product_search_score              -0.415910            -0.414855   \n",
       "customer_ctr_score                          1.000000             0.909248   \n",
       "customer_stay_score                         0.909248             1.000000   \n",
       "customer_frequency_score                    0.419461             0.400374   \n",
       "customer_product_variation_score            0.448071             0.406516   \n",
       "customer_order_score                       -0.342506            -0.311451   \n",
       "customer_affinity_score                    -0.232876            -0.210629   \n",
       "customer_category                           0.794445             0.679366   \n",
       "\n",
       "                                  customer_frequency_score  \\\n",
       "customer_visit_score                             -0.209270   \n",
       "customer_product_search_score                    -0.023031   \n",
       "customer_ctr_score                                0.419461   \n",
       "customer_stay_score                               0.400374   \n",
       "customer_frequency_score                          1.000000   \n",
       "customer_product_variation_score                  0.702688   \n",
       "customer_order_score                             -0.533142   \n",
       "customer_affinity_score                          -0.326201   \n",
       "customer_category                                 0.389465   \n",
       "\n",
       "                                  customer_product_variation_score  \\\n",
       "customer_visit_score                                     -0.220016   \n",
       "customer_product_search_score                            -0.066274   \n",
       "customer_ctr_score                                        0.448071   \n",
       "customer_stay_score                                       0.406516   \n",
       "customer_frequency_score                                  0.702688   \n",
       "customer_product_variation_score                          1.000000   \n",
       "customer_order_score                                     -0.694476   \n",
       "customer_affinity_score                                  -0.525783   \n",
       "customer_category                                         0.493958   \n",
       "\n",
       "                                  customer_order_score  \\\n",
       "customer_visit_score                          0.170497   \n",
       "customer_product_search_score                 0.051181   \n",
       "customer_ctr_score                           -0.342506   \n",
       "customer_stay_score                          -0.311451   \n",
       "customer_frequency_score                     -0.533142   \n",
       "customer_product_variation_score             -0.694476   \n",
       "customer_order_score                          1.000000   \n",
       "customer_affinity_score                       0.763861   \n",
       "customer_category                            -0.385278   \n",
       "\n",
       "                                  customer_affinity_score  customer_category  \n",
       "customer_visit_score                             0.118925          -0.449654  \n",
       "customer_product_search_score                    0.044181          -0.300862  \n",
       "customer_ctr_score                              -0.232876           0.794445  \n",
       "customer_stay_score                             -0.210629           0.679366  \n",
       "customer_frequency_score                        -0.326201           0.389465  \n",
       "customer_product_variation_score                -0.525783           0.493958  \n",
       "customer_order_score                             0.763861          -0.385278  \n",
       "customer_affinity_score                          1.000000          -0.274105  \n",
       "customer_category                               -0.274105           1.000000  "
      ]
     },
     "execution_count": 10,
     "metadata": {},
     "output_type": "execute_result"
    }
   ],
   "source": [
    "#correlation matrix\n",
    "df.corr()"
   ]
  },
  {
   "cell_type": "code",
   "execution_count": 13,
   "id": "significant-breast",
   "metadata": {
    "collapsed": true
   },
   "outputs": [
    {
     "data": {
      "text/plain": [
       "C     4919\n",
       "D      536\n",
       "A      412\n",
       "AA     418\n",
       "B     4430\n",
       "Name: customer_active_segment, dtype: int64"
      ]
     },
     "execution_count": 13,
     "metadata": {},
     "output_type": "execute_result"
    }
   ],
   "source": [
    "df.customer_active_segment.value_counts(sort=False)"
   ]
  },
  {
   "cell_type": "code",
   "execution_count": 16,
   "id": "another-elite",
   "metadata": {
    "collapsed": true
   },
   "outputs": [
    {
     "data": {
      "text/plain": [
       "E       76\n",
       "A     2268\n",
       "AA    1611\n",
       "BA    4511\n",
       "F     2235\n",
       "Name: X1, dtype: int64"
      ]
     },
     "execution_count": 16,
     "metadata": {},
     "output_type": "execute_result"
    }
   ],
   "source": [
    "df.X1.value_counts(sort=False)"
   ]
  },
  {
   "cell_type": "code",
   "execution_count": 15,
   "id": "sacred-vampire",
   "metadata": {
    "collapsed": true
   },
   "outputs": [
    {
     "data": {
      "text/plain": [
       "0    9443\n",
       "1    1295\n",
       "Name: customer_category, dtype: int64"
      ]
     },
     "execution_count": 15,
     "metadata": {},
     "output_type": "execute_result"
    }
   ],
   "source": [
    "df.customer_category.value_counts(sort=False)"
   ]
  },
  {
   "cell_type": "code",
   "execution_count": 50,
   "id": "inside-robertson",
   "metadata": {
    "scrolled": false
   },
   "outputs": [
    {
     "data": {
      "text/html": [
       "<div>\n",
       "<style scoped>\n",
       "    .dataframe tbody tr th:only-of-type {\n",
       "        vertical-align: middle;\n",
       "    }\n",
       "\n",
       "    .dataframe tbody tr th {\n",
       "        vertical-align: top;\n",
       "    }\n",
       "\n",
       "    .dataframe thead th {\n",
       "        text-align: right;\n",
       "    }\n",
       "</style>\n",
       "<table border=\"1\" class=\"dataframe\">\n",
       "  <thead>\n",
       "    <tr style=\"text-align: right;\">\n",
       "      <th></th>\n",
       "      <th>customer_id</th>\n",
       "      <th>customer_visit_score</th>\n",
       "      <th>customer_product_search_score</th>\n",
       "      <th>customer_ctr_score</th>\n",
       "      <th>customer_stay_score</th>\n",
       "      <th>customer_frequency_score</th>\n",
       "      <th>customer_product_variation_score</th>\n",
       "      <th>customer_order_score</th>\n",
       "      <th>customer_affinity_score</th>\n",
       "      <th>customer_active_segment</th>\n",
       "      <th>X1</th>\n",
       "      <th>customer_category</th>\n",
       "    </tr>\n",
       "  </thead>\n",
       "  <tbody>\n",
       "    <tr>\n",
       "      <th>0</th>\n",
       "      <td>csid_1</td>\n",
       "      <td>0.269578</td>\n",
       "      <td>0.571994</td>\n",
       "      <td>0.148038</td>\n",
       "      <td>0.021297</td>\n",
       "      <td>0.007799</td>\n",
       "      <td>0.122126</td>\n",
       "      <td>0.249190</td>\n",
       "      <td>0.033916</td>\n",
       "      <td>3</td>\n",
       "      <td>4</td>\n",
       "      <td>0</td>\n",
       "    </tr>\n",
       "    <tr>\n",
       "      <th>1</th>\n",
       "      <td>csid_2</td>\n",
       "      <td>0.353548</td>\n",
       "      <td>0.445888</td>\n",
       "      <td>0.217287</td>\n",
       "      <td>0.023724</td>\n",
       "      <td>0.006717</td>\n",
       "      <td>0.090820</td>\n",
       "      <td>0.438887</td>\n",
       "      <td>0.072295</td>\n",
       "      <td>3</td>\n",
       "      <td>0</td>\n",
       "      <td>0</td>\n",
       "    </tr>\n",
       "    <tr>\n",
       "      <th>2</th>\n",
       "      <td>csid_3</td>\n",
       "      <td>0.362370</td>\n",
       "      <td>0.315807</td>\n",
       "      <td>0.202852</td>\n",
       "      <td>0.047831</td>\n",
       "      <td>0.007430</td>\n",
       "      <td>0.107950</td>\n",
       "      <td>0.402852</td>\n",
       "      <td>0.052530</td>\n",
       "      <td>3</td>\n",
       "      <td>2</td>\n",
       "      <td>0</td>\n",
       "    </tr>\n",
       "    <tr>\n",
       "      <th>3</th>\n",
       "      <td>csid_4</td>\n",
       "      <td>0.660161</td>\n",
       "      <td>0.302359</td>\n",
       "      <td>0.163523</td>\n",
       "      <td>0.023870</td>\n",
       "      <td>0.014314</td>\n",
       "      <td>0.144000</td>\n",
       "      <td>0.268779</td>\n",
       "      <td>0.021209</td>\n",
       "      <td>1</td>\n",
       "      <td>4</td>\n",
       "      <td>0</td>\n",
       "    </tr>\n",
       "    <tr>\n",
       "      <th>4</th>\n",
       "      <td>csid_5</td>\n",
       "      <td>0.242642</td>\n",
       "      <td>0.261843</td>\n",
       "      <td>0.227785</td>\n",
       "      <td>0.041900</td>\n",
       "      <td>0.002549</td>\n",
       "      <td>0.043300</td>\n",
       "      <td>0.379749</td>\n",
       "      <td>0.229374</td>\n",
       "      <td>3</td>\n",
       "      <td>1</td>\n",
       "      <td>0</td>\n",
       "    </tr>\n",
       "    <tr>\n",
       "      <th>...</th>\n",
       "      <td>...</td>\n",
       "      <td>...</td>\n",
       "      <td>...</td>\n",
       "      <td>...</td>\n",
       "      <td>...</td>\n",
       "      <td>...</td>\n",
       "      <td>...</td>\n",
       "      <td>...</td>\n",
       "      <td>...</td>\n",
       "      <td>...</td>\n",
       "      <td>...</td>\n",
       "      <td>...</td>\n",
       "    </tr>\n",
       "    <tr>\n",
       "      <th>10733</th>\n",
       "      <td>csid_10734</td>\n",
       "      <td>0.494325</td>\n",
       "      <td>0.408534</td>\n",
       "      <td>0.198567</td>\n",
       "      <td>0.029356</td>\n",
       "      <td>0.022568</td>\n",
       "      <td>0.265826</td>\n",
       "      <td>0.305235</td>\n",
       "      <td>0.009797</td>\n",
       "      <td>3</td>\n",
       "      <td>2</td>\n",
       "      <td>0</td>\n",
       "    </tr>\n",
       "    <tr>\n",
       "      <th>10734</th>\n",
       "      <td>csid_10735</td>\n",
       "      <td>0.537126</td>\n",
       "      <td>0.396409</td>\n",
       "      <td>0.185348</td>\n",
       "      <td>0.027385</td>\n",
       "      <td>0.013303</td>\n",
       "      <td>0.166010</td>\n",
       "      <td>0.314068</td>\n",
       "      <td>0.022531</td>\n",
       "      <td>3</td>\n",
       "      <td>2</td>\n",
       "      <td>0</td>\n",
       "    </tr>\n",
       "    <tr>\n",
       "      <th>10735</th>\n",
       "      <td>csid_10736</td>\n",
       "      <td>0.665584</td>\n",
       "      <td>0.473913</td>\n",
       "      <td>0.189297</td>\n",
       "      <td>0.028338</td>\n",
       "      <td>0.005529</td>\n",
       "      <td>0.177953</td>\n",
       "      <td>0.233728</td>\n",
       "      <td>0.089749</td>\n",
       "      <td>0</td>\n",
       "      <td>2</td>\n",
       "      <td>0</td>\n",
       "    </tr>\n",
       "    <tr>\n",
       "      <th>10736</th>\n",
       "      <td>csid_10737</td>\n",
       "      <td>0.596367</td>\n",
       "      <td>0.342273</td>\n",
       "      <td>0.140686</td>\n",
       "      <td>0.035879</td>\n",
       "      <td>0.001978</td>\n",
       "      <td>0.054009</td>\n",
       "      <td>0.528128</td>\n",
       "      <td>0.351176</td>\n",
       "      <td>2</td>\n",
       "      <td>1</td>\n",
       "      <td>0</td>\n",
       "    </tr>\n",
       "    <tr>\n",
       "      <th>10737</th>\n",
       "      <td>csid_10738</td>\n",
       "      <td>0.429933</td>\n",
       "      <td>0.276202</td>\n",
       "      <td>0.248230</td>\n",
       "      <td>0.055646</td>\n",
       "      <td>0.009096</td>\n",
       "      <td>0.089316</td>\n",
       "      <td>0.470487</td>\n",
       "      <td>0.113467</td>\n",
       "      <td>2</td>\n",
       "      <td>0</td>\n",
       "      <td>0</td>\n",
       "    </tr>\n",
       "  </tbody>\n",
       "</table>\n",
       "<p>10738 rows × 12 columns</p>\n",
       "</div>"
      ],
      "text/plain": [
       "      customer_id  customer_visit_score  customer_product_search_score  \\\n",
       "0          csid_1              0.269578                       0.571994   \n",
       "1          csid_2              0.353548                       0.445888   \n",
       "2          csid_3              0.362370                       0.315807   \n",
       "3          csid_4              0.660161                       0.302359   \n",
       "4          csid_5              0.242642                       0.261843   \n",
       "...           ...                   ...                            ...   \n",
       "10733  csid_10734              0.494325                       0.408534   \n",
       "10734  csid_10735              0.537126                       0.396409   \n",
       "10735  csid_10736              0.665584                       0.473913   \n",
       "10736  csid_10737              0.596367                       0.342273   \n",
       "10737  csid_10738              0.429933                       0.276202   \n",
       "\n",
       "       customer_ctr_score  customer_stay_score  customer_frequency_score  \\\n",
       "0                0.148038             0.021297                  0.007799   \n",
       "1                0.217287             0.023724                  0.006717   \n",
       "2                0.202852             0.047831                  0.007430   \n",
       "3                0.163523             0.023870                  0.014314   \n",
       "4                0.227785             0.041900                  0.002549   \n",
       "...                   ...                  ...                       ...   \n",
       "10733            0.198567             0.029356                  0.022568   \n",
       "10734            0.185348             0.027385                  0.013303   \n",
       "10735            0.189297             0.028338                  0.005529   \n",
       "10736            0.140686             0.035879                  0.001978   \n",
       "10737            0.248230             0.055646                  0.009096   \n",
       "\n",
       "       customer_product_variation_score  customer_order_score  \\\n",
       "0                              0.122126              0.249190   \n",
       "1                              0.090820              0.438887   \n",
       "2                              0.107950              0.402852   \n",
       "3                              0.144000              0.268779   \n",
       "4                              0.043300              0.379749   \n",
       "...                                 ...                   ...   \n",
       "10733                          0.265826              0.305235   \n",
       "10734                          0.166010              0.314068   \n",
       "10735                          0.177953              0.233728   \n",
       "10736                          0.054009              0.528128   \n",
       "10737                          0.089316              0.470487   \n",
       "\n",
       "       customer_affinity_score  customer_active_segment  X1  customer_category  \n",
       "0                     0.033916                        3   4                  0  \n",
       "1                     0.072295                        3   0                  0  \n",
       "2                     0.052530                        3   2                  0  \n",
       "3                     0.021209                        1   4                  0  \n",
       "4                     0.229374                        3   1                  0  \n",
       "...                        ...                      ...  ..                ...  \n",
       "10733                 0.009797                        3   2                  0  \n",
       "10734                 0.022531                        3   2                  0  \n",
       "10735                 0.089749                        0   2                  0  \n",
       "10736                 0.351176                        2   1                  0  \n",
       "10737                 0.113467                        2   0                  0  \n",
       "\n",
       "[10738 rows x 12 columns]"
      ]
     },
     "execution_count": 50,
     "metadata": {},
     "output_type": "execute_result"
    }
   ],
   "source": [
    "colums_to_normalize = ['customer_visit_score', 'customer_product_search_score', 'customer_ctr_score', 'customer_stay_score', 'customer_frequency_score', 'customer_product_variation_score', 'customer_order_score', 'customer_affinity_score']\n",
    "df[colums_to_normalize] = df[colums_to_normalize].apply(lambda x: (x-x.min())/(x.max()-x.min()))\n",
    "df"
   ]
  },
  {
   "cell_type": "code",
   "execution_count": 51,
   "id": "provincial-calibration",
   "metadata": {
    "scrolled": false
   },
   "outputs": [
    {
     "data": {
      "text/plain": [
       "<AxesSubplot:>"
      ]
     },
     "execution_count": 51,
     "metadata": {},
     "output_type": "execute_result"
    },
    {
     "data": {
      "image/png": "[encoded data removed]",
      "text/plain": [
       "<Figure size 600x480 with 2 Axes>"
      ]
     },
     "metadata": {},
     "output_type": "display_data"
    }
   ],
   "source": [
    "seaborn.heatmap(df.corr())"
   ]
  },
  {
   "cell_type": "code",
   "execution_count": 49,
   "id": "representative-kentucky",
   "metadata": {},
   "outputs": [
    {
     "data": {
      "text/html": [
       "<div>\n",
       "<style scoped>\n",
       "    .dataframe tbody tr th:only-of-type {\n",
       "        vertical-align: middle;\n",
       "    }\n",
       "\n",
       "    .dataframe tbody tr th {\n",
       "        vertical-align: top;\n",
       "    }\n",
       "\n",
       "    .dataframe thead th {\n",
       "        text-align: right;\n",
       "    }\n",
       "</style>\n",
       "<table border=\"1\" class=\"dataframe\">\n",
       "  <thead>\n",
       "    <tr style=\"text-align: right;\">\n",
       "      <th></th>\n",
       "      <th>customer_id</th>\n",
       "      <th>customer_visit_score</th>\n",
       "      <th>customer_product_search_score</th>\n",
       "      <th>customer_ctr_score</th>\n",
       "      <th>customer_stay_score</th>\n",
       "      <th>customer_frequency_score</th>\n",
       "      <th>customer_product_variation_score</th>\n",
       "      <th>customer_order_score</th>\n",
       "      <th>customer_affinity_score</th>\n",
       "      <th>customer_active_segment</th>\n",
       "      <th>X1</th>\n",
       "      <th>customer_category</th>\n",
       "    </tr>\n",
       "  </thead>\n",
       "  <tbody>\n",
       "    <tr>\n",
       "      <th>0</th>\n",
       "      <td>csid_1</td>\n",
       "      <td>0.269578</td>\n",
       "      <td>0.571994</td>\n",
       "      <td>0.148038</td>\n",
       "      <td>0.021297</td>\n",
       "      <td>0.007799</td>\n",
       "      <td>0.122126</td>\n",
       "      <td>0.249190</td>\n",
       "      <td>0.033916</td>\n",
       "      <td>3</td>\n",
       "      <td>4</td>\n",
       "      <td>0</td>\n",
       "    </tr>\n",
       "    <tr>\n",
       "      <th>1</th>\n",
       "      <td>csid_2</td>\n",
       "      <td>0.353548</td>\n",
       "      <td>0.445888</td>\n",
       "      <td>0.217287</td>\n",
       "      <td>0.023724</td>\n",
       "      <td>0.006717</td>\n",
       "      <td>0.090820</td>\n",
       "      <td>0.438887</td>\n",
       "      <td>0.072295</td>\n",
       "      <td>3</td>\n",
       "      <td>0</td>\n",
       "      <td>0</td>\n",
       "    </tr>\n",
       "    <tr>\n",
       "      <th>2</th>\n",
       "      <td>csid_3</td>\n",
       "      <td>0.362370</td>\n",
       "      <td>0.315807</td>\n",
       "      <td>0.202852</td>\n",
       "      <td>0.047831</td>\n",
       "      <td>0.007430</td>\n",
       "      <td>0.107950</td>\n",
       "      <td>0.402852</td>\n",
       "      <td>0.052530</td>\n",
       "      <td>3</td>\n",
       "      <td>2</td>\n",
       "      <td>0</td>\n",
       "    </tr>\n",
       "    <tr>\n",
       "      <th>3</th>\n",
       "      <td>csid_4</td>\n",
       "      <td>0.660161</td>\n",
       "      <td>0.302359</td>\n",
       "      <td>0.163523</td>\n",
       "      <td>0.023870</td>\n",
       "      <td>0.014314</td>\n",
       "      <td>0.144000</td>\n",
       "      <td>0.268779</td>\n",
       "      <td>0.021209</td>\n",
       "      <td>1</td>\n",
       "      <td>4</td>\n",
       "      <td>0</td>\n",
       "    </tr>\n",
       "    <tr>\n",
       "      <th>4</th>\n",
       "      <td>csid_5</td>\n",
       "      <td>0.242642</td>\n",
       "      <td>0.261843</td>\n",
       "      <td>0.227785</td>\n",
       "      <td>0.041900</td>\n",
       "      <td>0.002549</td>\n",
       "      <td>0.043300</td>\n",
       "      <td>0.379749</td>\n",
       "      <td>0.229374</td>\n",
       "      <td>3</td>\n",
       "      <td>1</td>\n",
       "      <td>0</td>\n",
       "    </tr>\n",
       "    <tr>\n",
       "      <th>...</th>\n",
       "      <td>...</td>\n",
       "      <td>...</td>\n",
       "      <td>...</td>\n",
       "      <td>...</td>\n",
       "      <td>...</td>\n",
       "      <td>...</td>\n",
       "      <td>...</td>\n",
       "      <td>...</td>\n",
       "      <td>...</td>\n",
       "      <td>...</td>\n",
       "      <td>...</td>\n",
       "      <td>...</td>\n",
       "    </tr>\n",
       "    <tr>\n",
       "      <th>10733</th>\n",
       "      <td>csid_10734</td>\n",
       "      <td>0.494325</td>\n",
       "      <td>0.408534</td>\n",
       "      <td>0.198567</td>\n",
       "      <td>0.029356</td>\n",
       "      <td>0.022568</td>\n",
       "      <td>0.265826</td>\n",
       "      <td>0.305235</td>\n",
       "      <td>0.009797</td>\n",
       "      <td>3</td>\n",
       "      <td>2</td>\n",
       "      <td>0</td>\n",
       "    </tr>\n",
       "    <tr>\n",
       "      <th>10734</th>\n",
       "      <td>csid_10735</td>\n",
       "      <td>0.537126</td>\n",
       "      <td>0.396409</td>\n",
       "      <td>0.185348</td>\n",
       "      <td>0.027385</td>\n",
       "      <td>0.013303</td>\n",
       "      <td>0.166010</td>\n",
       "      <td>0.314068</td>\n",
       "      <td>0.022531</td>\n",
       "      <td>3</td>\n",
       "      <td>2</td>\n",
       "      <td>0</td>\n",
       "    </tr>\n",
       "    <tr>\n",
       "      <th>10735</th>\n",
       "      <td>csid_10736</td>\n",
       "      <td>0.665584</td>\n",
       "      <td>0.473913</td>\n",
       "      <td>0.189297</td>\n",
       "      <td>0.028338</td>\n",
       "      <td>0.005529</td>\n",
       "      <td>0.177953</td>\n",
       "      <td>0.233728</td>\n",
       "      <td>0.089749</td>\n",
       "      <td>0</td>\n",
       "      <td>2</td>\n",
       "      <td>0</td>\n",
       "    </tr>\n",
       "    <tr>\n",
       "      <th>10736</th>\n",
       "      <td>csid_10737</td>\n",
       "      <td>0.596367</td>\n",
       "      <td>0.342273</td>\n",
       "      <td>0.140686</td>\n",
       "      <td>0.035879</td>\n",
       "      <td>0.001978</td>\n",
       "      <td>0.054009</td>\n",
       "      <td>0.528128</td>\n",
       "      <td>0.351176</td>\n",
       "      <td>2</td>\n",
       "      <td>1</td>\n",
       "      <td>0</td>\n",
       "    </tr>\n",
       "    <tr>\n",
       "      <th>10737</th>\n",
       "      <td>csid_10738</td>\n",
       "      <td>0.429933</td>\n",
       "      <td>0.276202</td>\n",
       "      <td>0.248230</td>\n",
       "      <td>0.055646</td>\n",
       "      <td>0.009096</td>\n",
       "      <td>0.089316</td>\n",
       "      <td>0.470487</td>\n",
       "      <td>0.113467</td>\n",
       "      <td>2</td>\n",
       "      <td>0</td>\n",
       "      <td>0</td>\n",
       "    </tr>\n",
       "  </tbody>\n",
       "</table>\n",
       "<p>10738 rows × 12 columns</p>\n",
       "</div>"
      ],
      "text/plain": [
       "      customer_id  customer_visit_score  customer_product_search_score  \\\n",
       "0          csid_1              0.269578                       0.571994   \n",
       "1          csid_2              0.353548                       0.445888   \n",
       "2          csid_3              0.362370                       0.315807   \n",
       "3          csid_4              0.660161                       0.302359   \n",
       "4          csid_5              0.242642                       0.261843   \n",
       "...           ...                   ...                            ...   \n",
       "10733  csid_10734              0.494325                       0.408534   \n",
       "10734  csid_10735              0.537126                       0.396409   \n",
       "10735  csid_10736              0.665584                       0.473913   \n",
       "10736  csid_10737              0.596367                       0.342273   \n",
       "10737  csid_10738              0.429933                       0.276202   \n",
       "\n",
       "       customer_ctr_score  customer_stay_score  customer_frequency_score  \\\n",
       "0                0.148038             0.021297                  0.007799   \n",
       "1                0.217287             0.023724                  0.006717   \n",
       "2                0.202852             0.047831                  0.007430   \n",
       "3                0.163523             0.023870                  0.014314   \n",
       "4                0.227785             0.041900                  0.002549   \n",
       "...                   ...                  ...                       ...   \n",
       "10733            0.198567             0.029356                  0.022568   \n",
       "10734            0.185348             0.027385                  0.013303   \n",
       "10735            0.189297             0.028338                  0.005529   \n",
       "10736            0.140686             0.035879                  0.001978   \n",
       "10737            0.248230             0.055646                  0.009096   \n",
       "\n",
       "       customer_product_variation_score  customer_order_score  \\\n",
       "0                              0.122126              0.249190   \n",
       "1                              0.090820              0.438887   \n",
       "2                              0.107950              0.402852   \n",
       "3                              0.144000              0.268779   \n",
       "4                              0.043300              0.379749   \n",
       "...                                 ...                   ...   \n",
       "10733                          0.265826              0.305235   \n",
       "10734                          0.166010              0.314068   \n",
       "10735                          0.177953              0.233728   \n",
       "10736                          0.054009              0.528128   \n",
       "10737                          0.089316              0.470487   \n",
       "\n",
       "       customer_affinity_score  customer_active_segment  X1  customer_category  \n",
       "0                     0.033916                        3   4                  0  \n",
       "1                     0.072295                        3   0                  0  \n",
       "2                     0.052530                        3   2                  0  \n",
       "3                     0.021209                        1   4                  0  \n",
       "4                     0.229374                        3   1                  0  \n",
       "...                        ...                      ...  ..                ...  \n",
       "10733                 0.009797                        3   2                  0  \n",
       "10734                 0.022531                        3   2                  0  \n",
       "10735                 0.089749                        0   2                  0  \n",
       "10736                 0.351176                        2   1                  0  \n",
       "10737                 0.113467                        2   0                  0  \n",
       "\n",
       "[10738 rows x 12 columns]"
      ]
     },
     "execution_count": 49,
     "metadata": {},
     "output_type": "execute_result"
    }
   ],
   "source": [
    "categorical_cols = df.columns[9:11]\n",
    "le = LabelEncoder()\n",
    "df[categorical_cols] = df[categorical_cols].apply(lambda col: le.fit_transform(col))\n",
    "df"
   ]
  },
  {
   "cell_type": "code",
   "execution_count": null,
   "id": "effective-cambridge",
   "metadata": {},
   "outputs": [],
   "source": []
  }
 ],
 "metadata": {
  "kernelspec": {
   "display_name": "Python 3",
   "language": "python",
   "name": "python3"
  },
  "language_info": {
   "codemirror_mode": {
    "name": "ipython",
    "version": 3
   },
   "file_extension": ".py",
   "mimetype": "text/x-python",
   "name": "python",
   "nbconvert_exporter": "python",
   "pygments_lexer": "ipython3",
   "version": "3.7.9"
  }
 },
 "nbformat": 4,
 "nbformat_minor": 5
}
