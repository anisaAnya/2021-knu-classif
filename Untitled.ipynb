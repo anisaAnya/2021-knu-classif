{
 "cells": [
  {
   "cell_type": "code",
   "execution_count": 1,
   "id": "western-street",
   "metadata": {
    "scrolled": true
   },
   "outputs": [
    {
     "data": {
      "text/html": [
       "<div>\n",
       "<style scoped>\n",
       "    .dataframe tbody tr th:only-of-type {\n",
       "        vertical-align: middle;\n",
       "    }\n",
       "\n",
       "    .dataframe tbody tr th {\n",
       "        vertical-align: top;\n",
       "    }\n",
       "\n",
       "    .dataframe thead th {\n",
       "        text-align: right;\n",
       "    }\n",
       "</style>\n",
       "<table border=\"1\" class=\"dataframe\">\n",
       "  <thead>\n",
       "    <tr style=\"text-align: right;\">\n",
       "      <th></th>\n",
       "      <th>customer_visit_score</th>\n",
       "      <th>customer_product_search_score</th>\n",
       "      <th>customer_ctr_score</th>\n",
       "      <th>customer_stay_score</th>\n",
       "      <th>customer_frequency_score</th>\n",
       "      <th>customer_product_variation_score</th>\n",
       "      <th>customer_order_score</th>\n",
       "      <th>customer_affinity_score</th>\n",
       "      <th>customer_active_segment</th>\n",
       "      <th>X1</th>\n",
       "      <th>customer_category</th>\n",
       "    </tr>\n",
       "  </thead>\n",
       "  <tbody>\n",
       "    <tr>\n",
       "      <th>0</th>\n",
       "      <td>13.168425</td>\n",
       "      <td>9.447662</td>\n",
       "      <td>-0.070203</td>\n",
       "      <td>-0.139541</td>\n",
       "      <td>0.436956</td>\n",
       "      <td>4.705761</td>\n",
       "      <td>2.537985</td>\n",
       "      <td>7.959503</td>\n",
       "      <td>C</td>\n",
       "      <td>F</td>\n",
       "      <td>0</td>\n",
       "    </tr>\n",
       "    <tr>\n",
       "      <th>1</th>\n",
       "      <td>17.092979</td>\n",
       "      <td>7.329056</td>\n",
       "      <td>0.153298</td>\n",
       "      <td>-0.102726</td>\n",
       "      <td>0.380340</td>\n",
       "      <td>4.205138</td>\n",
       "      <td>4.193444</td>\n",
       "      <td>17.517381</td>\n",
       "      <td>C</td>\n",
       "      <td>A</td>\n",
       "      <td>0</td>\n",
       "    </tr>\n",
       "    <tr>\n",
       "      <th>2</th>\n",
       "      <td>17.505334</td>\n",
       "      <td>5.143676</td>\n",
       "      <td>0.106709</td>\n",
       "      <td>0.262834</td>\n",
       "      <td>0.417648</td>\n",
       "      <td>4.479070</td>\n",
       "      <td>3.878971</td>\n",
       "      <td>12.595155</td>\n",
       "      <td>C</td>\n",
       "      <td>BA</td>\n",
       "      <td>0</td>\n",
       "    </tr>\n",
       "    <tr>\n",
       "      <th>3</th>\n",
       "      <td>31.423381</td>\n",
       "      <td>4.917740</td>\n",
       "      <td>-0.020226</td>\n",
       "      <td>-0.100526</td>\n",
       "      <td>0.778130</td>\n",
       "      <td>5.055535</td>\n",
       "      <td>2.708940</td>\n",
       "      <td>4.795073</td>\n",
       "      <td>AA</td>\n",
       "      <td>F</td>\n",
       "      <td>0</td>\n",
       "    </tr>\n",
       "    <tr>\n",
       "      <th>4</th>\n",
       "      <td>11.909502</td>\n",
       "      <td>4.237073</td>\n",
       "      <td>0.187178</td>\n",
       "      <td>0.172891</td>\n",
       "      <td>0.162067</td>\n",
       "      <td>3.445247</td>\n",
       "      <td>3.677360</td>\n",
       "      <td>56.636326</td>\n",
       "      <td>C</td>\n",
       "      <td>AA</td>\n",
       "      <td>0</td>\n",
       "    </tr>\n",
       "    <tr>\n",
       "      <th>...</th>\n",
       "      <td>...</td>\n",
       "      <td>...</td>\n",
       "      <td>...</td>\n",
       "      <td>...</td>\n",
       "      <td>...</td>\n",
       "      <td>...</td>\n",
       "      <td>...</td>\n",
       "      <td>...</td>\n",
       "      <td>...</td>\n",
       "      <td>...</td>\n",
       "      <td>...</td>\n",
       "    </tr>\n",
       "    <tr>\n",
       "      <th>10733</th>\n",
       "      <td>23.672615</td>\n",
       "      <td>6.701514</td>\n",
       "      <td>0.092879</td>\n",
       "      <td>-0.017332</td>\n",
       "      <td>1.210397</td>\n",
       "      <td>7.003663</td>\n",
       "      <td>3.027084</td>\n",
       "      <td>1.952911</td>\n",
       "      <td>C</td>\n",
       "      <td>BA</td>\n",
       "      <td>0</td>\n",
       "    </tr>\n",
       "    <tr>\n",
       "      <th>10734</th>\n",
       "      <td>25.673028</td>\n",
       "      <td>6.497796</td>\n",
       "      <td>0.050216</td>\n",
       "      <td>-0.047211</td>\n",
       "      <td>0.725230</td>\n",
       "      <td>5.407507</td>\n",
       "      <td>3.104172</td>\n",
       "      <td>5.124286</td>\n",
       "      <td>C</td>\n",
       "      <td>BA</td>\n",
       "      <td>0</td>\n",
       "    </tr>\n",
       "    <tr>\n",
       "      <th>10735</th>\n",
       "      <td>31.676844</td>\n",
       "      <td>7.799880</td>\n",
       "      <td>0.062961</td>\n",
       "      <td>-0.032765</td>\n",
       "      <td>0.318118</td>\n",
       "      <td>5.598486</td>\n",
       "      <td>2.403051</td>\n",
       "      <td>21.864188</td>\n",
       "      <td>A</td>\n",
       "      <td>BA</td>\n",
       "      <td>0</td>\n",
       "    </tr>\n",
       "    <tr>\n",
       "      <th>10736</th>\n",
       "      <td>28.441780</td>\n",
       "      <td>5.588302</td>\n",
       "      <td>-0.093931</td>\n",
       "      <td>0.081586</td>\n",
       "      <td>0.132177</td>\n",
       "      <td>3.616492</td>\n",
       "      <td>4.972243</td>\n",
       "      <td>86.969977</td>\n",
       "      <td>B</td>\n",
       "      <td>AA</td>\n",
       "      <td>0</td>\n",
       "    </tr>\n",
       "    <tr>\n",
       "      <th>10737</th>\n",
       "      <td>20.663035</td>\n",
       "      <td>4.478301</td>\n",
       "      <td>0.253165</td>\n",
       "      <td>0.381349</td>\n",
       "      <td>0.504904</td>\n",
       "      <td>4.181092</td>\n",
       "      <td>4.469215</td>\n",
       "      <td>27.770899</td>\n",
       "      <td>B</td>\n",
       "      <td>A</td>\n",
       "      <td>0</td>\n",
       "    </tr>\n",
       "  </tbody>\n",
       "</table>\n",
       "<p>10491 rows × 11 columns</p>\n",
       "</div>"
      ],
      "text/plain": [
       "       customer_visit_score  customer_product_search_score  \\\n",
       "0                 13.168425                       9.447662   \n",
       "1                 17.092979                       7.329056   \n",
       "2                 17.505334                       5.143676   \n",
       "3                 31.423381                       4.917740   \n",
       "4                 11.909502                       4.237073   \n",
       "...                     ...                            ...   \n",
       "10733             23.672615                       6.701514   \n",
       "10734             25.673028                       6.497796   \n",
       "10735             31.676844                       7.799880   \n",
       "10736             28.441780                       5.588302   \n",
       "10737             20.663035                       4.478301   \n",
       "\n",
       "       customer_ctr_score  customer_stay_score  customer_frequency_score  \\\n",
       "0               -0.070203            -0.139541                  0.436956   \n",
       "1                0.153298            -0.102726                  0.380340   \n",
       "2                0.106709             0.262834                  0.417648   \n",
       "3               -0.020226            -0.100526                  0.778130   \n",
       "4                0.187178             0.172891                  0.162067   \n",
       "...                   ...                  ...                       ...   \n",
       "10733            0.092879            -0.017332                  1.210397   \n",
       "10734            0.050216            -0.047211                  0.725230   \n",
       "10735            0.062961            -0.032765                  0.318118   \n",
       "10736           -0.093931             0.081586                  0.132177   \n",
       "10737            0.253165             0.381349                  0.504904   \n",
       "\n",
       "       customer_product_variation_score  customer_order_score  \\\n",
       "0                              4.705761              2.537985   \n",
       "1                              4.205138              4.193444   \n",
       "2                              4.479070              3.878971   \n",
       "3                              5.055535              2.708940   \n",
       "4                              3.445247              3.677360   \n",
       "...                                 ...                   ...   \n",
       "10733                          7.003663              3.027084   \n",
       "10734                          5.407507              3.104172   \n",
       "10735                          5.598486              2.403051   \n",
       "10736                          3.616492              4.972243   \n",
       "10737                          4.181092              4.469215   \n",
       "\n",
       "       customer_affinity_score customer_active_segment  X1  customer_category  \n",
       "0                     7.959503                       C   F                  0  \n",
       "1                    17.517381                       C   A                  0  \n",
       "2                    12.595155                       C  BA                  0  \n",
       "3                     4.795073                      AA   F                  0  \n",
       "4                    56.636326                       C  AA                  0  \n",
       "...                        ...                     ...  ..                ...  \n",
       "10733                 1.952911                       C  BA                  0  \n",
       "10734                 5.124286                       C  BA                  0  \n",
       "10735                21.864188                       A  BA                  0  \n",
       "10736                86.969977                       B  AA                  0  \n",
       "10737                27.770899                       B   A                  0  \n",
       "\n",
       "[10491 rows x 11 columns]"
      ]
     },
     "execution_count": 1,
     "metadata": {},
     "output_type": "execute_result"
    }
   ],
   "source": [
    "import pandas\n",
    "import matplotlib.pyplot as plt\n",
    "import seaborn\n",
    "import numpy as np\n",
    "from sklearn.preprocessing import LabelEncoder\n",
    "from scipy import stats\n",
    "plt.style.use(\"dark_background\")\n",
    "df = pandas.read_csv(\"train.csv\")\n",
    "df.drop(\"customer_id\", inplace=True, axis=1)\n",
    "df = df.dropna()\n",
    "df"
   ]
  },
  {
   "cell_type": "code",
   "execution_count": 2,
   "id": "minimal-champion",
   "metadata": {},
   "outputs": [],
   "source": [
    "plt.rcParams[\"figure.figsize\"] = [10/1.2, 8/1.2]\n",
    "#plt.rcParams[\"figure.figsize\"] = [20, 20]"
   ]
  },
  {
   "cell_type": "code",
   "execution_count": 3,
   "id": "legendary-oriental",
   "metadata": {},
   "outputs": [
    {
     "name": "stdout",
     "output_type": "stream",
     "text": [
      "size:  115401 \n",
      "\n",
      "shape:  (10491, 11) \n",
      "\n",
      "columns:  ['customer_visit_score', 'customer_product_search_score', 'customer_ctr_score', 'customer_stay_score', 'customer_frequency_score', 'customer_product_variation_score', 'customer_order_score', 'customer_affinity_score', 'customer_active_segment', 'X1', 'customer_category'] \n",
      "\n",
      "type of each column:\n",
      " customer_visit_score                float64\n",
      "customer_product_search_score       float64\n",
      "customer_ctr_score                  float64\n",
      "customer_stay_score                 float64\n",
      "customer_frequency_score            float64\n",
      "customer_product_variation_score    float64\n",
      "customer_order_score                float64\n",
      "customer_affinity_score             float64\n",
      "customer_active_segment              object\n",
      "X1                                   object\n",
      "customer_category                     int64\n",
      "dtype: object\n"
     ]
    }
   ],
   "source": [
    "print(\"size: \", df.size, \"\\n\")\n",
    "print(\"shape: \", df.shape, \"\\n\")\n",
    "print(\"columns: \", list(df.columns), \"\\n\")\n",
    "print(\"type of each column:\\n\", df.dtypes)"
   ]
  },
  {
   "cell_type": "code",
   "execution_count": 4,
   "id": "thick-judge",
   "metadata": {},
   "outputs": [
    {
     "data": {
      "text/plain": [
       "{'whiskers': [<matplotlib.lines.Line2D at 0x266c2cd0688>,\n",
       "  <matplotlib.lines.Line2D at 0x266c2cebcc8>],\n",
       " 'caps': [<matplotlib.lines.Line2D at 0x266c2cfd988>,\n",
       "  <matplotlib.lines.Line2D at 0x266c2cfddc8>],\n",
       " 'boxes': [<matplotlib.lines.Line2D at 0x266c2cebbc8>],\n",
       " 'medians': [<matplotlib.lines.Line2D at 0x266c2cfde08>],\n",
       " 'fliers': [<matplotlib.lines.Line2D at 0x266c2cfdec8>],\n",
       " 'means': []}"
      ]
     },
     "execution_count": 4,
     "metadata": {},
     "output_type": "execute_result"
    },
    {
     "data": {
      "image/png": "[encoded data removed]",
      "text/plain": [
       "<Figure size 600x480 with 1 Axes>"
      ]
     },
     "metadata": {},
     "output_type": "display_data"
    }
   ],
   "source": [
    "plt.title(\"customer_visit_score\")\n",
    "plt.boxplot(df.customer_visit_score.dropna())"
   ]
  },
  {
   "cell_type": "code",
   "execution_count": 5,
   "id": "quality-cookbook",
   "metadata": {},
   "outputs": [
    {
     "data": {
      "text/plain": [
       "{'whiskers': [<matplotlib.lines.Line2D at 0x266c67bff88>,\n",
       "  <matplotlib.lines.Line2D at 0x266c67d1b48>],\n",
       " 'caps': [<matplotlib.lines.Line2D at 0x266c67d1ac8>,\n",
       "  <matplotlib.lines.Line2D at 0x266c67d7ec8>],\n",
       " 'boxes': [<matplotlib.lines.Line2D at 0x266c67d1548>],\n",
       " 'medians': [<matplotlib.lines.Line2D at 0x266c67d7e08>],\n",
       " 'fliers': [<matplotlib.lines.Line2D at 0x266c67ddcc8>],\n",
       " 'means': []}"
      ]
     },
     "execution_count": 5,
     "metadata": {},
     "output_type": "execute_result"
    },
    {
     "data": {
      "image/png": "[encoded data removed]",
      "text/plain": [
       "<Figure size 600x480 with 1 Axes>"
      ]
     },
     "metadata": {},
     "output_type": "display_data"
    }
   ],
   "source": [
    "plt.title(\"customer_product_search_score\")\n",
    "plt.boxplot(df.customer_product_search_score.dropna())"
   ]
  },
  {
   "cell_type": "code",
   "execution_count": 6,
   "id": "conventional-onion",
   "metadata": {},
   "outputs": [
    {
     "data": {
      "text/plain": [
       "{'whiskers': [<matplotlib.lines.Line2D at 0x2670016e3c8>,\n",
       "  <matplotlib.lines.Line2D at 0x2670001ce48>],\n",
       " 'caps': [<matplotlib.lines.Line2D at 0x2670001cd88>,\n",
       "  <matplotlib.lines.Line2D at 0x2670001cf88>],\n",
       " 'boxes': [<matplotlib.lines.Line2D at 0x2670001c2c8>],\n",
       " 'medians': [<matplotlib.lines.Line2D at 0x26700021b48>],\n",
       " 'fliers': [<matplotlib.lines.Line2D at 0x26700021d48>],\n",
       " 'means': []}"
      ]
     },
     "execution_count": 6,
     "metadata": {},
     "output_type": "execute_result"
    },
    {
     "data": {
      "image/png": "[encoded data removed]",
      "text/plain": [
       "<Figure size 600x480 with 1 Axes>"
      ]
     },
     "metadata": {},
     "output_type": "display_data"
    }
   ],
   "source": [
    "plt.title(\"customer_ctr_score\")\n",
    "plt.boxplot(df.customer_ctr_score.dropna())"
   ]
  },
  {
   "cell_type": "code",
   "execution_count": 7,
   "id": "authentic-walker",
   "metadata": {},
   "outputs": [
    {
     "data": {
      "text/plain": [
       "{'whiskers': [<matplotlib.lines.Line2D at 0x2670007bdc8>,\n",
       "  <matplotlib.lines.Line2D at 0x2670008de88>],\n",
       " 'caps': [<matplotlib.lines.Line2D at 0x26700094a48>,\n",
       "  <matplotlib.lines.Line2D at 0x26700094c48>],\n",
       " 'boxes': [<matplotlib.lines.Line2D at 0x2670008dd08>],\n",
       " 'medians': [<matplotlib.lines.Line2D at 0x2670009bfc8>],\n",
       " 'fliers': [<matplotlib.lines.Line2D at 0x2670009ba08>],\n",
       " 'means': []}"
      ]
     },
     "execution_count": 7,
     "metadata": {},
     "output_type": "execute_result"
    },
    {
     "data": {
      "image/png": "[encoded data removed]",
      "text/plain": [
       "<Figure size 600x480 with 1 Axes>"
      ]
     },
     "metadata": {},
     "output_type": "display_data"
    }
   ],
   "source": [
    "plt.title(\"customer_stay_score\")\n",
    "plt.boxplot(df.customer_stay_score.dropna())"
   ]
  },
  {
   "cell_type": "code",
   "execution_count": 8,
   "id": "pacific-necklace",
   "metadata": {},
   "outputs": [
    {
     "data": {
      "text/plain": [
       "{'whiskers': [<matplotlib.lines.Line2D at 0x267000d7348>,\n",
       "  <matplotlib.lines.Line2D at 0x267000ddf88>],\n",
       " 'caps': [<matplotlib.lines.Line2D at 0x26700174a08>,\n",
       "  <matplotlib.lines.Line2D at 0x26700174c08>],\n",
       " 'boxes': [<matplotlib.lines.Line2D at 0x267000dde48>],\n",
       " 'medians': [<matplotlib.lines.Line2D at 0x2670017cf88>],\n",
       " 'fliers': [<matplotlib.lines.Line2D at 0x2670017c9c8>],\n",
       " 'means': []}"
      ]
     },
     "execution_count": 8,
     "metadata": {},
     "output_type": "execute_result"
    },
    {
     "data": {
      "image/png": "[encoded data removed]",
      "text/plain": [
       "<Figure size 600x480 with 1 Axes>"
      ]
     },
     "metadata": {},
     "output_type": "display_data"
    }
   ],
   "source": [
    "plt.title(\"customer_frequency_score\")\n",
    "plt.boxplot(df.customer_frequency_score.dropna())"
   ]
  },
  {
   "cell_type": "code",
   "execution_count": 9,
   "id": "sixth-czech",
   "metadata": {},
   "outputs": [
    {
     "data": {
      "text/plain": [
       "{'whiskers': [<matplotlib.lines.Line2D at 0x267001d0348>,\n",
       "  <matplotlib.lines.Line2D at 0x267001ddd88>],\n",
       " 'caps': [<matplotlib.lines.Line2D at 0x267001e1948>,\n",
       "  <matplotlib.lines.Line2D at 0x267001e1b48>],\n",
       " 'boxes': [<matplotlib.lines.Line2D at 0x267001ddc08>],\n",
       " 'medians': [<matplotlib.lines.Line2D at 0x267001e7ec8>],\n",
       " 'fliers': [<matplotlib.lines.Line2D at 0x267001e7e88>],\n",
       " 'means': []}"
      ]
     },
     "execution_count": 9,
     "metadata": {},
     "output_type": "execute_result"
    },
    {
     "data": {
      "image/png": "[encoded data removed]",
      "text/plain": [
       "<Figure size 600x480 with 1 Axes>"
      ]
     },
     "metadata": {},
     "output_type": "display_data"
    }
   ],
   "source": [
    "plt.title(\"customer_product_variation_score\")\n",
    "plt.boxplot(df.customer_product_variation_score.dropna())"
   ]
  },
  {
   "cell_type": "code",
   "execution_count": 10,
   "id": "particular-chocolate",
   "metadata": {},
   "outputs": [
    {
     "data": {
      "text/plain": [
       "{'whiskers': [<matplotlib.lines.Line2D at 0x26700233508>,\n",
       "  <matplotlib.lines.Line2D at 0x26700253fc8>],\n",
       " 'caps': [<matplotlib.lines.Line2D at 0x26700253b08>,\n",
       "  <matplotlib.lines.Line2D at 0x26700258e48>],\n",
       " 'boxes': [<matplotlib.lines.Line2D at 0x26700253308>],\n",
       " 'medians': [<matplotlib.lines.Line2D at 0x26700258d88>],\n",
       " 'fliers': [<matplotlib.lines.Line2D at 0x26700258f88>],\n",
       " 'means': []}"
      ]
     },
     "execution_count": 10,
     "metadata": {},
     "output_type": "execute_result"
    },
    {
     "data": {
      "image/png": "[encoded data removed]",
      "text/plain": [
       "<Figure size 600x480 with 1 Axes>"
      ]
     },
     "metadata": {},
     "output_type": "display_data"
    }
   ],
   "source": [
    "plt.title(\"customer_order_score\")\n",
    "plt.boxplot(df.customer_order_score.dropna())"
   ]
  },
  {
   "cell_type": "code",
   "execution_count": 11,
   "id": "suitable-signature",
   "metadata": {},
   "outputs": [
    {
     "data": {
      "text/plain": [
       "{'whiskers': [<matplotlib.lines.Line2D at 0x267003df148>,\n",
       "  <matplotlib.lines.Line2D at 0x2670027ee08>],\n",
       " 'caps': [<matplotlib.lines.Line2D at 0x2670027ee88>,\n",
       "  <matplotlib.lines.Line2D at 0x26700281a48>],\n",
       " 'boxes': [<matplotlib.lines.Line2D at 0x267003ce988>],\n",
       " 'medians': [<matplotlib.lines.Line2D at 0x26700281c48>],\n",
       " 'fliers': [<matplotlib.lines.Line2D at 0x26700287fc8>],\n",
       " 'means': []}"
      ]
     },
     "execution_count": 11,
     "metadata": {},
     "output_type": "execute_result"
    },
    {
     "data": {
      "image/png": "[encoded data removed]",
      "text/plain": [
       "<Figure size 600x480 with 1 Axes>"
      ]
     },
     "metadata": {},
     "output_type": "display_data"
    }
   ],
   "source": [
    "plt.title(\"customer_affinity_score\")\n",
    "plt.boxplot(df.customer_affinity_score)"
   ]
  },
  {
   "cell_type": "code",
   "execution_count": 12,
   "id": "focal-dating",
   "metadata": {},
   "outputs": [
    {
     "data": {
      "text/plain": [
       "Text(0, 0.5, 'Amount of people of each class')"
      ]
     },
     "execution_count": 12,
     "metadata": {},
     "output_type": "execute_result"
    },
    {
     "data": {
      "image/png": "[encoded data removed]",
      "text/plain": [
       "<Figure size 600x480 with 1 Axes>"
      ]
     },
     "metadata": {},
     "output_type": "display_data"
    }
   ],
   "source": [
    "cas_dict = dict(df.customer_active_segment.value_counts(sort=False))\n",
    "\n",
    "plt.title(\"Customer active segment barplot\")\n",
    "\n",
    "plt.bar(cas_dict.keys(), cas_dict.values())\n",
    "plt.xlabel(\"Classes\")\n",
    "plt.ylabel(\"Amount of people of each class\")"
   ]
  },
  {
   "cell_type": "code",
   "execution_count": 13,
   "id": "static-dallas",
   "metadata": {},
   "outputs": [
    {
     "data": {
      "text/plain": [
       "Text(0, 0.5, 'Amount of people of each class')"
      ]
     },
     "execution_count": 13,
     "metadata": {},
     "output_type": "execute_result"
    },
    {
     "data": {
      "image/png": "[encoded data removed]",
      "text/plain": [
       "<Figure size 600x480 with 1 Axes>"
      ]
     },
     "metadata": {},
     "output_type": "display_data"
    }
   ],
   "source": [
    "X1_dict = dict(df.X1.value_counts(sort=False))\n",
    "\n",
    "plt.title(\"X1 barplot\")\n",
    "\n",
    "plt.bar(X1_dict.keys(), X1_dict.values())\n",
    "plt.xlabel(\"Classes\")\n",
    "plt.ylabel(\"Amount of people of each class\")"
   ]
  },
  {
   "cell_type": "code",
   "execution_count": 14,
   "id": "latest-samoa",
   "metadata": {},
   "outputs": [
    {
     "data": {
      "text/plain": [
       "customer_visit_score                19.045315\n",
       "customer_product_search_score        5.276097\n",
       "customer_ctr_score                   0.176529\n",
       "customer_stay_score                  0.375900\n",
       "customer_frequency_score             2.390171\n",
       "customer_product_variation_score     5.793689\n",
       "customer_order_score                 3.150056\n",
       "customer_affinity_score             17.053776\n",
       "customer_category                    0.120961\n",
       "dtype: float64"
      ]
     },
     "execution_count": 14,
     "metadata": {},
     "output_type": "execute_result"
    }
   ],
   "source": [
    "#mean\n",
    "df.mean()"
   ]
  },
  {
   "cell_type": "code",
   "execution_count": 15,
   "id": "european-electricity",
   "metadata": {},
   "outputs": [
    {
     "data": {
      "text/plain": [
       "customer_visit_score                 7.410739\n",
       "customer_product_search_score        1.883255\n",
       "customer_ctr_score                   0.374141\n",
       "customer_stay_score                  1.227358\n",
       "customer_frequency_score             5.626505\n",
       "customer_product_variation_score     2.536464\n",
       "customer_order_score                 1.037183\n",
       "customer_affinity_score             18.835444\n",
       "customer_category                    0.326097\n",
       "dtype: float64"
      ]
     },
     "execution_count": 15,
     "metadata": {},
     "output_type": "execute_result"
    }
   ],
   "source": [
    "#Standart deviation\n",
    "df.std()"
   ]
  },
  {
   "cell_type": "code",
   "execution_count": 16,
   "id": "adolescent-procedure",
   "metadata": {},
   "outputs": [
    {
     "data": {
      "text/html": [
       "<div>\n",
       "<style scoped>\n",
       "    .dataframe tbody tr th:only-of-type {\n",
       "        vertical-align: middle;\n",
       "    }\n",
       "\n",
       "    .dataframe tbody tr th {\n",
       "        vertical-align: top;\n",
       "    }\n",
       "\n",
       "    .dataframe thead th {\n",
       "        text-align: right;\n",
       "    }\n",
       "</style>\n",
       "<table border=\"1\" class=\"dataframe\">\n",
       "  <thead>\n",
       "    <tr style=\"text-align: right;\">\n",
       "      <th></th>\n",
       "      <th>customer_visit_score</th>\n",
       "      <th>customer_product_search_score</th>\n",
       "      <th>customer_ctr_score</th>\n",
       "      <th>customer_stay_score</th>\n",
       "      <th>customer_frequency_score</th>\n",
       "      <th>customer_product_variation_score</th>\n",
       "      <th>customer_order_score</th>\n",
       "      <th>customer_affinity_score</th>\n",
       "      <th>customer_category</th>\n",
       "    </tr>\n",
       "  </thead>\n",
       "  <tbody>\n",
       "    <tr>\n",
       "      <th>customer_visit_score</th>\n",
       "      <td>1.000000</td>\n",
       "      <td>0.275355</td>\n",
       "      <td>-0.569854</td>\n",
       "      <td>-0.475129</td>\n",
       "      <td>-0.211943</td>\n",
       "      <td>-0.221562</td>\n",
       "      <td>0.171515</td>\n",
       "      <td>0.118932</td>\n",
       "      <td>-0.449501</td>\n",
       "    </tr>\n",
       "    <tr>\n",
       "      <th>customer_product_search_score</th>\n",
       "      <td>0.275355</td>\n",
       "      <td>1.000000</td>\n",
       "      <td>-0.415561</td>\n",
       "      <td>-0.414471</td>\n",
       "      <td>-0.022742</td>\n",
       "      <td>-0.065763</td>\n",
       "      <td>0.049241</td>\n",
       "      <td>0.043319</td>\n",
       "      <td>-0.300151</td>\n",
       "    </tr>\n",
       "    <tr>\n",
       "      <th>customer_ctr_score</th>\n",
       "      <td>-0.569854</td>\n",
       "      <td>-0.415561</td>\n",
       "      <td>1.000000</td>\n",
       "      <td>0.909241</td>\n",
       "      <td>0.421412</td>\n",
       "      <td>0.448735</td>\n",
       "      <td>-0.343172</td>\n",
       "      <td>-0.232725</td>\n",
       "      <td>0.793852</td>\n",
       "    </tr>\n",
       "    <tr>\n",
       "      <th>customer_stay_score</th>\n",
       "      <td>-0.475129</td>\n",
       "      <td>-0.414471</td>\n",
       "      <td>0.909241</td>\n",
       "      <td>1.000000</td>\n",
       "      <td>0.402413</td>\n",
       "      <td>0.407295</td>\n",
       "      <td>-0.312002</td>\n",
       "      <td>-0.210212</td>\n",
       "      <td>0.678401</td>\n",
       "    </tr>\n",
       "    <tr>\n",
       "      <th>customer_frequency_score</th>\n",
       "      <td>-0.211943</td>\n",
       "      <td>-0.022742</td>\n",
       "      <td>0.421412</td>\n",
       "      <td>0.402413</td>\n",
       "      <td>1.000000</td>\n",
       "      <td>0.701687</td>\n",
       "      <td>-0.533257</td>\n",
       "      <td>-0.325495</td>\n",
       "      <td>0.390522</td>\n",
       "    </tr>\n",
       "    <tr>\n",
       "      <th>customer_product_variation_score</th>\n",
       "      <td>-0.221562</td>\n",
       "      <td>-0.065763</td>\n",
       "      <td>0.448735</td>\n",
       "      <td>0.407295</td>\n",
       "      <td>0.701687</td>\n",
       "      <td>1.000000</td>\n",
       "      <td>-0.694472</td>\n",
       "      <td>-0.524955</td>\n",
       "      <td>0.493653</td>\n",
       "    </tr>\n",
       "    <tr>\n",
       "      <th>customer_order_score</th>\n",
       "      <td>0.171515</td>\n",
       "      <td>0.049241</td>\n",
       "      <td>-0.343172</td>\n",
       "      <td>-0.312002</td>\n",
       "      <td>-0.533257</td>\n",
       "      <td>-0.694472</td>\n",
       "      <td>1.000000</td>\n",
       "      <td>0.764188</td>\n",
       "      <td>-0.385063</td>\n",
       "    </tr>\n",
       "    <tr>\n",
       "      <th>customer_affinity_score</th>\n",
       "      <td>0.118932</td>\n",
       "      <td>0.043319</td>\n",
       "      <td>-0.232725</td>\n",
       "      <td>-0.210212</td>\n",
       "      <td>-0.325495</td>\n",
       "      <td>-0.524955</td>\n",
       "      <td>0.764188</td>\n",
       "      <td>1.000000</td>\n",
       "      <td>-0.272859</td>\n",
       "    </tr>\n",
       "    <tr>\n",
       "      <th>customer_category</th>\n",
       "      <td>-0.449501</td>\n",
       "      <td>-0.300151</td>\n",
       "      <td>0.793852</td>\n",
       "      <td>0.678401</td>\n",
       "      <td>0.390522</td>\n",
       "      <td>0.493653</td>\n",
       "      <td>-0.385063</td>\n",
       "      <td>-0.272859</td>\n",
       "      <td>1.000000</td>\n",
       "    </tr>\n",
       "  </tbody>\n",
       "</table>\n",
       "</div>"
      ],
      "text/plain": [
       "                                  customer_visit_score  \\\n",
       "customer_visit_score                          1.000000   \n",
       "customer_product_search_score                 0.275355   \n",
       "customer_ctr_score                           -0.569854   \n",
       "customer_stay_score                          -0.475129   \n",
       "customer_frequency_score                     -0.211943   \n",
       "customer_product_variation_score             -0.221562   \n",
       "customer_order_score                          0.171515   \n",
       "customer_affinity_score                       0.118932   \n",
       "customer_category                            -0.449501   \n",
       "\n",
       "                                  customer_product_search_score  \\\n",
       "customer_visit_score                                   0.275355   \n",
       "customer_product_search_score                          1.000000   \n",
       "customer_ctr_score                                    -0.415561   \n",
       "customer_stay_score                                   -0.414471   \n",
       "customer_frequency_score                              -0.022742   \n",
       "customer_product_variation_score                      -0.065763   \n",
       "customer_order_score                                   0.049241   \n",
       "customer_affinity_score                                0.043319   \n",
       "customer_category                                     -0.300151   \n",
       "\n",
       "                                  customer_ctr_score  customer_stay_score  \\\n",
       "customer_visit_score                       -0.569854            -0.475129   \n",
       "customer_product_search_score              -0.415561            -0.414471   \n",
       "customer_ctr_score                          1.000000             0.909241   \n",
       "customer_stay_score                         0.909241             1.000000   \n",
       "customer_frequency_score                    0.421412             0.402413   \n",
       "customer_product_variation_score            0.448735             0.407295   \n",
       "customer_order_score                       -0.343172            -0.312002   \n",
       "customer_affinity_score                    -0.232725            -0.210212   \n",
       "customer_category                           0.793852             0.678401   \n",
       "\n",
       "                                  customer_frequency_score  \\\n",
       "customer_visit_score                             -0.211943   \n",
       "customer_product_search_score                    -0.022742   \n",
       "customer_ctr_score                                0.421412   \n",
       "customer_stay_score                               0.402413   \n",
       "customer_frequency_score                          1.000000   \n",
       "customer_product_variation_score                  0.701687   \n",
       "customer_order_score                             -0.533257   \n",
       "customer_affinity_score                          -0.325495   \n",
       "customer_category                                 0.390522   \n",
       "\n",
       "                                  customer_product_variation_score  \\\n",
       "customer_visit_score                                     -0.221562   \n",
       "customer_product_search_score                            -0.065763   \n",
       "customer_ctr_score                                        0.448735   \n",
       "customer_stay_score                                       0.407295   \n",
       "customer_frequency_score                                  0.701687   \n",
       "customer_product_variation_score                          1.000000   \n",
       "customer_order_score                                     -0.694472   \n",
       "customer_affinity_score                                  -0.524955   \n",
       "customer_category                                         0.493653   \n",
       "\n",
       "                                  customer_order_score  \\\n",
       "customer_visit_score                          0.171515   \n",
       "customer_product_search_score                 0.049241   \n",
       "customer_ctr_score                           -0.343172   \n",
       "customer_stay_score                          -0.312002   \n",
       "customer_frequency_score                     -0.533257   \n",
       "customer_product_variation_score             -0.694472   \n",
       "customer_order_score                          1.000000   \n",
       "customer_affinity_score                       0.764188   \n",
       "customer_category                            -0.385063   \n",
       "\n",
       "                                  customer_affinity_score  customer_category  \n",
       "customer_visit_score                             0.118932          -0.449501  \n",
       "customer_product_search_score                    0.043319          -0.300151  \n",
       "customer_ctr_score                              -0.232725           0.793852  \n",
       "customer_stay_score                             -0.210212           0.678401  \n",
       "customer_frequency_score                        -0.325495           0.390522  \n",
       "customer_product_variation_score                -0.524955           0.493653  \n",
       "customer_order_score                             0.764188          -0.385063  \n",
       "customer_affinity_score                          1.000000          -0.272859  \n",
       "customer_category                               -0.272859           1.000000  "
      ]
     },
     "execution_count": 16,
     "metadata": {},
     "output_type": "execute_result"
    }
   ],
   "source": [
    "#correlation matrix\n",
    "df.corr()"
   ]
  },
  {
   "cell_type": "code",
   "execution_count": 17,
   "id": "significant-breast",
   "metadata": {},
   "outputs": [
    {
     "data": {
      "text/plain": [
       "C     4815\n",
       "A      402\n",
       "D      522\n",
       "AA     402\n",
       "B     4350\n",
       "Name: customer_active_segment, dtype: int64"
      ]
     },
     "execution_count": 17,
     "metadata": {},
     "output_type": "execute_result"
    }
   ],
   "source": [
    "df.customer_active_segment.value_counts(sort=False)"
   ]
  },
  {
   "cell_type": "code",
   "execution_count": 18,
   "id": "another-elite",
   "metadata": {},
   "outputs": [
    {
     "data": {
      "text/plain": [
       "E       75\n",
       "A     2215\n",
       "F     2200\n",
       "BA    4427\n",
       "AA    1574\n",
       "Name: X1, dtype: int64"
      ]
     },
     "execution_count": 18,
     "metadata": {},
     "output_type": "execute_result"
    }
   ],
   "source": [
    "df.X1.value_counts(sort=False)"
   ]
  },
  {
   "cell_type": "code",
   "execution_count": 19,
   "id": "sacred-vampire",
   "metadata": {},
   "outputs": [
    {
     "data": {
      "text/plain": [
       "0    9222\n",
       "1    1269\n",
       "Name: customer_category, dtype: int64"
      ]
     },
     "execution_count": 19,
     "metadata": {},
     "output_type": "execute_result"
    }
   ],
   "source": [
    "df.customer_category.value_counts(sort=False)"
   ]
  },
  {
   "cell_type": "code",
   "execution_count": 20,
   "id": "inside-robertson",
   "metadata": {
    "scrolled": true
   },
   "outputs": [
    {
     "data": {
      "text/html": [
       "<div>\n",
       "<style scoped>\n",
       "    .dataframe tbody tr th:only-of-type {\n",
       "        vertical-align: middle;\n",
       "    }\n",
       "\n",
       "    .dataframe tbody tr th {\n",
       "        vertical-align: top;\n",
       "    }\n",
       "\n",
       "    .dataframe thead th {\n",
       "        text-align: right;\n",
       "    }\n",
       "</style>\n",
       "<table border=\"1\" class=\"dataframe\">\n",
       "  <thead>\n",
       "    <tr style=\"text-align: right;\">\n",
       "      <th></th>\n",
       "      <th>customer_visit_score</th>\n",
       "      <th>customer_product_search_score</th>\n",
       "      <th>customer_ctr_score</th>\n",
       "      <th>customer_stay_score</th>\n",
       "      <th>customer_frequency_score</th>\n",
       "      <th>customer_product_variation_score</th>\n",
       "      <th>customer_order_score</th>\n",
       "      <th>customer_affinity_score</th>\n",
       "      <th>customer_active_segment</th>\n",
       "      <th>X1</th>\n",
       "      <th>customer_category</th>\n",
       "    </tr>\n",
       "  </thead>\n",
       "  <tbody>\n",
       "    <tr>\n",
       "      <th>0</th>\n",
       "      <td>0.269578</td>\n",
       "      <td>0.571994</td>\n",
       "      <td>0.148038</td>\n",
       "      <td>0.021297</td>\n",
       "      <td>0.007799</td>\n",
       "      <td>0.122126</td>\n",
       "      <td>0.249190</td>\n",
       "      <td>0.033916</td>\n",
       "      <td>C</td>\n",
       "      <td>F</td>\n",
       "      <td>0</td>\n",
       "    </tr>\n",
       "    <tr>\n",
       "      <th>1</th>\n",
       "      <td>0.353548</td>\n",
       "      <td>0.445888</td>\n",
       "      <td>0.217287</td>\n",
       "      <td>0.023724</td>\n",
       "      <td>0.006717</td>\n",
       "      <td>0.090820</td>\n",
       "      <td>0.438887</td>\n",
       "      <td>0.072295</td>\n",
       "      <td>C</td>\n",
       "      <td>A</td>\n",
       "      <td>0</td>\n",
       "    </tr>\n",
       "    <tr>\n",
       "      <th>2</th>\n",
       "      <td>0.362370</td>\n",
       "      <td>0.315807</td>\n",
       "      <td>0.202852</td>\n",
       "      <td>0.047831</td>\n",
       "      <td>0.007430</td>\n",
       "      <td>0.107950</td>\n",
       "      <td>0.402852</td>\n",
       "      <td>0.052530</td>\n",
       "      <td>C</td>\n",
       "      <td>BA</td>\n",
       "      <td>0</td>\n",
       "    </tr>\n",
       "    <tr>\n",
       "      <th>3</th>\n",
       "      <td>0.660161</td>\n",
       "      <td>0.302359</td>\n",
       "      <td>0.163523</td>\n",
       "      <td>0.023870</td>\n",
       "      <td>0.014314</td>\n",
       "      <td>0.144000</td>\n",
       "      <td>0.268779</td>\n",
       "      <td>0.021209</td>\n",
       "      <td>AA</td>\n",
       "      <td>F</td>\n",
       "      <td>0</td>\n",
       "    </tr>\n",
       "    <tr>\n",
       "      <th>4</th>\n",
       "      <td>0.242642</td>\n",
       "      <td>0.261843</td>\n",
       "      <td>0.227785</td>\n",
       "      <td>0.041900</td>\n",
       "      <td>0.002549</td>\n",
       "      <td>0.043300</td>\n",
       "      <td>0.379749</td>\n",
       "      <td>0.229374</td>\n",
       "      <td>C</td>\n",
       "      <td>AA</td>\n",
       "      <td>0</td>\n",
       "    </tr>\n",
       "    <tr>\n",
       "      <th>...</th>\n",
       "      <td>...</td>\n",
       "      <td>...</td>\n",
       "      <td>...</td>\n",
       "      <td>...</td>\n",
       "      <td>...</td>\n",
       "      <td>...</td>\n",
       "      <td>...</td>\n",
       "      <td>...</td>\n",
       "      <td>...</td>\n",
       "      <td>...</td>\n",
       "      <td>...</td>\n",
       "    </tr>\n",
       "    <tr>\n",
       "      <th>10733</th>\n",
       "      <td>0.494325</td>\n",
       "      <td>0.408534</td>\n",
       "      <td>0.198567</td>\n",
       "      <td>0.029356</td>\n",
       "      <td>0.022568</td>\n",
       "      <td>0.265826</td>\n",
       "      <td>0.305235</td>\n",
       "      <td>0.009797</td>\n",
       "      <td>C</td>\n",
       "      <td>BA</td>\n",
       "      <td>0</td>\n",
       "    </tr>\n",
       "    <tr>\n",
       "      <th>10734</th>\n",
       "      <td>0.537126</td>\n",
       "      <td>0.396409</td>\n",
       "      <td>0.185348</td>\n",
       "      <td>0.027385</td>\n",
       "      <td>0.013303</td>\n",
       "      <td>0.166010</td>\n",
       "      <td>0.314068</td>\n",
       "      <td>0.022531</td>\n",
       "      <td>C</td>\n",
       "      <td>BA</td>\n",
       "      <td>0</td>\n",
       "    </tr>\n",
       "    <tr>\n",
       "      <th>10735</th>\n",
       "      <td>0.665584</td>\n",
       "      <td>0.473913</td>\n",
       "      <td>0.189297</td>\n",
       "      <td>0.028338</td>\n",
       "      <td>0.005529</td>\n",
       "      <td>0.177953</td>\n",
       "      <td>0.233728</td>\n",
       "      <td>0.089749</td>\n",
       "      <td>A</td>\n",
       "      <td>BA</td>\n",
       "      <td>0</td>\n",
       "    </tr>\n",
       "    <tr>\n",
       "      <th>10736</th>\n",
       "      <td>0.596367</td>\n",
       "      <td>0.342273</td>\n",
       "      <td>0.140686</td>\n",
       "      <td>0.035879</td>\n",
       "      <td>0.001978</td>\n",
       "      <td>0.054009</td>\n",
       "      <td>0.528128</td>\n",
       "      <td>0.351176</td>\n",
       "      <td>B</td>\n",
       "      <td>AA</td>\n",
       "      <td>0</td>\n",
       "    </tr>\n",
       "    <tr>\n",
       "      <th>10737</th>\n",
       "      <td>0.429933</td>\n",
       "      <td>0.276202</td>\n",
       "      <td>0.248230</td>\n",
       "      <td>0.055646</td>\n",
       "      <td>0.009096</td>\n",
       "      <td>0.089316</td>\n",
       "      <td>0.470487</td>\n",
       "      <td>0.113467</td>\n",
       "      <td>B</td>\n",
       "      <td>A</td>\n",
       "      <td>0</td>\n",
       "    </tr>\n",
       "  </tbody>\n",
       "</table>\n",
       "<p>10491 rows × 11 columns</p>\n",
       "</div>"
      ],
      "text/plain": [
       "       customer_visit_score  customer_product_search_score  \\\n",
       "0                  0.269578                       0.571994   \n",
       "1                  0.353548                       0.445888   \n",
       "2                  0.362370                       0.315807   \n",
       "3                  0.660161                       0.302359   \n",
       "4                  0.242642                       0.261843   \n",
       "...                     ...                            ...   \n",
       "10733              0.494325                       0.408534   \n",
       "10734              0.537126                       0.396409   \n",
       "10735              0.665584                       0.473913   \n",
       "10736              0.596367                       0.342273   \n",
       "10737              0.429933                       0.276202   \n",
       "\n",
       "       customer_ctr_score  customer_stay_score  customer_frequency_score  \\\n",
       "0                0.148038             0.021297                  0.007799   \n",
       "1                0.217287             0.023724                  0.006717   \n",
       "2                0.202852             0.047831                  0.007430   \n",
       "3                0.163523             0.023870                  0.014314   \n",
       "4                0.227785             0.041900                  0.002549   \n",
       "...                   ...                  ...                       ...   \n",
       "10733            0.198567             0.029356                  0.022568   \n",
       "10734            0.185348             0.027385                  0.013303   \n",
       "10735            0.189297             0.028338                  0.005529   \n",
       "10736            0.140686             0.035879                  0.001978   \n",
       "10737            0.248230             0.055646                  0.009096   \n",
       "\n",
       "       customer_product_variation_score  customer_order_score  \\\n",
       "0                              0.122126              0.249190   \n",
       "1                              0.090820              0.438887   \n",
       "2                              0.107950              0.402852   \n",
       "3                              0.144000              0.268779   \n",
       "4                              0.043300              0.379749   \n",
       "...                                 ...                   ...   \n",
       "10733                          0.265826              0.305235   \n",
       "10734                          0.166010              0.314068   \n",
       "10735                          0.177953              0.233728   \n",
       "10736                          0.054009              0.528128   \n",
       "10737                          0.089316              0.470487   \n",
       "\n",
       "       customer_affinity_score customer_active_segment  X1  customer_category  \n",
       "0                     0.033916                       C   F                  0  \n",
       "1                     0.072295                       C   A                  0  \n",
       "2                     0.052530                       C  BA                  0  \n",
       "3                     0.021209                      AA   F                  0  \n",
       "4                     0.229374                       C  AA                  0  \n",
       "...                        ...                     ...  ..                ...  \n",
       "10733                 0.009797                       C  BA                  0  \n",
       "10734                 0.022531                       C  BA                  0  \n",
       "10735                 0.089749                       A  BA                  0  \n",
       "10736                 0.351176                       B  AA                  0  \n",
       "10737                 0.113467                       B   A                  0  \n",
       "\n",
       "[10491 rows x 11 columns]"
      ]
     },
     "execution_count": 20,
     "metadata": {},
     "output_type": "execute_result"
    }
   ],
   "source": [
    "#normalization\n",
    "colums_to_normalize = ['customer_visit_score', 'customer_product_search_score', 'customer_ctr_score', 'customer_stay_score', 'customer_frequency_score', 'customer_product_variation_score', 'customer_order_score', 'customer_affinity_score']\n",
    "df[colums_to_normalize] = df[colums_to_normalize].apply(lambda x: (x-x.min())/(x.max()-x.min()))\n",
    "df"
   ]
  },
  {
   "cell_type": "code",
   "execution_count": 21,
   "id": "provincial-calibration",
   "metadata": {},
   "outputs": [
    {
     "data": {
      "text/plain": [
       "<AxesSubplot:>"
      ]
     },
     "execution_count": 21,
     "metadata": {},
     "output_type": "execute_result"
    },
    {
     "data": {
      "image/png": "[encoded data removed]",
      "text/plain": [
       "<Figure size 600x480 with 2 Axes>"
      ]
     },
     "metadata": {},
     "output_type": "display_data"
    }
   ],
   "source": [
    "#heatmap\n",
    "seaborn.heatmap(df.corr())"
   ]
  },
  {
   "cell_type": "code",
   "execution_count": 22,
   "id": "representative-kentucky",
   "metadata": {
    "scrolled": true
   },
   "outputs": [
    {
     "data": {
      "text/html": [
       "<div>\n",
       "<style scoped>\n",
       "    .dataframe tbody tr th:only-of-type {\n",
       "        vertical-align: middle;\n",
       "    }\n",
       "\n",
       "    .dataframe tbody tr th {\n",
       "        vertical-align: top;\n",
       "    }\n",
       "\n",
       "    .dataframe thead th {\n",
       "        text-align: right;\n",
       "    }\n",
       "</style>\n",
       "<table border=\"1\" class=\"dataframe\">\n",
       "  <thead>\n",
       "    <tr style=\"text-align: right;\">\n",
       "      <th></th>\n",
       "      <th>customer_visit_score</th>\n",
       "      <th>customer_product_search_score</th>\n",
       "      <th>customer_ctr_score</th>\n",
       "      <th>customer_stay_score</th>\n",
       "      <th>customer_frequency_score</th>\n",
       "      <th>customer_product_variation_score</th>\n",
       "      <th>customer_order_score</th>\n",
       "      <th>customer_affinity_score</th>\n",
       "      <th>customer_active_segment</th>\n",
       "      <th>X1</th>\n",
       "      <th>customer_category</th>\n",
       "    </tr>\n",
       "  </thead>\n",
       "  <tbody>\n",
       "    <tr>\n",
       "      <th>0</th>\n",
       "      <td>0.269578</td>\n",
       "      <td>0.571994</td>\n",
       "      <td>0.148038</td>\n",
       "      <td>0.021297</td>\n",
       "      <td>0.007799</td>\n",
       "      <td>0.122126</td>\n",
       "      <td>0.249190</td>\n",
       "      <td>0.033916</td>\n",
       "      <td>3</td>\n",
       "      <td>4</td>\n",
       "      <td>0</td>\n",
       "    </tr>\n",
       "    <tr>\n",
       "      <th>1</th>\n",
       "      <td>0.353548</td>\n",
       "      <td>0.445888</td>\n",
       "      <td>0.217287</td>\n",
       "      <td>0.023724</td>\n",
       "      <td>0.006717</td>\n",
       "      <td>0.090820</td>\n",
       "      <td>0.438887</td>\n",
       "      <td>0.072295</td>\n",
       "      <td>3</td>\n",
       "      <td>0</td>\n",
       "      <td>0</td>\n",
       "    </tr>\n",
       "    <tr>\n",
       "      <th>2</th>\n",
       "      <td>0.362370</td>\n",
       "      <td>0.315807</td>\n",
       "      <td>0.202852</td>\n",
       "      <td>0.047831</td>\n",
       "      <td>0.007430</td>\n",
       "      <td>0.107950</td>\n",
       "      <td>0.402852</td>\n",
       "      <td>0.052530</td>\n",
       "      <td>3</td>\n",
       "      <td>2</td>\n",
       "      <td>0</td>\n",
       "    </tr>\n",
       "    <tr>\n",
       "      <th>3</th>\n",
       "      <td>0.660161</td>\n",
       "      <td>0.302359</td>\n",
       "      <td>0.163523</td>\n",
       "      <td>0.023870</td>\n",
       "      <td>0.014314</td>\n",
       "      <td>0.144000</td>\n",
       "      <td>0.268779</td>\n",
       "      <td>0.021209</td>\n",
       "      <td>1</td>\n",
       "      <td>4</td>\n",
       "      <td>0</td>\n",
       "    </tr>\n",
       "    <tr>\n",
       "      <th>4</th>\n",
       "      <td>0.242642</td>\n",
       "      <td>0.261843</td>\n",
       "      <td>0.227785</td>\n",
       "      <td>0.041900</td>\n",
       "      <td>0.002549</td>\n",
       "      <td>0.043300</td>\n",
       "      <td>0.379749</td>\n",
       "      <td>0.229374</td>\n",
       "      <td>3</td>\n",
       "      <td>1</td>\n",
       "      <td>0</td>\n",
       "    </tr>\n",
       "    <tr>\n",
       "      <th>...</th>\n",
       "      <td>...</td>\n",
       "      <td>...</td>\n",
       "      <td>...</td>\n",
       "      <td>...</td>\n",
       "      <td>...</td>\n",
       "      <td>...</td>\n",
       "      <td>...</td>\n",
       "      <td>...</td>\n",
       "      <td>...</td>\n",
       "      <td>...</td>\n",
       "      <td>...</td>\n",
       "    </tr>\n",
       "    <tr>\n",
       "      <th>10733</th>\n",
       "      <td>0.494325</td>\n",
       "      <td>0.408534</td>\n",
       "      <td>0.198567</td>\n",
       "      <td>0.029356</td>\n",
       "      <td>0.022568</td>\n",
       "      <td>0.265826</td>\n",
       "      <td>0.305235</td>\n",
       "      <td>0.009797</td>\n",
       "      <td>3</td>\n",
       "      <td>2</td>\n",
       "      <td>0</td>\n",
       "    </tr>\n",
       "    <tr>\n",
       "      <th>10734</th>\n",
       "      <td>0.537126</td>\n",
       "      <td>0.396409</td>\n",
       "      <td>0.185348</td>\n",
       "      <td>0.027385</td>\n",
       "      <td>0.013303</td>\n",
       "      <td>0.166010</td>\n",
       "      <td>0.314068</td>\n",
       "      <td>0.022531</td>\n",
       "      <td>3</td>\n",
       "      <td>2</td>\n",
       "      <td>0</td>\n",
       "    </tr>\n",
       "    <tr>\n",
       "      <th>10735</th>\n",
       "      <td>0.665584</td>\n",
       "      <td>0.473913</td>\n",
       "      <td>0.189297</td>\n",
       "      <td>0.028338</td>\n",
       "      <td>0.005529</td>\n",
       "      <td>0.177953</td>\n",
       "      <td>0.233728</td>\n",
       "      <td>0.089749</td>\n",
       "      <td>0</td>\n",
       "      <td>2</td>\n",
       "      <td>0</td>\n",
       "    </tr>\n",
       "    <tr>\n",
       "      <th>10736</th>\n",
       "      <td>0.596367</td>\n",
       "      <td>0.342273</td>\n",
       "      <td>0.140686</td>\n",
       "      <td>0.035879</td>\n",
       "      <td>0.001978</td>\n",
       "      <td>0.054009</td>\n",
       "      <td>0.528128</td>\n",
       "      <td>0.351176</td>\n",
       "      <td>2</td>\n",
       "      <td>1</td>\n",
       "      <td>0</td>\n",
       "    </tr>\n",
       "    <tr>\n",
       "      <th>10737</th>\n",
       "      <td>0.429933</td>\n",
       "      <td>0.276202</td>\n",
       "      <td>0.248230</td>\n",
       "      <td>0.055646</td>\n",
       "      <td>0.009096</td>\n",
       "      <td>0.089316</td>\n",
       "      <td>0.470487</td>\n",
       "      <td>0.113467</td>\n",
       "      <td>2</td>\n",
       "      <td>0</td>\n",
       "      <td>0</td>\n",
       "    </tr>\n",
       "  </tbody>\n",
       "</table>\n",
       "<p>10491 rows × 11 columns</p>\n",
       "</div>"
      ],
      "text/plain": [
       "       customer_visit_score  customer_product_search_score  \\\n",
       "0                  0.269578                       0.571994   \n",
       "1                  0.353548                       0.445888   \n",
       "2                  0.362370                       0.315807   \n",
       "3                  0.660161                       0.302359   \n",
       "4                  0.242642                       0.261843   \n",
       "...                     ...                            ...   \n",
       "10733              0.494325                       0.408534   \n",
       "10734              0.537126                       0.396409   \n",
       "10735              0.665584                       0.473913   \n",
       "10736              0.596367                       0.342273   \n",
       "10737              0.429933                       0.276202   \n",
       "\n",
       "       customer_ctr_score  customer_stay_score  customer_frequency_score  \\\n",
       "0                0.148038             0.021297                  0.007799   \n",
       "1                0.217287             0.023724                  0.006717   \n",
       "2                0.202852             0.047831                  0.007430   \n",
       "3                0.163523             0.023870                  0.014314   \n",
       "4                0.227785             0.041900                  0.002549   \n",
       "...                   ...                  ...                       ...   \n",
       "10733            0.198567             0.029356                  0.022568   \n",
       "10734            0.185348             0.027385                  0.013303   \n",
       "10735            0.189297             0.028338                  0.005529   \n",
       "10736            0.140686             0.035879                  0.001978   \n",
       "10737            0.248230             0.055646                  0.009096   \n",
       "\n",
       "       customer_product_variation_score  customer_order_score  \\\n",
       "0                              0.122126              0.249190   \n",
       "1                              0.090820              0.438887   \n",
       "2                              0.107950              0.402852   \n",
       "3                              0.144000              0.268779   \n",
       "4                              0.043300              0.379749   \n",
       "...                                 ...                   ...   \n",
       "10733                          0.265826              0.305235   \n",
       "10734                          0.166010              0.314068   \n",
       "10735                          0.177953              0.233728   \n",
       "10736                          0.054009              0.528128   \n",
       "10737                          0.089316              0.470487   \n",
       "\n",
       "       customer_affinity_score  customer_active_segment  X1  customer_category  \n",
       "0                     0.033916                        3   4                  0  \n",
       "1                     0.072295                        3   0                  0  \n",
       "2                     0.052530                        3   2                  0  \n",
       "3                     0.021209                        1   4                  0  \n",
       "4                     0.229374                        3   1                  0  \n",
       "...                        ...                      ...  ..                ...  \n",
       "10733                 0.009797                        3   2                  0  \n",
       "10734                 0.022531                        3   2                  0  \n",
       "10735                 0.089749                        0   2                  0  \n",
       "10736                 0.351176                        2   1                  0  \n",
       "10737                 0.113467                        2   0                  0  \n",
       "\n",
       "[10491 rows x 11 columns]"
      ]
     },
     "execution_count": 22,
     "metadata": {},
     "output_type": "execute_result"
    }
   ],
   "source": [
    "#encoding\n",
    "categorical_cols = df.columns[8:11]\n",
    "le = LabelEncoder()\n",
    "df[categorical_cols] = df[categorical_cols].apply(lambda col: le.fit_transform(col))\n",
    "df"
   ]
  },
  {
   "cell_type": "code",
   "execution_count": 23,
   "id": "acquired-genome",
   "metadata": {},
   "outputs": [
    {
     "data": {
      "text/plain": [
       "array([[<AxesSubplot:title={'center':'customer_visit_score'}>,\n",
       "        <AxesSubplot:title={'center':'customer_product_search_score'}>,\n",
       "        <AxesSubplot:title={'center':'customer_ctr_score'}>],\n",
       "       [<AxesSubplot:title={'center':'customer_stay_score'}>,\n",
       "        <AxesSubplot:title={'center':'customer_frequency_score'}>,\n",
       "        <AxesSubplot:title={'center':'customer_product_variation_score'}>],\n",
       "       [<AxesSubplot:title={'center':'customer_order_score'}>,\n",
       "        <AxesSubplot:title={'center':'customer_affinity_score'}>,\n",
       "        <AxesSubplot:title={'center':'customer_active_segment'}>],\n",
       "       [<AxesSubplot:title={'center':'X1'}>,\n",
       "        <AxesSubplot:title={'center':'customer_category'}>,\n",
       "        <AxesSubplot:>]], dtype=object)"
      ]
     },
     "execution_count": 23,
     "metadata": {},
     "output_type": "execute_result"
    },
    {
     "data": {
      "image/png": "[encoded data removed]",
      "text/plain": [
       "<Figure size 600x480 with 12 Axes>"
      ]
     },
     "metadata": {},
     "output_type": "display_data"
    }
   ],
   "source": [
    "df.hist()"
   ]
  },
  {
   "cell_type": "code",
   "execution_count": 24,
   "id": "rocky-ownership",
   "metadata": {},
   "outputs": [
    {
     "data": {
      "text/plain": [
       "<AxesSubplot:>"
      ]
     },
     "execution_count": 24,
     "metadata": {},
     "output_type": "execute_result"
    },
    {
     "data": {
      "image/png": "[encoded data removed]",
      "text/plain": [
       "<Figure size 600x480 with 1 Axes>"
      ]
     },
     "metadata": {},
     "output_type": "display_data"
    }
   ],
   "source": [
    "#boxplots\n",
    "df1=df[['customer_visit_score', 'customer_product_search_score', 'customer_ctr_score', 'customer_stay_score', 'customer_frequency_score', 'customer_product_variation_score', 'customer_order_score', 'customer_affinity_score']]\n",
    "df1.boxplot(grid=False)"
   ]
  },
  {
   "cell_type": "code",
   "execution_count": 25,
   "id": "initial-cornwall",
   "metadata": {},
   "outputs": [
    {
     "data": {
      "text/html": [
       "<div>\n",
       "<style scoped>\n",
       "    .dataframe tbody tr th:only-of-type {\n",
       "        vertical-align: middle;\n",
       "    }\n",
       "\n",
       "    .dataframe tbody tr th {\n",
       "        vertical-align: top;\n",
       "    }\n",
       "\n",
       "    .dataframe thead th {\n",
       "        text-align: right;\n",
       "    }\n",
       "</style>\n",
       "<table border=\"1\" class=\"dataframe\">\n",
       "  <thead>\n",
       "    <tr style=\"text-align: right;\">\n",
       "      <th></th>\n",
       "      <th>customer_visit_score</th>\n",
       "      <th>customer_product_search_score</th>\n",
       "      <th>customer_ctr_score</th>\n",
       "      <th>customer_stay_score</th>\n",
       "      <th>customer_frequency_score</th>\n",
       "      <th>customer_product_variation_score</th>\n",
       "      <th>customer_order_score</th>\n",
       "      <th>customer_affinity_score</th>\n",
       "      <th>customer_active_segment</th>\n",
       "      <th>X1</th>\n",
       "      <th>customer_category</th>\n",
       "    </tr>\n",
       "  </thead>\n",
       "  <tbody>\n",
       "    <tr>\n",
       "      <th>0</th>\n",
       "      <td>0.269578</td>\n",
       "      <td>0.571994</td>\n",
       "      <td>0.148038</td>\n",
       "      <td>0.021297</td>\n",
       "      <td>0.007799</td>\n",
       "      <td>0.122126</td>\n",
       "      <td>0.249190</td>\n",
       "      <td>0.033916</td>\n",
       "      <td>3</td>\n",
       "      <td>4</td>\n",
       "      <td>0</td>\n",
       "    </tr>\n",
       "    <tr>\n",
       "      <th>1</th>\n",
       "      <td>0.353548</td>\n",
       "      <td>0.445888</td>\n",
       "      <td>0.217287</td>\n",
       "      <td>0.023724</td>\n",
       "      <td>0.006717</td>\n",
       "      <td>0.090820</td>\n",
       "      <td>0.438887</td>\n",
       "      <td>0.072295</td>\n",
       "      <td>3</td>\n",
       "      <td>0</td>\n",
       "      <td>0</td>\n",
       "    </tr>\n",
       "    <tr>\n",
       "      <th>2</th>\n",
       "      <td>0.362370</td>\n",
       "      <td>0.315807</td>\n",
       "      <td>0.202852</td>\n",
       "      <td>0.047831</td>\n",
       "      <td>0.007430</td>\n",
       "      <td>0.107950</td>\n",
       "      <td>0.402852</td>\n",
       "      <td>0.052530</td>\n",
       "      <td>3</td>\n",
       "      <td>2</td>\n",
       "      <td>0</td>\n",
       "    </tr>\n",
       "    <tr>\n",
       "      <th>3</th>\n",
       "      <td>0.660161</td>\n",
       "      <td>0.302359</td>\n",
       "      <td>0.163523</td>\n",
       "      <td>0.023870</td>\n",
       "      <td>0.014314</td>\n",
       "      <td>0.144000</td>\n",
       "      <td>0.268779</td>\n",
       "      <td>0.021209</td>\n",
       "      <td>1</td>\n",
       "      <td>4</td>\n",
       "      <td>0</td>\n",
       "    </tr>\n",
       "    <tr>\n",
       "      <th>4</th>\n",
       "      <td>0.242642</td>\n",
       "      <td>0.261843</td>\n",
       "      <td>0.227785</td>\n",
       "      <td>0.041900</td>\n",
       "      <td>0.002549</td>\n",
       "      <td>0.043300</td>\n",
       "      <td>0.379749</td>\n",
       "      <td>0.229374</td>\n",
       "      <td>3</td>\n",
       "      <td>1</td>\n",
       "      <td>0</td>\n",
       "    </tr>\n",
       "    <tr>\n",
       "      <th>...</th>\n",
       "      <td>...</td>\n",
       "      <td>...</td>\n",
       "      <td>...</td>\n",
       "      <td>...</td>\n",
       "      <td>...</td>\n",
       "      <td>...</td>\n",
       "      <td>...</td>\n",
       "      <td>...</td>\n",
       "      <td>...</td>\n",
       "      <td>...</td>\n",
       "      <td>...</td>\n",
       "    </tr>\n",
       "    <tr>\n",
       "      <th>10731</th>\n",
       "      <td>0.610325</td>\n",
       "      <td>0.390081</td>\n",
       "      <td>0.153900</td>\n",
       "      <td>0.025240</td>\n",
       "      <td>0.007759</td>\n",
       "      <td>0.127516</td>\n",
       "      <td>0.215561</td>\n",
       "      <td>0.027057</td>\n",
       "      <td>2</td>\n",
       "      <td>2</td>\n",
       "      <td>0</td>\n",
       "    </tr>\n",
       "    <tr>\n",
       "      <th>10732</th>\n",
       "      <td>0.301578</td>\n",
       "      <td>0.327601</td>\n",
       "      <td>0.183398</td>\n",
       "      <td>0.022250</td>\n",
       "      <td>0.004592</td>\n",
       "      <td>0.113201</td>\n",
       "      <td>0.380645</td>\n",
       "      <td>0.058437</td>\n",
       "      <td>3</td>\n",
       "      <td>0</td>\n",
       "      <td>0</td>\n",
       "    </tr>\n",
       "    <tr>\n",
       "      <th>10733</th>\n",
       "      <td>0.494325</td>\n",
       "      <td>0.408534</td>\n",
       "      <td>0.198567</td>\n",
       "      <td>0.029356</td>\n",
       "      <td>0.022568</td>\n",
       "      <td>0.265826</td>\n",
       "      <td>0.305235</td>\n",
       "      <td>0.009797</td>\n",
       "      <td>3</td>\n",
       "      <td>2</td>\n",
       "      <td>0</td>\n",
       "    </tr>\n",
       "    <tr>\n",
       "      <th>10734</th>\n",
       "      <td>0.537126</td>\n",
       "      <td>0.396409</td>\n",
       "      <td>0.185348</td>\n",
       "      <td>0.027385</td>\n",
       "      <td>0.013303</td>\n",
       "      <td>0.166010</td>\n",
       "      <td>0.314068</td>\n",
       "      <td>0.022531</td>\n",
       "      <td>3</td>\n",
       "      <td>2</td>\n",
       "      <td>0</td>\n",
       "    </tr>\n",
       "    <tr>\n",
       "      <th>10737</th>\n",
       "      <td>0.429933</td>\n",
       "      <td>0.276202</td>\n",
       "      <td>0.248230</td>\n",
       "      <td>0.055646</td>\n",
       "      <td>0.009096</td>\n",
       "      <td>0.089316</td>\n",
       "      <td>0.470487</td>\n",
       "      <td>0.113467</td>\n",
       "      <td>2</td>\n",
       "      <td>0</td>\n",
       "      <td>0</td>\n",
       "    </tr>\n",
       "  </tbody>\n",
       "</table>\n",
       "<p>9056 rows × 11 columns</p>\n",
       "</div>"
      ],
      "text/plain": [
       "       customer_visit_score  customer_product_search_score  \\\n",
       "0                  0.269578                       0.571994   \n",
       "1                  0.353548                       0.445888   \n",
       "2                  0.362370                       0.315807   \n",
       "3                  0.660161                       0.302359   \n",
       "4                  0.242642                       0.261843   \n",
       "...                     ...                            ...   \n",
       "10731              0.610325                       0.390081   \n",
       "10732              0.301578                       0.327601   \n",
       "10733              0.494325                       0.408534   \n",
       "10734              0.537126                       0.396409   \n",
       "10737              0.429933                       0.276202   \n",
       "\n",
       "       customer_ctr_score  customer_stay_score  customer_frequency_score  \\\n",
       "0                0.148038             0.021297                  0.007799   \n",
       "1                0.217287             0.023724                  0.006717   \n",
       "2                0.202852             0.047831                  0.007430   \n",
       "3                0.163523             0.023870                  0.014314   \n",
       "4                0.227785             0.041900                  0.002549   \n",
       "...                   ...                  ...                       ...   \n",
       "10731            0.153900             0.025240                  0.007759   \n",
       "10732            0.183398             0.022250                  0.004592   \n",
       "10733            0.198567             0.029356                  0.022568   \n",
       "10734            0.185348             0.027385                  0.013303   \n",
       "10737            0.248230             0.055646                  0.009096   \n",
       "\n",
       "       customer_product_variation_score  customer_order_score  \\\n",
       "0                              0.122126              0.249190   \n",
       "1                              0.090820              0.438887   \n",
       "2                              0.107950              0.402852   \n",
       "3                              0.144000              0.268779   \n",
       "4                              0.043300              0.379749   \n",
       "...                                 ...                   ...   \n",
       "10731                          0.127516              0.215561   \n",
       "10732                          0.113201              0.380645   \n",
       "10733                          0.265826              0.305235   \n",
       "10734                          0.166010              0.314068   \n",
       "10737                          0.089316              0.470487   \n",
       "\n",
       "       customer_affinity_score  customer_active_segment  X1  customer_category  \n",
       "0                     0.033916                        3   4                  0  \n",
       "1                     0.072295                        3   0                  0  \n",
       "2                     0.052530                        3   2                  0  \n",
       "3                     0.021209                        1   4                  0  \n",
       "4                     0.229374                        3   1                  0  \n",
       "...                        ...                      ...  ..                ...  \n",
       "10731                 0.027057                        2   2                  0  \n",
       "10732                 0.058437                        3   0                  0  \n",
       "10733                 0.009797                        3   2                  0  \n",
       "10734                 0.022531                        3   2                  0  \n",
       "10737                 0.113467                        2   0                  0  \n",
       "\n",
       "[9056 rows x 11 columns]"
      ]
     },
     "execution_count": 25,
     "metadata": {},
     "output_type": "execute_result"
    }
   ],
   "source": [
    "#resolving outliers\n",
    "z_scores = stats.zscore(df)\n",
    "abs_z_scores = np.abs(z_scores)\n",
    "filtered_entries = (abs_z_scores < 3).all(axis=1)\n",
    "df_ro = df[filtered_entries]\n",
    "df_ro"
   ]
  },
  {
   "cell_type": "code",
   "execution_count": 26,
   "id": "legal-casino",
   "metadata": {
    "scrolled": false
   },
   "outputs": [
    {
     "name": "stdout",
     "output_type": "stream",
     "text": [
      "Accuracy: 0.9782691574532978\n",
      "Precision: 0.9498069498069498\n",
      "Recall: 0.8482758620689655\n"
     ]
    }
   ],
   "source": [
    "from sklearn.ensemble import RandomForestClassifier\n",
    "from sklearn.model_selection import train_test_split\n",
    "from sklearn.metrics import accuracy_score\n",
    "from sklearn.metrics import precision_score\n",
    "from sklearn.metrics import recall_score\n",
    "\n",
    "x = df[['customer_visit_score', 'customer_product_search_score', 'customer_ctr_score', 'customer_stay_score', 'customer_frequency_score', 'customer_product_variation_score', 'customer_order_score', 'customer_affinity_score','customer_active_segment','X1']]\n",
    "y = df['customer_category']\n",
    "\n",
    "x_train, x_test, y_train, y_test = train_test_split(x, y)\n",
    "model = RandomForestClassifier()\n",
    "model.fit(x_train, y_train)\n",
    "y_predicted = model.predict(x_test)\n",
    "\n",
    "print(\"Accuracy:\", accuracy_score(y_test, y_predicted))\n",
    "print(\"Precision:\", precision_score(y_test, y_predicted))\n",
    "print(\"Recall:\", recall_score(y_test, y_predicted))\n"
   ]
  },
  {
   "cell_type": "code",
   "execution_count": 27,
   "id": "institutional-vanilla",
   "metadata": {
    "scrolled": true
   },
   "outputs": [
    {
     "data": {
      "image/png": "[encoded data removed]",
      "text/plain": [
       "<Figure size 600x480 with 1 Axes>"
      ]
     },
     "metadata": {},
     "output_type": "display_data"
    }
   ],
   "source": [
    "feat_importances = pandas.Series(model.feature_importances_, index=x.columns)\n",
    "feat_importances.nlargest(10).plot(kind='barh')\n",
    "plt.show()"
   ]
  },
  {
   "cell_type": "code",
   "execution_count": 28,
   "id": "prescription-walter",
   "metadata": {},
   "outputs": [
    {
     "name": "stdout",
     "output_type": "stream",
     "text": [
      "Accuracy: 0.9752192146397255\n",
      "Precision: 0.9407665505226481\n",
      "Recall: 0.8490566037735849\n"
     ]
    }
   ],
   "source": [
    "x_new = df[['customer_ctr_score','customer_stay_score','customer_visit_score']]\n",
    "y_new = df['customer_category']\n",
    "\n",
    "x_train, x_test, y_train, y_test = train_test_split(x_new, y_new)\n",
    "model = RandomForestClassifier()\n",
    "model.fit(x_train, y_train)\n",
    "y_predicted = model.predict(x_test)\n",
    "\n",
    "print(\"Accuracy:\", accuracy_score(y_test, y_predicted))\n",
    "print(\"Precision:\", precision_score(y_test, y_predicted))\n",
    "print(\"Recall:\", recall_score(y_test, y_predicted))"
   ]
  },
  {
   "cell_type": "code",
   "execution_count": null,
   "id": "median-exercise",
   "metadata": {},
   "outputs": [],
   "source": []
  }
 ],
 "metadata": {
  "kernelspec": {
   "display_name": "Python 3",
   "language": "python",
   "name": "python3"
  },
  "language_info": {
   "codemirror_mode": {
    "name": "ipython",
    "version": 3
   },
   "file_extension": ".py",
   "mimetype": "text/x-python",
   "name": "python",
   "nbconvert_exporter": "python",
   "pygments_lexer": "ipython3",
   "version": "3.7.9"
  }
 },
 "nbformat": 4,
 "nbformat_minor": 5
}
