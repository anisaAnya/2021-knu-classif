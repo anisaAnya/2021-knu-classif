import pandas as pd


df = pd.read_csv("train.csv")
df = df.sample(frac=0.7, replace=False).sort_index()
df

import numpy as np

cat_cols = df.columns[-3:]
num_cols = df.columns[1:-3]

for col in df.columns:
    df[col] = df[col].fillna(np.random.choice(df[col].unique()))
    
normalized_df = df.copy()
normalized_df[num_cols] = normalized_df[num_cols].apply(lambda x: (x - x.min()) / (x.max() - x.min()))

normalized_df
from sklearn.preprocessing import LabelEncoder


le = LabelEncoder()
normalized_df[cat_cols] = normalized_df[cat_cols].apply(lambda x: le.fit_transform(x))
normalized_df = normalized_df.drop(["customer_id"], axis=1)

normalized_df
from scipy.stats import zscore


filtered = normalized_df.copy()
filtered = filtered[(np.abs(zscore(filtered)) < 3).all(axis=1)]
filtered
from sklearn.ensemble import RandomForestClassifier
from sklearn.model_selection import train_test_split
from sklearn import metrics


X = filtered.copy()
X = X.drop(['customer_category'], 1)
y = filtered['customer_category']

X_train, X_test, y_train, y_test = train_test_split(X, y, test_size=0.2)
from sklearn.model_selection import RandomizedSearchCV
from sklearn.neighbors import KNeighborsClassifier
from sklearn.naive_bayes import GaussianNB
from sklearn.svm import SVC
from sklearn.linear_model import LogisticRegression
from sklearn.model_selection import cross_val_score
from sklearn.tree import DecisionTreeClassifier


forest = RandomForestClassifier()
params = {
    'n_estimators': [25, 50, 75, 100, 125, 150, 200, 250, 300],
    'max_features': ['auto', 'sqrt', 'log2'],
    'max_depth': [None, 1, 2, 3, 5, 10, 15, 20, 50, 100],
    'min_samples_split': [1, 2, 3, 4, 5, 6, 7, 8, 9],
    'min_samples_leaf': [1, 2, 3, 4, 5]
}

best_search = RandomizedSearchCV(forest, params)
best_search.fit(X, y)
best_search.best_params_
neighbors = KNeighborsClassifier()
params = {
    'n_neighbors': [5, 10, 25, 50, 75, 100, 125, 150, 200],
    'algorithm': ['auto', 'ball_tree', 'kd_tree', 'brute'],
    'leaf_size': [2, 5, 10, 20, 50],
    'weights': ['uniform', 'distance']
}

best_search = RandomizedSearchCV(neighbors, params)
best_search.fit(X, y)
best_search.best_params_
svc = SVC()
params = {
    'kernel': ['linear', 'poly', 'rbf', 'sigmoid'],
    'gamma': ['scale', 'auto'],
    'shrinking': [True, False],
    'probability': [True, False]
}

best_search = RandomizedSearchCV(svc, params)
best_search.fit(X, y)
best_search.best_params_
dectree = DecisionTreeClassifier()
params = {
    'max_depth': [None, 1, 2, 3, 5, 10, 15, 20, 50, 100],
    'min_samples_split': [1, 2, 3, 4, 5, 6, 7, 8, 9],
    'max_features': ['auto', 'sqrt', 'log2']
}

best_search = RandomizedSearchCV(dectree, params)
best_search.fit(X, y)
best_search.best_params_
