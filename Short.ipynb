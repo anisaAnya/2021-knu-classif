{
 "cells": [
  {
   "cell_type": "code",
   "execution_count": 1,
   "id": "demanding-shelter",
   "metadata": {},
   "outputs": [],
   "source": [
    "import pandas\n",
    "import matplotlib.pyplot as plt\n",
    "import seaborn\n",
    "import numpy as np\n",
    "from sklearn.preprocessing import LabelEncoder\n",
    "from scipy import stats\n",
    "plt.style.use(\"dark_background\")\n",
    "plt.rcParams[\"figure.figsize\"] = [10/1.2, 8/1.2]\n",
    "df = pandas.read_csv(\"train.csv\")\n",
    "df.drop(\"customer_id\", inplace=True, axis=1)\n",
    "df = df.dropna()"
   ]
  },
  {
   "cell_type": "code",
   "execution_count": 2,
   "id": "fundamental-advisory",
   "metadata": {},
   "outputs": [],
   "source": [
    "colums_to_normalize = ['customer_visit_score', 'customer_product_search_score', 'customer_ctr_score', 'customer_stay_score', 'customer_frequency_score', 'customer_product_variation_score', 'customer_order_score', 'customer_affinity_score']\n",
    "df[colums_to_normalize] = df[colums_to_normalize].apply(lambda x: (x-x.min())/(x.max()-x.min()))"
   ]
  },
  {
   "cell_type": "code",
   "execution_count": 3,
   "id": "significant-testament",
   "metadata": {},
   "outputs": [],
   "source": [
    "categorical_cols = df.columns[8:11]\n",
    "le = LabelEncoder()\n",
    "df[categorical_cols] = df[categorical_cols].apply(lambda col: le.fit_transform(col))"
   ]
  },
  {
   "cell_type": "code",
   "execution_count": 4,
   "id": "representative-possession",
   "metadata": {},
   "outputs": [],
   "source": [
    "z_scores = stats.zscore(df)\n",
    "abs_z_scores = np.abs(z_scores)\n",
    "filtered_entries = (abs_z_scores < 3).all(axis=1)\n",
    "df_ro = df[filtered_entries]"
   ]
  },
  {
   "cell_type": "code",
   "execution_count": 5,
   "id": "reserved-gibson",
   "metadata": {},
   "outputs": [
    {
     "name": "stdout",
     "output_type": "stream",
     "text": [
      "Accuracy: 0.9770318021201413\n",
      "Precision: 0.9166666666666666\n",
      "Recall: 0.7674418604651163\n"
     ]
    }
   ],
   "source": [
    "from sklearn.ensemble import RandomForestClassifier\n",
    "from sklearn.model_selection import train_test_split\n",
    "from sklearn.metrics import accuracy_score\n",
    "from sklearn.metrics import precision_score\n",
    "from sklearn.metrics import recall_score\n",
    "\n",
    "x = df_ro[['customer_ctr_score','customer_stay_score','customer_visit_score']]\n",
    "y = df_ro['customer_category']\n",
    "\n",
    "x_train, x_test, y_train, y_test = train_test_split(x, y)\n",
    "model = RandomForestClassifier()\n",
    "model.fit(x_train, y_train)\n",
    "y_predicted = model.predict(x_test)\n",
    "\n",
    "print(\"Accuracy:\", accuracy_score(y_test, y_predicted))\n",
    "print(\"Precision:\", precision_score(y_test, y_predicted))\n",
    "print(\"Recall:\", recall_score(y_test, y_predicted))\n"
   ]
  },
  {
   "cell_type": "code",
   "execution_count": 6,
   "id": "extensive-credits",
   "metadata": {},
   "outputs": [],
   "source": [
    "from sklearn.metrics import roc_curve\n",
    "from sklearn.metrics import roc_auc_score\n",
    "def plot_roc_curve(fpr, tpr):\n",
    "    plt.plot(fpr, tpr, color='orange', label='ROC')\n",
    "    plt.plot([0, 1], [0, 1], color='darkblue', linestyle='--')\n",
    "    plt.xlabel('False Positive Rate')\n",
    "    plt.ylabel('True Positive Rate')\n",
    "    plt.title('Receiver Operating Characteristic (ROC) Curve')\n",
    "    plt.legend()\n",
    "    plt.show()"
   ]
  },
  {
   "cell_type": "code",
   "execution_count": 7,
   "id": "under-opening",
   "metadata": {},
   "outputs": [
    {
     "name": "stdout",
     "output_type": "stream",
     "text": [
      "AUC: 0.93\n"
     ]
    },
    {
     "data": {
      "image/png": "[encoded data removed]",
      "text/plain": [
       "<Figure size 600x480 with 1 Axes>"
      ]
     },
     "metadata": {},
     "output_type": "display_data"
    }
   ],
   "source": [
    "probs = model.predict_proba(x_test)\n",
    "probs = probs[:, 1]\n",
    "auc = roc_auc_score(y_test, probs)\n",
    "print('AUC: %.2f' % auc)\n",
    "fpr, tpr, thresholds = roc_curve(y_test, probs)\n",
    "plot_roc_curve(fpr, tpr)"
   ]
  },
  {
   "cell_type": "code",
   "execution_count": 19,
   "id": "discrete-seafood",
   "metadata": {
    "scrolled": true
   },
   "outputs": [
    {
     "data": {
      "text/plain": [
       "{'n_estimators': 500,\n",
       " 'min_samples_split': 3,\n",
       " 'min_samples_leaf': 4,\n",
       " 'max_features': 7,\n",
       " 'max_depth': None}"
      ]
     },
     "execution_count": 19,
     "metadata": {},
     "output_type": "execute_result"
    }
   ],
   "source": [
    "from sklearn.model_selection import RandomizedSearchCV\n",
    "\n",
    "x = df_ro[df_ro.columns[:-1]]\n",
    "y = df_ro['customer_category']\n",
    "x_train, x_test, y_train, y_test = train_test_split(x, y)\n",
    "\n",
    "params = {'max_depth': [3, 5, 10, 15, None],\n",
    "          'n_estimators': [10, 100, 200, 300, 400, 500],\n",
    "          'max_features': [1, 2, 3, 4, 5, 6, 7, 8, 9],\n",
    "          'min_samples_split': [2, 3, 4],\n",
    "          'min_samples_leaf': [1, 2, 3, 4],\n",
    "              }\n",
    "rnd_search = RandomizedSearchCV(RandomForestClassifier(), params)\n",
    "rnd_search.fit(x,y)\n",
    "rnd_search.best_params_"
   ]
  },
  {
   "cell_type": "code",
   "execution_count": 20,
   "id": "prime-provider",
   "metadata": {
    "scrolled": true
   },
   "outputs": [
    {
     "name": "stdout",
     "output_type": "stream",
     "text": [
      "Usual Random forest:  0.8657243816254417\n",
      "Random forest with better parametrs:  0.9748233215547704\n"
     ]
    }
   ],
   "source": [
    "par_model = RandomForestClassifier(n_estimators=500, min_samples_split=3, min_samples_leaf=4, max_features=7, max_depth=None)\n",
    "par_model.fit(x_train, y_train)\n",
    "par_y_predicted = par_model.predict(x_test)\n",
    "\n",
    "print(\"Usual Random forest: \", accuracy_score(y_test, y_predicted))\n",
    "print(\"Random forest with better parametrs: \", accuracy_score(y_test, par_y_predicted))"
   ]
  },
  {
   "cell_type": "code",
   "execution_count": null,
   "id": "opening-cylinder",
   "metadata": {},
   "outputs": [],
   "source": []
  }
 ],
 "metadata": {
  "kernelspec": {
   "display_name": "Python 3",
   "language": "python",
   "name": "python3"
  },
  "language_info": {
   "codemirror_mode": {
    "name": "ipython",
    "version": 3
   },
   "file_extension": ".py",
   "mimetype": "text/x-python",
   "name": "python",
   "nbconvert_exporter": "python",
   "pygments_lexer": "ipython3",
   "version": "3.7.9"
  }
 },
 "nbformat": 4,
 "nbformat_minor": 5
}
