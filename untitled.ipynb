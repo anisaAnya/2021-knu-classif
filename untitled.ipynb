{
 "cells": [
  {
   "cell_type": "code",
   "execution_count": 1,
   "id": "particular-interaction",
   "metadata": {},
   "outputs": [
    {
     "name": "stdout",
     "output_type": "stream",
     "text": [
      "size:  125892 \n",
      "\n",
      "shape:  (10491, 12) \n",
      "\n",
      "columns:  ['customer_id', 'customer_visit_score', 'customer_product_search_score', 'customer_ctr_score', 'customer_stay_score', 'customer_frequency_score', 'customer_product_variation_score', 'customer_order_score', 'customer_affinity_score', 'customer_active_segment', 'X1', 'customer_category'] \n",
      "\n",
      "type of each column:\n",
      " customer_id                          object\n",
      "customer_visit_score                float64\n",
      "customer_product_search_score       float64\n",
      "customer_ctr_score                  float64\n",
      "customer_stay_score                 float64\n",
      "customer_frequency_score            float64\n",
      "customer_product_variation_score    float64\n",
      "customer_order_score                float64\n",
      "customer_affinity_score             float64\n",
      "customer_active_segment              object\n",
      "X1                                   object\n",
      "customer_category                     int64\n",
      "dtype: object\n"
     ]
    }
   ],
   "source": [
    "import pandas\n",
    "import matplotlib.pyplot as plt\n",
    "import seaborn\n",
    "import numpy as np\n",
    "from scipy import stats\n",
    "from sklearn.preprocessing import LabelEncoder\n",
    "import warnings\n",
    "warnings.simplefilter(action='ignore', category=FutureWarning)\n",
    "dt = pandas.read_csv(\"train.csv\", encoding=\"utf-8\")\n",
    "dtest = pandas.read_csv(\"test.csv\", encoding=\"utf-8\")\n",
    "dt = dt.dropna()\n",
    "print(\"size: \", dt.size, \"\\n\")\n",
    "print(\"shape: \", dt.shape, \"\\n\")\n",
    "print(\"columns: \", list(dt.columns), \"\\n\")\n",
    "print(\"type of each column:\\n\", dt.dtypes)"
   ]
  },
  {
   "cell_type": "code",
   "execution_count": 2,
   "id": "three-methodology",
   "metadata": {},
   "outputs": [
    {
     "data": {
      "text/html": [
       "<div>\n",
       "<style scoped>\n",
       "    .dataframe tbody tr th:only-of-type {\n",
       "        vertical-align: middle;\n",
       "    }\n",
       "\n",
       "    .dataframe tbody tr th {\n",
       "        vertical-align: top;\n",
       "    }\n",
       "\n",
       "    .dataframe thead th {\n",
       "        text-align: right;\n",
       "    }\n",
       "</style>\n",
       "<table border=\"1\" class=\"dataframe\">\n",
       "  <thead>\n",
       "    <tr style=\"text-align: right;\">\n",
       "      <th></th>\n",
       "      <th>customer_id</th>\n",
       "      <th>customer_visit_score</th>\n",
       "      <th>customer_product_search_score</th>\n",
       "      <th>customer_ctr_score</th>\n",
       "      <th>customer_stay_score</th>\n",
       "      <th>customer_frequency_score</th>\n",
       "      <th>customer_product_variation_score</th>\n",
       "      <th>customer_order_score</th>\n",
       "      <th>customer_affinity_score</th>\n",
       "      <th>customer_active_segment</th>\n",
       "      <th>X1</th>\n",
       "      <th>customer_category</th>\n",
       "    </tr>\n",
       "  </thead>\n",
       "  <tbody>\n",
       "    <tr>\n",
       "      <th>0</th>\n",
       "      <td>csid_1</td>\n",
       "      <td>13.168425</td>\n",
       "      <td>9.447662</td>\n",
       "      <td>-0.070203</td>\n",
       "      <td>-0.139541</td>\n",
       "      <td>0.436956</td>\n",
       "      <td>4.705761</td>\n",
       "      <td>2.537985</td>\n",
       "      <td>7.959503</td>\n",
       "      <td>C</td>\n",
       "      <td>F</td>\n",
       "      <td>0</td>\n",
       "    </tr>\n",
       "    <tr>\n",
       "      <th>1</th>\n",
       "      <td>csid_2</td>\n",
       "      <td>17.092979</td>\n",
       "      <td>7.329056</td>\n",
       "      <td>0.153298</td>\n",
       "      <td>-0.102726</td>\n",
       "      <td>0.380340</td>\n",
       "      <td>4.205138</td>\n",
       "      <td>4.193444</td>\n",
       "      <td>17.517381</td>\n",
       "      <td>C</td>\n",
       "      <td>A</td>\n",
       "      <td>0</td>\n",
       "    </tr>\n",
       "    <tr>\n",
       "      <th>2</th>\n",
       "      <td>csid_3</td>\n",
       "      <td>17.505334</td>\n",
       "      <td>5.143676</td>\n",
       "      <td>0.106709</td>\n",
       "      <td>0.262834</td>\n",
       "      <td>0.417648</td>\n",
       "      <td>4.479070</td>\n",
       "      <td>3.878971</td>\n",
       "      <td>12.595155</td>\n",
       "      <td>C</td>\n",
       "      <td>BA</td>\n",
       "      <td>0</td>\n",
       "    </tr>\n",
       "    <tr>\n",
       "      <th>3</th>\n",
       "      <td>csid_4</td>\n",
       "      <td>31.423381</td>\n",
       "      <td>4.917740</td>\n",
       "      <td>-0.020226</td>\n",
       "      <td>-0.100526</td>\n",
       "      <td>0.778130</td>\n",
       "      <td>5.055535</td>\n",
       "      <td>2.708940</td>\n",
       "      <td>4.795073</td>\n",
       "      <td>AA</td>\n",
       "      <td>F</td>\n",
       "      <td>0</td>\n",
       "    </tr>\n",
       "    <tr>\n",
       "      <th>4</th>\n",
       "      <td>csid_5</td>\n",
       "      <td>11.909502</td>\n",
       "      <td>4.237073</td>\n",
       "      <td>0.187178</td>\n",
       "      <td>0.172891</td>\n",
       "      <td>0.162067</td>\n",
       "      <td>3.445247</td>\n",
       "      <td>3.677360</td>\n",
       "      <td>56.636326</td>\n",
       "      <td>C</td>\n",
       "      <td>AA</td>\n",
       "      <td>0</td>\n",
       "    </tr>\n",
       "    <tr>\n",
       "      <th>...</th>\n",
       "      <td>...</td>\n",
       "      <td>...</td>\n",
       "      <td>...</td>\n",
       "      <td>...</td>\n",
       "      <td>...</td>\n",
       "      <td>...</td>\n",
       "      <td>...</td>\n",
       "      <td>...</td>\n",
       "      <td>...</td>\n",
       "      <td>...</td>\n",
       "      <td>...</td>\n",
       "      <td>...</td>\n",
       "    </tr>\n",
       "    <tr>\n",
       "      <th>10733</th>\n",
       "      <td>csid_10734</td>\n",
       "      <td>23.672615</td>\n",
       "      <td>6.701514</td>\n",
       "      <td>0.092879</td>\n",
       "      <td>-0.017332</td>\n",
       "      <td>1.210397</td>\n",
       "      <td>7.003663</td>\n",
       "      <td>3.027084</td>\n",
       "      <td>1.952911</td>\n",
       "      <td>C</td>\n",
       "      <td>BA</td>\n",
       "      <td>0</td>\n",
       "    </tr>\n",
       "    <tr>\n",
       "      <th>10734</th>\n",
       "      <td>csid_10735</td>\n",
       "      <td>25.673028</td>\n",
       "      <td>6.497796</td>\n",
       "      <td>0.050216</td>\n",
       "      <td>-0.047211</td>\n",
       "      <td>0.725230</td>\n",
       "      <td>5.407507</td>\n",
       "      <td>3.104172</td>\n",
       "      <td>5.124286</td>\n",
       "      <td>C</td>\n",
       "      <td>BA</td>\n",
       "      <td>0</td>\n",
       "    </tr>\n",
       "    <tr>\n",
       "      <th>10735</th>\n",
       "      <td>csid_10736</td>\n",
       "      <td>31.676844</td>\n",
       "      <td>7.799880</td>\n",
       "      <td>0.062961</td>\n",
       "      <td>-0.032765</td>\n",
       "      <td>0.318118</td>\n",
       "      <td>5.598486</td>\n",
       "      <td>2.403051</td>\n",
       "      <td>21.864188</td>\n",
       "      <td>A</td>\n",
       "      <td>BA</td>\n",
       "      <td>0</td>\n",
       "    </tr>\n",
       "    <tr>\n",
       "      <th>10736</th>\n",
       "      <td>csid_10737</td>\n",
       "      <td>28.441780</td>\n",
       "      <td>5.588302</td>\n",
       "      <td>-0.093931</td>\n",
       "      <td>0.081586</td>\n",
       "      <td>0.132177</td>\n",
       "      <td>3.616492</td>\n",
       "      <td>4.972243</td>\n",
       "      <td>86.969977</td>\n",
       "      <td>B</td>\n",
       "      <td>AA</td>\n",
       "      <td>0</td>\n",
       "    </tr>\n",
       "    <tr>\n",
       "      <th>10737</th>\n",
       "      <td>csid_10738</td>\n",
       "      <td>20.663035</td>\n",
       "      <td>4.478301</td>\n",
       "      <td>0.253165</td>\n",
       "      <td>0.381349</td>\n",
       "      <td>0.504904</td>\n",
       "      <td>4.181092</td>\n",
       "      <td>4.469215</td>\n",
       "      <td>27.770899</td>\n",
       "      <td>B</td>\n",
       "      <td>A</td>\n",
       "      <td>0</td>\n",
       "    </tr>\n",
       "  </tbody>\n",
       "</table>\n",
       "<p>10491 rows × 12 columns</p>\n",
       "</div>"
      ],
      "text/plain": [
       "      customer_id  customer_visit_score  customer_product_search_score  \\\n",
       "0          csid_1             13.168425                       9.447662   \n",
       "1          csid_2             17.092979                       7.329056   \n",
       "2          csid_3             17.505334                       5.143676   \n",
       "3          csid_4             31.423381                       4.917740   \n",
       "4          csid_5             11.909502                       4.237073   \n",
       "...           ...                   ...                            ...   \n",
       "10733  csid_10734             23.672615                       6.701514   \n",
       "10734  csid_10735             25.673028                       6.497796   \n",
       "10735  csid_10736             31.676844                       7.799880   \n",
       "10736  csid_10737             28.441780                       5.588302   \n",
       "10737  csid_10738             20.663035                       4.478301   \n",
       "\n",
       "       customer_ctr_score  customer_stay_score  customer_frequency_score  \\\n",
       "0               -0.070203            -0.139541                  0.436956   \n",
       "1                0.153298            -0.102726                  0.380340   \n",
       "2                0.106709             0.262834                  0.417648   \n",
       "3               -0.020226            -0.100526                  0.778130   \n",
       "4                0.187178             0.172891                  0.162067   \n",
       "...                   ...                  ...                       ...   \n",
       "10733            0.092879            -0.017332                  1.210397   \n",
       "10734            0.050216            -0.047211                  0.725230   \n",
       "10735            0.062961            -0.032765                  0.318118   \n",
       "10736           -0.093931             0.081586                  0.132177   \n",
       "10737            0.253165             0.381349                  0.504904   \n",
       "\n",
       "       customer_product_variation_score  customer_order_score  \\\n",
       "0                              4.705761              2.537985   \n",
       "1                              4.205138              4.193444   \n",
       "2                              4.479070              3.878971   \n",
       "3                              5.055535              2.708940   \n",
       "4                              3.445247              3.677360   \n",
       "...                                 ...                   ...   \n",
       "10733                          7.003663              3.027084   \n",
       "10734                          5.407507              3.104172   \n",
       "10735                          5.598486              2.403051   \n",
       "10736                          3.616492              4.972243   \n",
       "10737                          4.181092              4.469215   \n",
       "\n",
       "       customer_affinity_score customer_active_segment  X1  customer_category  \n",
       "0                     7.959503                       C   F                  0  \n",
       "1                    17.517381                       C   A                  0  \n",
       "2                    12.595155                       C  BA                  0  \n",
       "3                     4.795073                      AA   F                  0  \n",
       "4                    56.636326                       C  AA                  0  \n",
       "...                        ...                     ...  ..                ...  \n",
       "10733                 1.952911                       C  BA                  0  \n",
       "10734                 5.124286                       C  BA                  0  \n",
       "10735                21.864188                       A  BA                  0  \n",
       "10736                86.969977                       B  AA                  0  \n",
       "10737                27.770899                       B   A                  0  \n",
       "\n",
       "[10491 rows x 12 columns]"
      ]
     },
     "execution_count": 2,
     "metadata": {},
     "output_type": "execute_result"
    }
   ],
   "source": [
    "dt"
   ]
  },
  {
   "cell_type": "code",
   "execution_count": 3,
   "id": "amber-queue",
   "metadata": {},
   "outputs": [
    {
     "data": {
      "text/plain": [
       "{'whiskers': [<matplotlib.lines.Line2D at 0x1b21add8>,\n",
       "  <matplotlib.lines.Line2D at 0x1b21af88>],\n",
       " 'caps': [<matplotlib.lines.Line2D at 0x1b230178>,\n",
       "  <matplotlib.lines.Line2D at 0x1b230328>],\n",
       " 'boxes': [<matplotlib.lines.Line2D at 0x57370b8>],\n",
       " 'medians': [<matplotlib.lines.Line2D at 0x1b2304d8>],\n",
       " 'fliers': [<matplotlib.lines.Line2D at 0x1b230688>],\n",
       " 'means': []}"
      ]
     },
     "execution_count": 3,
     "metadata": {},
     "output_type": "execute_result"
    },
    {
     "data": {
      "image/png": "[encoded data removed]",
      "text/plain": [
       "<Figure size 432x288 with 1 Axes>"
      ]
     },
     "metadata": {
      "needs_background": "light"
     },
     "output_type": "display_data"
    }
   ],
   "source": [
    "plt.boxplot(dt.customer_visit_score,notch=True)"
   ]
  },
  {
   "cell_type": "code",
   "execution_count": 4,
   "id": "choice-belief",
   "metadata": {},
   "outputs": [
    {
     "data": {
      "text/plain": [
       "{'whiskers': [<matplotlib.lines.Line2D at 0x1c3d0e08>,\n",
       "  <matplotlib.lines.Line2D at 0x1c3d0fb8>],\n",
       " 'caps': [<matplotlib.lines.Line2D at 0x1c3df190>,\n",
       "  <matplotlib.lines.Line2D at 0x1c3df340>],\n",
       " 'boxes': [<matplotlib.lines.Line2D at 0x1c3d0c40>],\n",
       " 'medians': [<matplotlib.lines.Line2D at 0x1c3df4f0>],\n",
       " 'fliers': [<matplotlib.lines.Line2D at 0x1c3df6a0>],\n",
       " 'means': []}"
      ]
     },
     "execution_count": 4,
     "metadata": {},
     "output_type": "execute_result"
    },
    {
     "data": {
      "image/png": "[encoded data removed]",
      "text/plain": [
       "<Figure size 432x288 with 1 Axes>"
      ]
     },
     "metadata": {
      "needs_background": "light"
     },
     "output_type": "display_data"
    }
   ],
   "source": [
    "plt.boxplot(dt.customer_product_search_score.dropna(),notch=True)"
   ]
  },
  {
   "cell_type": "code",
   "execution_count": 5,
   "id": "bound-ballet",
   "metadata": {},
   "outputs": [
    {
     "data": {
      "text/plain": [
       "{'whiskers': [<matplotlib.lines.Line2D at 0x1c4105c8>,\n",
       "  <matplotlib.lines.Line2D at 0x1c410778>],\n",
       " 'caps': [<matplotlib.lines.Line2D at 0x1c410928>,\n",
       "  <matplotlib.lines.Line2D at 0x1c410ad8>],\n",
       " 'boxes': [<matplotlib.lines.Line2D at 0x1c410418>],\n",
       " 'medians': [<matplotlib.lines.Line2D at 0x1c410c88>],\n",
       " 'fliers': [<matplotlib.lines.Line2D at 0x1c410e38>],\n",
       " 'means': []}"
      ]
     },
     "execution_count": 5,
     "metadata": {},
     "output_type": "execute_result"
    },
    {
     "data": {
      "image/png": "[encoded data removed]",
      "text/plain": [
       "<Figure size 432x288 with 1 Axes>"
      ]
     },
     "metadata": {
      "needs_background": "light"
     },
     "output_type": "display_data"
    }
   ],
   "source": [
    "plt.boxplot(dt.customer_ctr_score,notch=True)"
   ]
  },
  {
   "cell_type": "code",
   "execution_count": 6,
   "id": "determined-oasis",
   "metadata": {},
   "outputs": [
    {
     "data": {
      "text/plain": [
       "{'whiskers': [<matplotlib.lines.Line2D at 0x1c442ef8>,\n",
       "  <matplotlib.lines.Line2D at 0x1c4530d0>],\n",
       " 'caps': [<matplotlib.lines.Line2D at 0x1c453280>,\n",
       "  <matplotlib.lines.Line2D at 0x1c453430>],\n",
       " 'boxes': [<matplotlib.lines.Line2D at 0x1c442d48>],\n",
       " 'medians': [<matplotlib.lines.Line2D at 0x1c4535e0>],\n",
       " 'fliers': [<matplotlib.lines.Line2D at 0x1c453790>],\n",
       " 'means': []}"
      ]
     },
     "execution_count": 6,
     "metadata": {},
     "output_type": "execute_result"
    },
    {
     "data": {
      "image/png": "[encoded data removed]",
      "text/plain": [
       "<Figure size 432x288 with 1 Axes>"
      ]
     },
     "metadata": {
      "needs_background": "light"
     },
     "output_type": "display_data"
    }
   ],
   "source": [
    "plt.boxplot(dt.customer_stay_score.dropna(),notch=True)"
   ]
  },
  {
   "cell_type": "code",
   "execution_count": 7,
   "id": "virtual-sugar",
   "metadata": {},
   "outputs": [
    {
     "data": {
      "text/plain": [
       "{'whiskers': [<matplotlib.lines.Line2D at 0x1c4837d8>,\n",
       "  <matplotlib.lines.Line2D at 0x1c483988>],\n",
       " 'caps': [<matplotlib.lines.Line2D at 0x1c483b38>,\n",
       "  <matplotlib.lines.Line2D at 0x1c483ce8>],\n",
       " 'boxes': [<matplotlib.lines.Line2D at 0x1c483628>],\n",
       " 'medians': [<matplotlib.lines.Line2D at 0x1c483e98>],\n",
       " 'fliers': [<matplotlib.lines.Line2D at 0x1c493070>],\n",
       " 'means': []}"
      ]
     },
     "execution_count": 7,
     "metadata": {},
     "output_type": "execute_result"
    },
    {
     "data": {
      "image/png": "[encoded data removed]",
      "text/plain": [
       "<Figure size 432x288 with 1 Axes>"
      ]
     },
     "metadata": {
      "needs_background": "light"
     },
     "output_type": "display_data"
    }
   ],
   "source": [
    "plt.boxplot(dt.customer_frequency_score,notch=True)"
   ]
  },
  {
   "cell_type": "code",
   "execution_count": 8,
   "id": "lightweight-setting",
   "metadata": {},
   "outputs": [
    {
     "data": {
      "text/plain": [
       "{'whiskers': [<matplotlib.lines.Line2D at 0x1c4b6b80>,\n",
       "  <matplotlib.lines.Line2D at 0x1c4b6d30>],\n",
       " 'caps': [<matplotlib.lines.Line2D at 0x1c4b6ee0>,\n",
       "  <matplotlib.lines.Line2D at 0x1c4c50b8>],\n",
       " 'boxes': [<matplotlib.lines.Line2D at 0x1c4b69d0>],\n",
       " 'medians': [<matplotlib.lines.Line2D at 0x1c4c5268>],\n",
       " 'fliers': [<matplotlib.lines.Line2D at 0x1c4c5418>],\n",
       " 'means': []}"
      ]
     },
     "execution_count": 8,
     "metadata": {},
     "output_type": "execute_result"
    },
    {
     "data": {
      "image/png": "[encoded data removed]",
      "text/plain": [
       "<Figure size 432x288 with 1 Axes>"
      ]
     },
     "metadata": {
      "needs_background": "light"
     },
     "output_type": "display_data"
    }
   ],
   "source": [
    "plt.boxplot(dt.customer_product_variation_score.dropna(),notch=True)"
   ]
  },
  {
   "cell_type": "code",
   "execution_count": 9,
   "id": "weekly-anxiety",
   "metadata": {},
   "outputs": [
    {
     "data": {
      "text/plain": [
       "{'whiskers': [<matplotlib.lines.Line2D at 0x1c4fa3e8>,\n",
       "  <matplotlib.lines.Line2D at 0x1c4fa598>],\n",
       " 'caps': [<matplotlib.lines.Line2D at 0x1c4fa748>,\n",
       "  <matplotlib.lines.Line2D at 0x1c4fa8f8>],\n",
       " 'boxes': [<matplotlib.lines.Line2D at 0x1c4fa238>],\n",
       " 'medians': [<matplotlib.lines.Line2D at 0x1c4faaa8>],\n",
       " 'fliers': [<matplotlib.lines.Line2D at 0x1c4fac58>],\n",
       " 'means': []}"
      ]
     },
     "execution_count": 9,
     "metadata": {},
     "output_type": "execute_result"
    },
    {
     "data": {
      "image/png": "[encoded data removed]",
      "text/plain": [
       "<Figure size 432x288 with 1 Axes>"
      ]
     },
     "metadata": {
      "needs_background": "light"
     },
     "output_type": "display_data"
    }
   ],
   "source": [
    "plt.boxplot(dt.customer_order_score.dropna(),notch=True)"
   ]
  },
  {
   "cell_type": "code",
   "execution_count": 10,
   "id": "surface-dominant",
   "metadata": {},
   "outputs": [
    {
     "data": {
      "text/plain": [
       "{'whiskers': [<matplotlib.lines.Line2D at 0x1c531250>,\n",
       "  <matplotlib.lines.Line2D at 0x1c531400>],\n",
       " 'caps': [<matplotlib.lines.Line2D at 0x1c5315b0>,\n",
       "  <matplotlib.lines.Line2D at 0x1c531760>],\n",
       " 'boxes': [<matplotlib.lines.Line2D at 0x1c5310a0>],\n",
       " 'medians': [<matplotlib.lines.Line2D at 0x1c531910>],\n",
       " 'fliers': [<matplotlib.lines.Line2D at 0x1c531ac0>],\n",
       " 'means': []}"
      ]
     },
     "execution_count": 10,
     "metadata": {},
     "output_type": "execute_result"
    },
    {
     "data": {
      "image/png": "[encoded data removed]",
      "text/plain": [
       "<Figure size 432x288 with 1 Axes>"
      ]
     },
     "metadata": {
      "needs_background": "light"
     },
     "output_type": "display_data"
    }
   ],
   "source": [
    "plt.boxplot(dt.customer_affinity_score,notch=True)"
   ]
  },
  {
   "cell_type": "code",
   "execution_count": 11,
   "id": "roman-corps",
   "metadata": {},
   "outputs": [
    {
     "data": {
      "image/png": "[encoded data removed]",
      "text/plain": [
       "<Figure size 432x288 with 1 Axes>"
      ]
     },
     "metadata": {
      "needs_background": "light"
     },
     "output_type": "display_data"
    }
   ],
   "source": [
    "cas_dict=dict(dt.customer_active_segment.value_counts(sort=False))\n",
    "\n",
    "plt.title(\"Customer active segment barplot\")\n",
    "\n",
    "plt.bar(cas_dict.keys(), cas_dict.values())\n",
    "plt.xlabel(\"Classes\")\n",
    "plt.ylabel(\"Amount of people of each class\")\n",
    "\n",
    "plt.show()"
   ]
  },
  {
   "cell_type": "code",
   "execution_count": 12,
   "id": "heated-reference",
   "metadata": {},
   "outputs": [
    {
     "data": {
      "image/png": "[encoded data removed]",
      "text/plain": [
       "<Figure size 432x288 with 1 Axes>"
      ]
     },
     "metadata": {
      "needs_background": "light"
     },
     "output_type": "display_data"
    }
   ],
   "source": [
    "x1_dict=dict(dt.X1.value_counts(sort=False))\n",
    "\n",
    "plt.title(\"X1 barplot\")\n",
    "\n",
    "plt.bar(x1_dict.keys(), x1_dict.values())\n",
    "plt.xlabel(\"Classes\")\n",
    "plt.ylabel(\"Amount of people of each class\")\n",
    "\n",
    "plt.show()"
   ]
  },
  {
   "cell_type": "code",
   "execution_count": 13,
   "id": "dietary-worse",
   "metadata": {},
   "outputs": [
    {
     "data": {
      "text/plain": [
       "<matplotlib.collections.PathCollection at 0x1c432d90>"
      ]
     },
     "execution_count": 13,
     "metadata": {},
     "output_type": "execute_result"
    },
    {
     "data": {
      "image/png": "[encoded data removed]",
      "text/plain": [
       "<Figure size 432x288 with 1 Axes>"
      ]
     },
     "metadata": {
      "needs_background": "light"
     },
     "output_type": "display_data"
    }
   ],
   "source": [
    "plt.scatter(dt.customer_visit_score, dt.customer_order_score)"
   ]
  },
  {
   "cell_type": "code",
   "execution_count": 14,
   "id": "dangerous-singapore",
   "metadata": {},
   "outputs": [
    {
     "data": {
      "text/plain": [
       "customer_visit_score                19.045315\n",
       "customer_product_search_score        5.276097\n",
       "customer_ctr_score                   0.176529\n",
       "customer_stay_score                  0.375900\n",
       "customer_frequency_score             2.390171\n",
       "customer_product_variation_score     5.793689\n",
       "customer_order_score                 3.150056\n",
       "customer_affinity_score             17.053776\n",
       "customer_category                    0.120961\n",
       "dtype: float64"
      ]
     },
     "execution_count": 14,
     "metadata": {},
     "output_type": "execute_result"
    }
   ],
   "source": [
    "dt.mean()"
   ]
  },
  {
   "cell_type": "code",
   "execution_count": 15,
   "id": "vertical-cisco",
   "metadata": {},
   "outputs": [
    {
     "data": {
      "text/plain": [
       "customer_visit_score                 7.410739\n",
       "customer_product_search_score        1.883255\n",
       "customer_ctr_score                   0.374141\n",
       "customer_stay_score                  1.227358\n",
       "customer_frequency_score             5.626505\n",
       "customer_product_variation_score     2.536464\n",
       "customer_order_score                 1.037183\n",
       "customer_affinity_score             18.835444\n",
       "customer_category                    0.326097\n",
       "dtype: float64"
      ]
     },
     "execution_count": 15,
     "metadata": {},
     "output_type": "execute_result"
    }
   ],
   "source": [
    "dt.std()"
   ]
  },
  {
   "cell_type": "code",
   "execution_count": 16,
   "id": "vertical-maldives",
   "metadata": {},
   "outputs": [
    {
     "data": {
      "text/html": [
       "<div>\n",
       "<style scoped>\n",
       "    .dataframe tbody tr th:only-of-type {\n",
       "        vertical-align: middle;\n",
       "    }\n",
       "\n",
       "    .dataframe tbody tr th {\n",
       "        vertical-align: top;\n",
       "    }\n",
       "\n",
       "    .dataframe thead th {\n",
       "        text-align: right;\n",
       "    }\n",
       "</style>\n",
       "<table border=\"1\" class=\"dataframe\">\n",
       "  <thead>\n",
       "    <tr style=\"text-align: right;\">\n",
       "      <th></th>\n",
       "      <th>customer_visit_score</th>\n",
       "      <th>customer_product_search_score</th>\n",
       "      <th>customer_ctr_score</th>\n",
       "      <th>customer_stay_score</th>\n",
       "      <th>customer_frequency_score</th>\n",
       "      <th>customer_product_variation_score</th>\n",
       "      <th>customer_order_score</th>\n",
       "      <th>customer_affinity_score</th>\n",
       "      <th>customer_category</th>\n",
       "    </tr>\n",
       "  </thead>\n",
       "  <tbody>\n",
       "    <tr>\n",
       "      <th>customer_visit_score</th>\n",
       "      <td>1.000000</td>\n",
       "      <td>0.275355</td>\n",
       "      <td>-0.569854</td>\n",
       "      <td>-0.475129</td>\n",
       "      <td>-0.211943</td>\n",
       "      <td>-0.221562</td>\n",
       "      <td>0.171515</td>\n",
       "      <td>0.118932</td>\n",
       "      <td>-0.449501</td>\n",
       "    </tr>\n",
       "    <tr>\n",
       "      <th>customer_product_search_score</th>\n",
       "      <td>0.275355</td>\n",
       "      <td>1.000000</td>\n",
       "      <td>-0.415561</td>\n",
       "      <td>-0.414471</td>\n",
       "      <td>-0.022742</td>\n",
       "      <td>-0.065763</td>\n",
       "      <td>0.049241</td>\n",
       "      <td>0.043319</td>\n",
       "      <td>-0.300151</td>\n",
       "    </tr>\n",
       "    <tr>\n",
       "      <th>customer_ctr_score</th>\n",
       "      <td>-0.569854</td>\n",
       "      <td>-0.415561</td>\n",
       "      <td>1.000000</td>\n",
       "      <td>0.909241</td>\n",
       "      <td>0.421412</td>\n",
       "      <td>0.448735</td>\n",
       "      <td>-0.343172</td>\n",
       "      <td>-0.232725</td>\n",
       "      <td>0.793852</td>\n",
       "    </tr>\n",
       "    <tr>\n",
       "      <th>customer_stay_score</th>\n",
       "      <td>-0.475129</td>\n",
       "      <td>-0.414471</td>\n",
       "      <td>0.909241</td>\n",
       "      <td>1.000000</td>\n",
       "      <td>0.402413</td>\n",
       "      <td>0.407295</td>\n",
       "      <td>-0.312002</td>\n",
       "      <td>-0.210212</td>\n",
       "      <td>0.678401</td>\n",
       "    </tr>\n",
       "    <tr>\n",
       "      <th>customer_frequency_score</th>\n",
       "      <td>-0.211943</td>\n",
       "      <td>-0.022742</td>\n",
       "      <td>0.421412</td>\n",
       "      <td>0.402413</td>\n",
       "      <td>1.000000</td>\n",
       "      <td>0.701687</td>\n",
       "      <td>-0.533257</td>\n",
       "      <td>-0.325495</td>\n",
       "      <td>0.390522</td>\n",
       "    </tr>\n",
       "    <tr>\n",
       "      <th>customer_product_variation_score</th>\n",
       "      <td>-0.221562</td>\n",
       "      <td>-0.065763</td>\n",
       "      <td>0.448735</td>\n",
       "      <td>0.407295</td>\n",
       "      <td>0.701687</td>\n",
       "      <td>1.000000</td>\n",
       "      <td>-0.694472</td>\n",
       "      <td>-0.524955</td>\n",
       "      <td>0.493653</td>\n",
       "    </tr>\n",
       "    <tr>\n",
       "      <th>customer_order_score</th>\n",
       "      <td>0.171515</td>\n",
       "      <td>0.049241</td>\n",
       "      <td>-0.343172</td>\n",
       "      <td>-0.312002</td>\n",
       "      <td>-0.533257</td>\n",
       "      <td>-0.694472</td>\n",
       "      <td>1.000000</td>\n",
       "      <td>0.764188</td>\n",
       "      <td>-0.385063</td>\n",
       "    </tr>\n",
       "    <tr>\n",
       "      <th>customer_affinity_score</th>\n",
       "      <td>0.118932</td>\n",
       "      <td>0.043319</td>\n",
       "      <td>-0.232725</td>\n",
       "      <td>-0.210212</td>\n",
       "      <td>-0.325495</td>\n",
       "      <td>-0.524955</td>\n",
       "      <td>0.764188</td>\n",
       "      <td>1.000000</td>\n",
       "      <td>-0.272859</td>\n",
       "    </tr>\n",
       "    <tr>\n",
       "      <th>customer_category</th>\n",
       "      <td>-0.449501</td>\n",
       "      <td>-0.300151</td>\n",
       "      <td>0.793852</td>\n",
       "      <td>0.678401</td>\n",
       "      <td>0.390522</td>\n",
       "      <td>0.493653</td>\n",
       "      <td>-0.385063</td>\n",
       "      <td>-0.272859</td>\n",
       "      <td>1.000000</td>\n",
       "    </tr>\n",
       "  </tbody>\n",
       "</table>\n",
       "</div>"
      ],
      "text/plain": [
       "                                  customer_visit_score  \\\n",
       "customer_visit_score                          1.000000   \n",
       "customer_product_search_score                 0.275355   \n",
       "customer_ctr_score                           -0.569854   \n",
       "customer_stay_score                          -0.475129   \n",
       "customer_frequency_score                     -0.211943   \n",
       "customer_product_variation_score             -0.221562   \n",
       "customer_order_score                          0.171515   \n",
       "customer_affinity_score                       0.118932   \n",
       "customer_category                            -0.449501   \n",
       "\n",
       "                                  customer_product_search_score  \\\n",
       "customer_visit_score                                   0.275355   \n",
       "customer_product_search_score                          1.000000   \n",
       "customer_ctr_score                                    -0.415561   \n",
       "customer_stay_score                                   -0.414471   \n",
       "customer_frequency_score                              -0.022742   \n",
       "customer_product_variation_score                      -0.065763   \n",
       "customer_order_score                                   0.049241   \n",
       "customer_affinity_score                                0.043319   \n",
       "customer_category                                     -0.300151   \n",
       "\n",
       "                                  customer_ctr_score  customer_stay_score  \\\n",
       "customer_visit_score                       -0.569854            -0.475129   \n",
       "customer_product_search_score              -0.415561            -0.414471   \n",
       "customer_ctr_score                          1.000000             0.909241   \n",
       "customer_stay_score                         0.909241             1.000000   \n",
       "customer_frequency_score                    0.421412             0.402413   \n",
       "customer_product_variation_score            0.448735             0.407295   \n",
       "customer_order_score                       -0.343172            -0.312002   \n",
       "customer_affinity_score                    -0.232725            -0.210212   \n",
       "customer_category                           0.793852             0.678401   \n",
       "\n",
       "                                  customer_frequency_score  \\\n",
       "customer_visit_score                             -0.211943   \n",
       "customer_product_search_score                    -0.022742   \n",
       "customer_ctr_score                                0.421412   \n",
       "customer_stay_score                               0.402413   \n",
       "customer_frequency_score                          1.000000   \n",
       "customer_product_variation_score                  0.701687   \n",
       "customer_order_score                             -0.533257   \n",
       "customer_affinity_score                          -0.325495   \n",
       "customer_category                                 0.390522   \n",
       "\n",
       "                                  customer_product_variation_score  \\\n",
       "customer_visit_score                                     -0.221562   \n",
       "customer_product_search_score                            -0.065763   \n",
       "customer_ctr_score                                        0.448735   \n",
       "customer_stay_score                                       0.407295   \n",
       "customer_frequency_score                                  0.701687   \n",
       "customer_product_variation_score                          1.000000   \n",
       "customer_order_score                                     -0.694472   \n",
       "customer_affinity_score                                  -0.524955   \n",
       "customer_category                                         0.493653   \n",
       "\n",
       "                                  customer_order_score  \\\n",
       "customer_visit_score                          0.171515   \n",
       "customer_product_search_score                 0.049241   \n",
       "customer_ctr_score                           -0.343172   \n",
       "customer_stay_score                          -0.312002   \n",
       "customer_frequency_score                     -0.533257   \n",
       "customer_product_variation_score             -0.694472   \n",
       "customer_order_score                          1.000000   \n",
       "customer_affinity_score                       0.764188   \n",
       "customer_category                            -0.385063   \n",
       "\n",
       "                                  customer_affinity_score  customer_category  \n",
       "customer_visit_score                             0.118932          -0.449501  \n",
       "customer_product_search_score                    0.043319          -0.300151  \n",
       "customer_ctr_score                              -0.232725           0.793852  \n",
       "customer_stay_score                             -0.210212           0.678401  \n",
       "customer_frequency_score                        -0.325495           0.390522  \n",
       "customer_product_variation_score                -0.524955           0.493653  \n",
       "customer_order_score                             0.764188          -0.385063  \n",
       "customer_affinity_score                          1.000000          -0.272859  \n",
       "customer_category                               -0.272859           1.000000  "
      ]
     },
     "execution_count": 16,
     "metadata": {},
     "output_type": "execute_result"
    }
   ],
   "source": [
    "dt.corr()"
   ]
  },
  {
   "cell_type": "code",
   "execution_count": 17,
   "id": "atmospheric-gossip",
   "metadata": {},
   "outputs": [
    {
     "data": {
      "text/plain": [
       "customer_active_segment\n",
       "A      402\n",
       "AA     402\n",
       "B     4350\n",
       "C     4815\n",
       "D      522\n",
       "dtype: int64"
      ]
     },
     "execution_count": 17,
     "metadata": {},
     "output_type": "execute_result"
    }
   ],
   "source": [
    "dt.groupby(dt.customer_active_segment).size()"
   ]
  },
  {
   "cell_type": "code",
   "execution_count": 18,
   "id": "sudden-boring",
   "metadata": {},
   "outputs": [
    {
     "data": {
      "text/plain": [
       "X1\n",
       "A     2215\n",
       "AA    1574\n",
       "BA    4427\n",
       "E       75\n",
       "F     2200\n",
       "dtype: int64"
      ]
     },
     "execution_count": 18,
     "metadata": {},
     "output_type": "execute_result"
    }
   ],
   "source": [
    "dt.groupby(dt.X1).size()"
   ]
  },
  {
   "cell_type": "code",
   "execution_count": 19,
   "id": "funded-pacific",
   "metadata": {},
   "outputs": [
    {
     "data": {
      "text/plain": [
       "customer_category\n",
       "0    9222\n",
       "1    1269\n",
       "dtype: int64"
      ]
     },
     "execution_count": 19,
     "metadata": {},
     "output_type": "execute_result"
    }
   ],
   "source": [
    "dt.groupby(dt.customer_category).size()"
   ]
  },
  {
   "cell_type": "code",
   "execution_count": 20,
   "id": "exposed-oxford",
   "metadata": {},
   "outputs": [
    {
     "data": {
      "text/html": [
       "<div>\n",
       "<style scoped>\n",
       "    .dataframe tbody tr th:only-of-type {\n",
       "        vertical-align: middle;\n",
       "    }\n",
       "\n",
       "    .dataframe tbody tr th {\n",
       "        vertical-align: top;\n",
       "    }\n",
       "\n",
       "    .dataframe thead th {\n",
       "        text-align: right;\n",
       "    }\n",
       "</style>\n",
       "<table border=\"1\" class=\"dataframe\">\n",
       "  <thead>\n",
       "    <tr style=\"text-align: right;\">\n",
       "      <th></th>\n",
       "      <th>customer_id</th>\n",
       "      <th>customer_visit_score</th>\n",
       "      <th>customer_product_search_score</th>\n",
       "      <th>customer_ctr_score</th>\n",
       "      <th>customer_stay_score</th>\n",
       "      <th>customer_frequency_score</th>\n",
       "      <th>customer_product_variation_score</th>\n",
       "      <th>customer_order_score</th>\n",
       "      <th>customer_affinity_score</th>\n",
       "      <th>customer_active_segment</th>\n",
       "      <th>X1</th>\n",
       "      <th>customer_category</th>\n",
       "    </tr>\n",
       "  </thead>\n",
       "  <tbody>\n",
       "    <tr>\n",
       "      <th>0</th>\n",
       "      <td>csid_1</td>\n",
       "      <td>0.269578</td>\n",
       "      <td>0.571994</td>\n",
       "      <td>0.148038</td>\n",
       "      <td>0.021297</td>\n",
       "      <td>0.007799</td>\n",
       "      <td>0.122126</td>\n",
       "      <td>0.249190</td>\n",
       "      <td>0.033916</td>\n",
       "      <td>C</td>\n",
       "      <td>F</td>\n",
       "      <td>0</td>\n",
       "    </tr>\n",
       "    <tr>\n",
       "      <th>1</th>\n",
       "      <td>csid_2</td>\n",
       "      <td>0.353548</td>\n",
       "      <td>0.445888</td>\n",
       "      <td>0.217287</td>\n",
       "      <td>0.023724</td>\n",
       "      <td>0.006717</td>\n",
       "      <td>0.090820</td>\n",
       "      <td>0.438887</td>\n",
       "      <td>0.072295</td>\n",
       "      <td>C</td>\n",
       "      <td>A</td>\n",
       "      <td>0</td>\n",
       "    </tr>\n",
       "    <tr>\n",
       "      <th>2</th>\n",
       "      <td>csid_3</td>\n",
       "      <td>0.362370</td>\n",
       "      <td>0.315807</td>\n",
       "      <td>0.202852</td>\n",
       "      <td>0.047831</td>\n",
       "      <td>0.007430</td>\n",
       "      <td>0.107950</td>\n",
       "      <td>0.402852</td>\n",
       "      <td>0.052530</td>\n",
       "      <td>C</td>\n",
       "      <td>BA</td>\n",
       "      <td>0</td>\n",
       "    </tr>\n",
       "    <tr>\n",
       "      <th>3</th>\n",
       "      <td>csid_4</td>\n",
       "      <td>0.660161</td>\n",
       "      <td>0.302359</td>\n",
       "      <td>0.163523</td>\n",
       "      <td>0.023870</td>\n",
       "      <td>0.014314</td>\n",
       "      <td>0.144000</td>\n",
       "      <td>0.268779</td>\n",
       "      <td>0.021209</td>\n",
       "      <td>AA</td>\n",
       "      <td>F</td>\n",
       "      <td>0</td>\n",
       "    </tr>\n",
       "    <tr>\n",
       "      <th>4</th>\n",
       "      <td>csid_5</td>\n",
       "      <td>0.242642</td>\n",
       "      <td>0.261843</td>\n",
       "      <td>0.227785</td>\n",
       "      <td>0.041900</td>\n",
       "      <td>0.002549</td>\n",
       "      <td>0.043300</td>\n",
       "      <td>0.379749</td>\n",
       "      <td>0.229374</td>\n",
       "      <td>C</td>\n",
       "      <td>AA</td>\n",
       "      <td>0</td>\n",
       "    </tr>\n",
       "    <tr>\n",
       "      <th>...</th>\n",
       "      <td>...</td>\n",
       "      <td>...</td>\n",
       "      <td>...</td>\n",
       "      <td>...</td>\n",
       "      <td>...</td>\n",
       "      <td>...</td>\n",
       "      <td>...</td>\n",
       "      <td>...</td>\n",
       "      <td>...</td>\n",
       "      <td>...</td>\n",
       "      <td>...</td>\n",
       "      <td>...</td>\n",
       "    </tr>\n",
       "    <tr>\n",
       "      <th>10733</th>\n",
       "      <td>csid_10734</td>\n",
       "      <td>0.494325</td>\n",
       "      <td>0.408534</td>\n",
       "      <td>0.198567</td>\n",
       "      <td>0.029356</td>\n",
       "      <td>0.022568</td>\n",
       "      <td>0.265826</td>\n",
       "      <td>0.305235</td>\n",
       "      <td>0.009797</td>\n",
       "      <td>C</td>\n",
       "      <td>BA</td>\n",
       "      <td>0</td>\n",
       "    </tr>\n",
       "    <tr>\n",
       "      <th>10734</th>\n",
       "      <td>csid_10735</td>\n",
       "      <td>0.537126</td>\n",
       "      <td>0.396409</td>\n",
       "      <td>0.185348</td>\n",
       "      <td>0.027385</td>\n",
       "      <td>0.013303</td>\n",
       "      <td>0.166010</td>\n",
       "      <td>0.314068</td>\n",
       "      <td>0.022531</td>\n",
       "      <td>C</td>\n",
       "      <td>BA</td>\n",
       "      <td>0</td>\n",
       "    </tr>\n",
       "    <tr>\n",
       "      <th>10735</th>\n",
       "      <td>csid_10736</td>\n",
       "      <td>0.665584</td>\n",
       "      <td>0.473913</td>\n",
       "      <td>0.189297</td>\n",
       "      <td>0.028338</td>\n",
       "      <td>0.005529</td>\n",
       "      <td>0.177953</td>\n",
       "      <td>0.233728</td>\n",
       "      <td>0.089749</td>\n",
       "      <td>A</td>\n",
       "      <td>BA</td>\n",
       "      <td>0</td>\n",
       "    </tr>\n",
       "    <tr>\n",
       "      <th>10736</th>\n",
       "      <td>csid_10737</td>\n",
       "      <td>0.596367</td>\n",
       "      <td>0.342273</td>\n",
       "      <td>0.140686</td>\n",
       "      <td>0.035879</td>\n",
       "      <td>0.001978</td>\n",
       "      <td>0.054009</td>\n",
       "      <td>0.528128</td>\n",
       "      <td>0.351176</td>\n",
       "      <td>B</td>\n",
       "      <td>AA</td>\n",
       "      <td>0</td>\n",
       "    </tr>\n",
       "    <tr>\n",
       "      <th>10737</th>\n",
       "      <td>csid_10738</td>\n",
       "      <td>0.429933</td>\n",
       "      <td>0.276202</td>\n",
       "      <td>0.248230</td>\n",
       "      <td>0.055646</td>\n",
       "      <td>0.009096</td>\n",
       "      <td>0.089316</td>\n",
       "      <td>0.470487</td>\n",
       "      <td>0.113467</td>\n",
       "      <td>B</td>\n",
       "      <td>A</td>\n",
       "      <td>0</td>\n",
       "    </tr>\n",
       "  </tbody>\n",
       "</table>\n",
       "<p>10491 rows × 12 columns</p>\n",
       "</div>"
      ],
      "text/plain": [
       "      customer_id  customer_visit_score  customer_product_search_score  \\\n",
       "0          csid_1              0.269578                       0.571994   \n",
       "1          csid_2              0.353548                       0.445888   \n",
       "2          csid_3              0.362370                       0.315807   \n",
       "3          csid_4              0.660161                       0.302359   \n",
       "4          csid_5              0.242642                       0.261843   \n",
       "...           ...                   ...                            ...   \n",
       "10733  csid_10734              0.494325                       0.408534   \n",
       "10734  csid_10735              0.537126                       0.396409   \n",
       "10735  csid_10736              0.665584                       0.473913   \n",
       "10736  csid_10737              0.596367                       0.342273   \n",
       "10737  csid_10738              0.429933                       0.276202   \n",
       "\n",
       "       customer_ctr_score  customer_stay_score  customer_frequency_score  \\\n",
       "0                0.148038             0.021297                  0.007799   \n",
       "1                0.217287             0.023724                  0.006717   \n",
       "2                0.202852             0.047831                  0.007430   \n",
       "3                0.163523             0.023870                  0.014314   \n",
       "4                0.227785             0.041900                  0.002549   \n",
       "...                   ...                  ...                       ...   \n",
       "10733            0.198567             0.029356                  0.022568   \n",
       "10734            0.185348             0.027385                  0.013303   \n",
       "10735            0.189297             0.028338                  0.005529   \n",
       "10736            0.140686             0.035879                  0.001978   \n",
       "10737            0.248230             0.055646                  0.009096   \n",
       "\n",
       "       customer_product_variation_score  customer_order_score  \\\n",
       "0                              0.122126              0.249190   \n",
       "1                              0.090820              0.438887   \n",
       "2                              0.107950              0.402852   \n",
       "3                              0.144000              0.268779   \n",
       "4                              0.043300              0.379749   \n",
       "...                                 ...                   ...   \n",
       "10733                          0.265826              0.305235   \n",
       "10734                          0.166010              0.314068   \n",
       "10735                          0.177953              0.233728   \n",
       "10736                          0.054009              0.528128   \n",
       "10737                          0.089316              0.470487   \n",
       "\n",
       "       customer_affinity_score customer_active_segment  X1  customer_category  \n",
       "0                     0.033916                       C   F                  0  \n",
       "1                     0.072295                       C   A                  0  \n",
       "2                     0.052530                       C  BA                  0  \n",
       "3                     0.021209                      AA   F                  0  \n",
       "4                     0.229374                       C  AA                  0  \n",
       "...                        ...                     ...  ..                ...  \n",
       "10733                 0.009797                       C  BA                  0  \n",
       "10734                 0.022531                       C  BA                  0  \n",
       "10735                 0.089749                       A  BA                  0  \n",
       "10736                 0.351176                       B  AA                  0  \n",
       "10737                 0.113467                       B   A                  0  \n",
       "\n",
       "[10491 rows x 12 columns]"
      ]
     },
     "execution_count": 20,
     "metadata": {},
     "output_type": "execute_result"
    }
   ],
   "source": [
    "colums_to_normalize = ['customer_visit_score', 'customer_product_search_score', 'customer_ctr_score', 'customer_stay_score', 'customer_frequency_score', 'customer_product_variation_score', 'customer_order_score', 'customer_affinity_score']\n",
    "dt[colums_to_normalize] = dt[colums_to_normalize].apply(lambda x: (x-x.min())/(x.max()-x.min()))\n",
    "dt"
   ]
  },
  {
   "cell_type": "code",
   "execution_count": 21,
   "id": "alive-determination",
   "metadata": {},
   "outputs": [
    {
     "data": {
      "text/plain": [
       "<AxesSubplot:>"
      ]
     },
     "execution_count": 21,
     "metadata": {},
     "output_type": "execute_result"
    },
    {
     "data": {
      "image/png": "[encoded data removed]",
      "text/plain": [
       "<Figure size 432x288 with 2 Axes>"
      ]
     },
     "metadata": {
      "needs_background": "light"
     },
     "output_type": "display_data"
    }
   ],
   "source": [
    "seaborn.heatmap(dt.corr())"
   ]
  },
  {
   "cell_type": "code",
   "execution_count": 22,
   "id": "popular-punishment",
   "metadata": {},
   "outputs": [
    {
     "data": {
      "text/html": [
       "<div>\n",
       "<style scoped>\n",
       "    .dataframe tbody tr th:only-of-type {\n",
       "        vertical-align: middle;\n",
       "    }\n",
       "\n",
       "    .dataframe tbody tr th {\n",
       "        vertical-align: top;\n",
       "    }\n",
       "\n",
       "    .dataframe thead th {\n",
       "        text-align: right;\n",
       "    }\n",
       "</style>\n",
       "<table border=\"1\" class=\"dataframe\">\n",
       "  <thead>\n",
       "    <tr style=\"text-align: right;\">\n",
       "      <th></th>\n",
       "      <th>customer_id</th>\n",
       "      <th>customer_visit_score</th>\n",
       "      <th>customer_product_search_score</th>\n",
       "      <th>customer_ctr_score</th>\n",
       "      <th>customer_stay_score</th>\n",
       "      <th>customer_frequency_score</th>\n",
       "      <th>customer_product_variation_score</th>\n",
       "      <th>customer_order_score</th>\n",
       "      <th>customer_affinity_score</th>\n",
       "      <th>customer_active_segment</th>\n",
       "      <th>X1</th>\n",
       "      <th>customer_category</th>\n",
       "    </tr>\n",
       "  </thead>\n",
       "  <tbody>\n",
       "    <tr>\n",
       "      <th>0</th>\n",
       "      <td>csid_1</td>\n",
       "      <td>0.269578</td>\n",
       "      <td>0.571994</td>\n",
       "      <td>0.148038</td>\n",
       "      <td>0.021297</td>\n",
       "      <td>0.007799</td>\n",
       "      <td>0.122126</td>\n",
       "      <td>0.249190</td>\n",
       "      <td>0.033916</td>\n",
       "      <td>3</td>\n",
       "      <td>4</td>\n",
       "      <td>0</td>\n",
       "    </tr>\n",
       "    <tr>\n",
       "      <th>1</th>\n",
       "      <td>csid_2</td>\n",
       "      <td>0.353548</td>\n",
       "      <td>0.445888</td>\n",
       "      <td>0.217287</td>\n",
       "      <td>0.023724</td>\n",
       "      <td>0.006717</td>\n",
       "      <td>0.090820</td>\n",
       "      <td>0.438887</td>\n",
       "      <td>0.072295</td>\n",
       "      <td>3</td>\n",
       "      <td>0</td>\n",
       "      <td>0</td>\n",
       "    </tr>\n",
       "    <tr>\n",
       "      <th>2</th>\n",
       "      <td>csid_3</td>\n",
       "      <td>0.362370</td>\n",
       "      <td>0.315807</td>\n",
       "      <td>0.202852</td>\n",
       "      <td>0.047831</td>\n",
       "      <td>0.007430</td>\n",
       "      <td>0.107950</td>\n",
       "      <td>0.402852</td>\n",
       "      <td>0.052530</td>\n",
       "      <td>3</td>\n",
       "      <td>2</td>\n",
       "      <td>0</td>\n",
       "    </tr>\n",
       "    <tr>\n",
       "      <th>3</th>\n",
       "      <td>csid_4</td>\n",
       "      <td>0.660161</td>\n",
       "      <td>0.302359</td>\n",
       "      <td>0.163523</td>\n",
       "      <td>0.023870</td>\n",
       "      <td>0.014314</td>\n",
       "      <td>0.144000</td>\n",
       "      <td>0.268779</td>\n",
       "      <td>0.021209</td>\n",
       "      <td>1</td>\n",
       "      <td>4</td>\n",
       "      <td>0</td>\n",
       "    </tr>\n",
       "    <tr>\n",
       "      <th>4</th>\n",
       "      <td>csid_5</td>\n",
       "      <td>0.242642</td>\n",
       "      <td>0.261843</td>\n",
       "      <td>0.227785</td>\n",
       "      <td>0.041900</td>\n",
       "      <td>0.002549</td>\n",
       "      <td>0.043300</td>\n",
       "      <td>0.379749</td>\n",
       "      <td>0.229374</td>\n",
       "      <td>3</td>\n",
       "      <td>1</td>\n",
       "      <td>0</td>\n",
       "    </tr>\n",
       "    <tr>\n",
       "      <th>...</th>\n",
       "      <td>...</td>\n",
       "      <td>...</td>\n",
       "      <td>...</td>\n",
       "      <td>...</td>\n",
       "      <td>...</td>\n",
       "      <td>...</td>\n",
       "      <td>...</td>\n",
       "      <td>...</td>\n",
       "      <td>...</td>\n",
       "      <td>...</td>\n",
       "      <td>...</td>\n",
       "      <td>...</td>\n",
       "    </tr>\n",
       "    <tr>\n",
       "      <th>10733</th>\n",
       "      <td>csid_10734</td>\n",
       "      <td>0.494325</td>\n",
       "      <td>0.408534</td>\n",
       "      <td>0.198567</td>\n",
       "      <td>0.029356</td>\n",
       "      <td>0.022568</td>\n",
       "      <td>0.265826</td>\n",
       "      <td>0.305235</td>\n",
       "      <td>0.009797</td>\n",
       "      <td>3</td>\n",
       "      <td>2</td>\n",
       "      <td>0</td>\n",
       "    </tr>\n",
       "    <tr>\n",
       "      <th>10734</th>\n",
       "      <td>csid_10735</td>\n",
       "      <td>0.537126</td>\n",
       "      <td>0.396409</td>\n",
       "      <td>0.185348</td>\n",
       "      <td>0.027385</td>\n",
       "      <td>0.013303</td>\n",
       "      <td>0.166010</td>\n",
       "      <td>0.314068</td>\n",
       "      <td>0.022531</td>\n",
       "      <td>3</td>\n",
       "      <td>2</td>\n",
       "      <td>0</td>\n",
       "    </tr>\n",
       "    <tr>\n",
       "      <th>10735</th>\n",
       "      <td>csid_10736</td>\n",
       "      <td>0.665584</td>\n",
       "      <td>0.473913</td>\n",
       "      <td>0.189297</td>\n",
       "      <td>0.028338</td>\n",
       "      <td>0.005529</td>\n",
       "      <td>0.177953</td>\n",
       "      <td>0.233728</td>\n",
       "      <td>0.089749</td>\n",
       "      <td>0</td>\n",
       "      <td>2</td>\n",
       "      <td>0</td>\n",
       "    </tr>\n",
       "    <tr>\n",
       "      <th>10736</th>\n",
       "      <td>csid_10737</td>\n",
       "      <td>0.596367</td>\n",
       "      <td>0.342273</td>\n",
       "      <td>0.140686</td>\n",
       "      <td>0.035879</td>\n",
       "      <td>0.001978</td>\n",
       "      <td>0.054009</td>\n",
       "      <td>0.528128</td>\n",
       "      <td>0.351176</td>\n",
       "      <td>2</td>\n",
       "      <td>1</td>\n",
       "      <td>0</td>\n",
       "    </tr>\n",
       "    <tr>\n",
       "      <th>10737</th>\n",
       "      <td>csid_10738</td>\n",
       "      <td>0.429933</td>\n",
       "      <td>0.276202</td>\n",
       "      <td>0.248230</td>\n",
       "      <td>0.055646</td>\n",
       "      <td>0.009096</td>\n",
       "      <td>0.089316</td>\n",
       "      <td>0.470487</td>\n",
       "      <td>0.113467</td>\n",
       "      <td>2</td>\n",
       "      <td>0</td>\n",
       "      <td>0</td>\n",
       "    </tr>\n",
       "  </tbody>\n",
       "</table>\n",
       "<p>10491 rows × 12 columns</p>\n",
       "</div>"
      ],
      "text/plain": [
       "      customer_id  customer_visit_score  customer_product_search_score  \\\n",
       "0          csid_1              0.269578                       0.571994   \n",
       "1          csid_2              0.353548                       0.445888   \n",
       "2          csid_3              0.362370                       0.315807   \n",
       "3          csid_4              0.660161                       0.302359   \n",
       "4          csid_5              0.242642                       0.261843   \n",
       "...           ...                   ...                            ...   \n",
       "10733  csid_10734              0.494325                       0.408534   \n",
       "10734  csid_10735              0.537126                       0.396409   \n",
       "10735  csid_10736              0.665584                       0.473913   \n",
       "10736  csid_10737              0.596367                       0.342273   \n",
       "10737  csid_10738              0.429933                       0.276202   \n",
       "\n",
       "       customer_ctr_score  customer_stay_score  customer_frequency_score  \\\n",
       "0                0.148038             0.021297                  0.007799   \n",
       "1                0.217287             0.023724                  0.006717   \n",
       "2                0.202852             0.047831                  0.007430   \n",
       "3                0.163523             0.023870                  0.014314   \n",
       "4                0.227785             0.041900                  0.002549   \n",
       "...                   ...                  ...                       ...   \n",
       "10733            0.198567             0.029356                  0.022568   \n",
       "10734            0.185348             0.027385                  0.013303   \n",
       "10735            0.189297             0.028338                  0.005529   \n",
       "10736            0.140686             0.035879                  0.001978   \n",
       "10737            0.248230             0.055646                  0.009096   \n",
       "\n",
       "       customer_product_variation_score  customer_order_score  \\\n",
       "0                              0.122126              0.249190   \n",
       "1                              0.090820              0.438887   \n",
       "2                              0.107950              0.402852   \n",
       "3                              0.144000              0.268779   \n",
       "4                              0.043300              0.379749   \n",
       "...                                 ...                   ...   \n",
       "10733                          0.265826              0.305235   \n",
       "10734                          0.166010              0.314068   \n",
       "10735                          0.177953              0.233728   \n",
       "10736                          0.054009              0.528128   \n",
       "10737                          0.089316              0.470487   \n",
       "\n",
       "       customer_affinity_score  customer_active_segment  X1  customer_category  \n",
       "0                     0.033916                        3   4                  0  \n",
       "1                     0.072295                        3   0                  0  \n",
       "2                     0.052530                        3   2                  0  \n",
       "3                     0.021209                        1   4                  0  \n",
       "4                     0.229374                        3   1                  0  \n",
       "...                        ...                      ...  ..                ...  \n",
       "10733                 0.009797                        3   2                  0  \n",
       "10734                 0.022531                        3   2                  0  \n",
       "10735                 0.089749                        0   2                  0  \n",
       "10736                 0.351176                        2   1                  0  \n",
       "10737                 0.113467                        2   0                  0  \n",
       "\n",
       "[10491 rows x 12 columns]"
      ]
     },
     "execution_count": 22,
     "metadata": {},
     "output_type": "execute_result"
    }
   ],
   "source": [
    "categorical_cols = dt.columns[9:11]\n",
    "le = LabelEncoder()\n",
    "dt[categorical_cols] = dt[categorical_cols].apply(lambda col: le.fit_transform(col))\n",
    "dt"
   ]
  },
  {
   "cell_type": "code",
   "execution_count": 23,
   "id": "resident-singing",
   "metadata": {},
   "outputs": [
    {
     "data": {
      "text/html": [
       "<div>\n",
       "<style scoped>\n",
       "    .dataframe tbody tr th:only-of-type {\n",
       "        vertical-align: middle;\n",
       "    }\n",
       "\n",
       "    .dataframe tbody tr th {\n",
       "        vertical-align: top;\n",
       "    }\n",
       "\n",
       "    .dataframe thead th {\n",
       "        text-align: right;\n",
       "    }\n",
       "</style>\n",
       "<table border=\"1\" class=\"dataframe\">\n",
       "  <thead>\n",
       "    <tr style=\"text-align: right;\">\n",
       "      <th></th>\n",
       "      <th>customer_visit_score</th>\n",
       "      <th>customer_product_search_score</th>\n",
       "      <th>customer_ctr_score</th>\n",
       "      <th>customer_stay_score</th>\n",
       "      <th>customer_frequency_score</th>\n",
       "      <th>customer_product_variation_score</th>\n",
       "      <th>customer_order_score</th>\n",
       "      <th>customer_affinity_score</th>\n",
       "      <th>customer_active_segment</th>\n",
       "      <th>X1</th>\n",
       "      <th>customer_category</th>\n",
       "    </tr>\n",
       "  </thead>\n",
       "  <tbody>\n",
       "    <tr>\n",
       "      <th>0</th>\n",
       "      <td>0.269578</td>\n",
       "      <td>0.571994</td>\n",
       "      <td>0.148038</td>\n",
       "      <td>0.021297</td>\n",
       "      <td>0.007799</td>\n",
       "      <td>0.122126</td>\n",
       "      <td>0.249190</td>\n",
       "      <td>0.033916</td>\n",
       "      <td>3</td>\n",
       "      <td>4</td>\n",
       "      <td>0</td>\n",
       "    </tr>\n",
       "    <tr>\n",
       "      <th>1</th>\n",
       "      <td>0.353548</td>\n",
       "      <td>0.445888</td>\n",
       "      <td>0.217287</td>\n",
       "      <td>0.023724</td>\n",
       "      <td>0.006717</td>\n",
       "      <td>0.090820</td>\n",
       "      <td>0.438887</td>\n",
       "      <td>0.072295</td>\n",
       "      <td>3</td>\n",
       "      <td>0</td>\n",
       "      <td>0</td>\n",
       "    </tr>\n",
       "    <tr>\n",
       "      <th>2</th>\n",
       "      <td>0.362370</td>\n",
       "      <td>0.315807</td>\n",
       "      <td>0.202852</td>\n",
       "      <td>0.047831</td>\n",
       "      <td>0.007430</td>\n",
       "      <td>0.107950</td>\n",
       "      <td>0.402852</td>\n",
       "      <td>0.052530</td>\n",
       "      <td>3</td>\n",
       "      <td>2</td>\n",
       "      <td>0</td>\n",
       "    </tr>\n",
       "    <tr>\n",
       "      <th>3</th>\n",
       "      <td>0.660161</td>\n",
       "      <td>0.302359</td>\n",
       "      <td>0.163523</td>\n",
       "      <td>0.023870</td>\n",
       "      <td>0.014314</td>\n",
       "      <td>0.144000</td>\n",
       "      <td>0.268779</td>\n",
       "      <td>0.021209</td>\n",
       "      <td>1</td>\n",
       "      <td>4</td>\n",
       "      <td>0</td>\n",
       "    </tr>\n",
       "    <tr>\n",
       "      <th>4</th>\n",
       "      <td>0.242642</td>\n",
       "      <td>0.261843</td>\n",
       "      <td>0.227785</td>\n",
       "      <td>0.041900</td>\n",
       "      <td>0.002549</td>\n",
       "      <td>0.043300</td>\n",
       "      <td>0.379749</td>\n",
       "      <td>0.229374</td>\n",
       "      <td>3</td>\n",
       "      <td>1</td>\n",
       "      <td>0</td>\n",
       "    </tr>\n",
       "    <tr>\n",
       "      <th>...</th>\n",
       "      <td>...</td>\n",
       "      <td>...</td>\n",
       "      <td>...</td>\n",
       "      <td>...</td>\n",
       "      <td>...</td>\n",
       "      <td>...</td>\n",
       "      <td>...</td>\n",
       "      <td>...</td>\n",
       "      <td>...</td>\n",
       "      <td>...</td>\n",
       "      <td>...</td>\n",
       "    </tr>\n",
       "    <tr>\n",
       "      <th>10731</th>\n",
       "      <td>0.610325</td>\n",
       "      <td>0.390081</td>\n",
       "      <td>0.153900</td>\n",
       "      <td>0.025240</td>\n",
       "      <td>0.007759</td>\n",
       "      <td>0.127516</td>\n",
       "      <td>0.215561</td>\n",
       "      <td>0.027057</td>\n",
       "      <td>2</td>\n",
       "      <td>2</td>\n",
       "      <td>0</td>\n",
       "    </tr>\n",
       "    <tr>\n",
       "      <th>10732</th>\n",
       "      <td>0.301578</td>\n",
       "      <td>0.327601</td>\n",
       "      <td>0.183398</td>\n",
       "      <td>0.022250</td>\n",
       "      <td>0.004592</td>\n",
       "      <td>0.113201</td>\n",
       "      <td>0.380645</td>\n",
       "      <td>0.058437</td>\n",
       "      <td>3</td>\n",
       "      <td>0</td>\n",
       "      <td>0</td>\n",
       "    </tr>\n",
       "    <tr>\n",
       "      <th>10733</th>\n",
       "      <td>0.494325</td>\n",
       "      <td>0.408534</td>\n",
       "      <td>0.198567</td>\n",
       "      <td>0.029356</td>\n",
       "      <td>0.022568</td>\n",
       "      <td>0.265826</td>\n",
       "      <td>0.305235</td>\n",
       "      <td>0.009797</td>\n",
       "      <td>3</td>\n",
       "      <td>2</td>\n",
       "      <td>0</td>\n",
       "    </tr>\n",
       "    <tr>\n",
       "      <th>10734</th>\n",
       "      <td>0.537126</td>\n",
       "      <td>0.396409</td>\n",
       "      <td>0.185348</td>\n",
       "      <td>0.027385</td>\n",
       "      <td>0.013303</td>\n",
       "      <td>0.166010</td>\n",
       "      <td>0.314068</td>\n",
       "      <td>0.022531</td>\n",
       "      <td>3</td>\n",
       "      <td>2</td>\n",
       "      <td>0</td>\n",
       "    </tr>\n",
       "    <tr>\n",
       "      <th>10737</th>\n",
       "      <td>0.429933</td>\n",
       "      <td>0.276202</td>\n",
       "      <td>0.248230</td>\n",
       "      <td>0.055646</td>\n",
       "      <td>0.009096</td>\n",
       "      <td>0.089316</td>\n",
       "      <td>0.470487</td>\n",
       "      <td>0.113467</td>\n",
       "      <td>2</td>\n",
       "      <td>0</td>\n",
       "      <td>0</td>\n",
       "    </tr>\n",
       "  </tbody>\n",
       "</table>\n",
       "<p>9056 rows × 11 columns</p>\n",
       "</div>"
      ],
      "text/plain": [
       "       customer_visit_score  customer_product_search_score  \\\n",
       "0                  0.269578                       0.571994   \n",
       "1                  0.353548                       0.445888   \n",
       "2                  0.362370                       0.315807   \n",
       "3                  0.660161                       0.302359   \n",
       "4                  0.242642                       0.261843   \n",
       "...                     ...                            ...   \n",
       "10731              0.610325                       0.390081   \n",
       "10732              0.301578                       0.327601   \n",
       "10733              0.494325                       0.408534   \n",
       "10734              0.537126                       0.396409   \n",
       "10737              0.429933                       0.276202   \n",
       "\n",
       "       customer_ctr_score  customer_stay_score  customer_frequency_score  \\\n",
       "0                0.148038             0.021297                  0.007799   \n",
       "1                0.217287             0.023724                  0.006717   \n",
       "2                0.202852             0.047831                  0.007430   \n",
       "3                0.163523             0.023870                  0.014314   \n",
       "4                0.227785             0.041900                  0.002549   \n",
       "...                   ...                  ...                       ...   \n",
       "10731            0.153900             0.025240                  0.007759   \n",
       "10732            0.183398             0.022250                  0.004592   \n",
       "10733            0.198567             0.029356                  0.022568   \n",
       "10734            0.185348             0.027385                  0.013303   \n",
       "10737            0.248230             0.055646                  0.009096   \n",
       "\n",
       "       customer_product_variation_score  customer_order_score  \\\n",
       "0                              0.122126              0.249190   \n",
       "1                              0.090820              0.438887   \n",
       "2                              0.107950              0.402852   \n",
       "3                              0.144000              0.268779   \n",
       "4                              0.043300              0.379749   \n",
       "...                                 ...                   ...   \n",
       "10731                          0.127516              0.215561   \n",
       "10732                          0.113201              0.380645   \n",
       "10733                          0.265826              0.305235   \n",
       "10734                          0.166010              0.314068   \n",
       "10737                          0.089316              0.470487   \n",
       "\n",
       "       customer_affinity_score  customer_active_segment  X1  customer_category  \n",
       "0                     0.033916                        3   4                  0  \n",
       "1                     0.072295                        3   0                  0  \n",
       "2                     0.052530                        3   2                  0  \n",
       "3                     0.021209                        1   4                  0  \n",
       "4                     0.229374                        3   1                  0  \n",
       "...                        ...                      ...  ..                ...  \n",
       "10731                 0.027057                        2   2                  0  \n",
       "10732                 0.058437                        3   0                  0  \n",
       "10733                 0.009797                        3   2                  0  \n",
       "10734                 0.022531                        3   2                  0  \n",
       "10737                 0.113467                        2   0                  0  \n",
       "\n",
       "[9056 rows x 11 columns]"
      ]
     },
     "execution_count": 23,
     "metadata": {},
     "output_type": "execute_result"
    }
   ],
   "source": [
    "from scipy import stats\n",
    "dt=dt[['customer_visit_score', 'customer_product_search_score', 'customer_ctr_score', 'customer_stay_score', 'customer_frequency_score', 'customer_product_variation_score', 'customer_order_score', 'customer_affinity_score','customer_active_segment','X1','customer_category']]\n",
    "dt = dt[(np.abs(stats.zscore(dt)) < 3).all(axis=1)]\n",
    "dt"
   ]
  },
  {
   "cell_type": "code",
   "execution_count": 40,
   "id": "coupled-resident",
   "metadata": {
    "scrolled": true
   },
   "outputs": [
    {
     "name": "stdout",
     "output_type": "stream",
     "text": [
      "Accuracy: 0.9749723960250276\n",
      "Precision: 0.9135135135135135\n",
      "Recall: 0.7647058823529411\n"
     ]
    }
   ],
   "source": [
    "from sklearn import metrics\n",
    "from sklearn.ensemble import RandomForestClassifier\n",
    "from sklearn.model_selection import train_test_split\n",
    "X = dt[['customer_visit_score', 'customer_product_search_score', 'customer_ctr_score', 'customer_stay_score', 'customer_frequency_score', 'customer_product_variation_score', 'customer_order_score', 'customer_affinity_score','customer_active_segment','X1']]\n",
    "y = dt['customer_category']\n",
    "X_train, X_test, y_train, y_test = train_test_split(X, y, test_size=0.3)\n",
    "regressor = RandomForestClassifier(n_estimators=200,min_samples_split=4,min_samples_leaf=3,max_features=7,max_depth=10)\n",
    "regressor.fit(X_train, y_train)\n",
    "y_pred = regressor.predict(X_test)\n",
    "print(\"Accuracy:\",metrics.accuracy_score(y_test, y_pred))\n",
    "print(\"Precision:\",metrics.precision_score(y_test, y_pred))\n",
    "print(\"Recall:\",metrics.recall_score(y_test, y_pred))"
   ]
  },
  {
   "cell_type": "code",
   "execution_count": 41,
   "id": "attempted-block",
   "metadata": {},
   "outputs": [
    {
     "name": "stdout",
     "output_type": "stream",
     "text": [
      "Accuracy: 0.9731321310268679\n"
     ]
    }
   ],
   "source": [
    "#Feature_Selection\n",
    "from sklearn.feature_selection import SelectFromModel\n",
    "from sklearn.linear_model import Ridge\n",
    "ridge = Ridge().fit(X, y)\n",
    "model = SelectFromModel(ridge, prefit=True)\n",
    "X_transformed = model.transform(X)\n",
    "X_transformed[:5] # its customer_ctr_score and customer_stay_score\n",
    "X_train, X_test, y_train, y_test = train_test_split(X, y, test_size=0.3)\n",
    "regressor2 = RandomForestClassifier(n_estimators=200,min_samples_split=4,min_samples_leaf=3,max_features=7,max_depth=10)\n",
    "regressor2.fit(X_train, y_train)\n",
    "y_new_pred = regressor2.predict(X_test)\n",
    "print(\"Accuracy:\",metrics.accuracy_score(y_test, y_new_pred))\n"
   ]
  },
  {
   "cell_type": "code",
   "execution_count": 42,
   "id": "innovative-console",
   "metadata": {},
   "outputs": [
    {
     "data": {
      "image/png": "[encoded data removed]",
      "text/plain": [
       "<Figure size 432x288 with 1 Axes>"
      ]
     },
     "metadata": {
      "needs_background": "light"
     },
     "output_type": "display_data"
    }
   ],
   "source": [
    "#ROC\n",
    "y_pred_proba = regressor.predict_proba(X_test)[::,1]\n",
    "fpr, tpr, _ = metrics.roc_curve(y_test, y_pred_proba)\n",
    "auc = metrics.roc_auc_score(y_test, y_pred_proba)\n",
    "plt.plot(fpr,tpr,label=\"Random Forest, auc=\"+str(auc))\n",
    "plt.legend(loc=4)\n",
    "plt.ylabel('True Positive Rate')\n",
    "plt.xlabel('False Positive Rate')\n",
    "plt.show()"
   ]
  },
  {
   "cell_type": "code",
   "execution_count": 36,
   "id": "combined-purchase",
   "metadata": {},
   "outputs": [
    {
     "name": "stdout",
     "output_type": "stream",
     "text": [
      "{'n_estimators': 200, 'min_samples_split': 4, 'min_samples_leaf': 3, 'max_features': 7, 'max_depth': 10}\n"
     ]
    }
   ],
   "source": [
    "#Best params\n",
    "from sklearn.model_selection import RandomizedSearchCV\n",
    "randforest = RandomForestClassifier()\n",
    "params = {'max_depth': [3, 5, 10, 15, None],'n_estimators': [10, 100, 200, 300, 400, 500],'max_features': [1, 2, 3, 4, 5, 6, 7, 8, 9],'min_samples_split': [2, 3, 4],'min_samples_leaf': [1, 2, 3, 4]}\n",
    "randsearch = RandomizedSearchCV(randforest, params, random_state=0)\n",
    "randsearch.fit(X, y)\n",
    "best_params = randsearch.best_params_\n",
    "print(best_params)"
   ]
  },
  {
   "cell_type": "code",
   "execution_count": null,
   "id": "trained-irish",
   "metadata": {},
   "outputs": [],
   "source": []
  }
 ],
 "metadata": {
  "kernelspec": {
   "display_name": "Python 3",
   "language": "python",
   "name": "python3"
  },
  "language_info": {
   "codemirror_mode": {
    "name": "ipython",
    "version": 3
   },
   "file_extension": ".py",
   "mimetype": "text/x-python",
   "name": "python",
   "nbconvert_exporter": "python",
   "pygments_lexer": "ipython3",
   "version": "3.8.0"
  }
 },
 "nbformat": 4,
 "nbformat_minor": 5
}
